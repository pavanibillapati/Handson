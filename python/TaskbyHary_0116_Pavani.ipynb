{
 "cells": [
  {
   "cell_type": "markdown",
   "id": "c52de33e",
   "metadata": {},
   "source": [
    "1.Given a string, return the string made of its first two chars, so the String \"Hello\" yields \"He\". If the string is shorter than length 2, return whatever there is, so \"X\" yields \"X\", and the empty string \"\" yields the empty string \"\".\n",
    "\n",
    "first_two('Hello') → 'He'\n",
    "first_two('abcdefg') → 'ab'\n",
    "first_two('ab') → 'ab'"
   ]
  },
  {
   "cell_type": "code",
   "execution_count": 25,
   "id": "8ea67a82",
   "metadata": {},
   "outputs": [],
   "source": [
    "def first_two(input_string):\n",
    "    if input_string:\n",
    "        return ''.join(input_string[0:2])\n",
    "    else:\n",
    "        return ''   "
   ]
  },
  {
   "cell_type": "code",
   "execution_count": 32,
   "id": "6251fc18",
   "metadata": {},
   "outputs": [
    {
     "data": {
      "text/plain": [
       "'He'"
      ]
     },
     "execution_count": 32,
     "metadata": {},
     "output_type": "execute_result"
    }
   ],
   "source": [
    "first_two('Hello')"
   ]
  },
  {
   "cell_type": "code",
   "execution_count": 33,
   "id": "55ea7a1b",
   "metadata": {},
   "outputs": [
    {
     "data": {
      "text/plain": [
       "'ab'"
      ]
     },
     "execution_count": 33,
     "metadata": {},
     "output_type": "execute_result"
    }
   ],
   "source": [
    "first_two('abcdefg')"
   ]
  },
  {
   "cell_type": "code",
   "execution_count": 34,
   "id": "22ef817b",
   "metadata": {},
   "outputs": [
    {
     "data": {
      "text/plain": [
       "'ab'"
      ]
     },
     "execution_count": 34,
     "metadata": {},
     "output_type": "execute_result"
    }
   ],
   "source": [
    "first_two('ab')"
   ]
  },
  {
   "cell_type": "markdown",
   "id": "e1b6fb24",
   "metadata": {},
   "source": [
    "2.Given a string, return a new string made of 3 copies of the last 2 chars of the original string. The string length will be at least 2.\n",
    "\n",
    "extra_end('Hello') → 'lololo'\n",
    "extra_end('ab') → 'ababab'\n",
    "extra_end('Hi') → 'HiHiHi'"
   ]
  },
  {
   "cell_type": "code",
   "execution_count": 30,
   "id": "e2f28ea7",
   "metadata": {},
   "outputs": [],
   "source": [
    "def extra_end(input_string):\n",
    "    if len(input_string) < 2:\n",
    "        print(\"The string length should be at least 2.\")\n",
    "        return\n",
    "    else:\n",
    "        input_string = ''.join(input_string[-2:])\n",
    "        input_string *=3\n",
    "        return  input_string    "
   ]
  },
  {
   "cell_type": "code",
   "execution_count": 31,
   "id": "81d5dfbf",
   "metadata": {},
   "outputs": [
    {
     "name": "stdout",
     "output_type": "stream",
     "text": [
      "lololo\n",
      "ababab\n",
      "HiHiHi\n"
     ]
    }
   ],
   "source": [
    "print(extra_end('Hello'))\n",
    "print(extra_end('ab'))\n",
    "print(extra_end('Hi'))"
   ]
  },
  {
   "cell_type": "markdown",
   "id": "8e020224",
   "metadata": {},
   "source": [
    "Given a string of even length, return the first half. So the string \"WooHoo\" yields \"Woo\".\n",
    "\n",
    "first_half('WooHoo') → 'Woo'\n",
    "first_half('HelloThere') → 'Hello'\n",
    "first_half('abcdef') → 'abc'"
   ]
  },
  {
   "cell_type": "code",
   "execution_count": 39,
   "id": "937e68a0",
   "metadata": {},
   "outputs": [],
   "source": [
    "def first_half(input_string):\n",
    "    len_string = len(input_string)\n",
    "    half_size = len_string//2\n",
    "    if len_string % 2 == 0:\n",
    "        return input_string[:half_size]\n",
    "    else:\n",
    "        print(\"String is not of even length\")\n",
    "        return"
   ]
  },
  {
   "cell_type": "code",
   "execution_count": 40,
   "id": "0ea1fa2a",
   "metadata": {},
   "outputs": [
    {
     "name": "stdout",
     "output_type": "stream",
     "text": [
      "Woo\n",
      "Hello\n",
      "abc\n"
     ]
    }
   ],
   "source": [
    "print(first_half('WooHoo'))\n",
    "print(first_half('HelloThere'))\n",
    "print(first_half('abcdef'))"
   ]
  },
  {
   "cell_type": "markdown",
   "id": "726fdaa8",
   "metadata": {},
   "source": [
    "Given a string, return a version without the first and last char, so \"Hello\" yields \"ell\". The string length will be at least 2.\n",
    "\n",
    "without_end('Hello') → 'ell'\n",
    "without_end('java') → 'av'\n",
    "without_end('coding') → 'odin'\n"
   ]
  },
  {
   "cell_type": "code",
   "execution_count": 41,
   "id": "47a1fea2",
   "metadata": {},
   "outputs": [],
   "source": [
    "def without_end(input_string):\n",
    "    return input_string[1:-1]"
   ]
  },
  {
   "cell_type": "code",
   "execution_count": 42,
   "id": "9819eded",
   "metadata": {},
   "outputs": [
    {
     "name": "stdout",
     "output_type": "stream",
     "text": [
      "ell\n",
      "av\n",
      "odin\n"
     ]
    }
   ],
   "source": [
    "print(without_end('Hello'))\n",
    "print(without_end('java'))\n",
    "print(without_end('coding'))"
   ]
  },
  {
   "cell_type": "markdown",
   "id": "87d18faf",
   "metadata": {},
   "source": [
    "Given two strings, a and b, return the result of putting them together in the order abba, e.g. \"Hi\" and \"Bye\" returns \"HiByeByeHi\".\n",
    "make_abba('Hi', 'Bye') → 'HiByeByeHi'\n",
    "make_abba('Yo', 'Alice') → 'YoAliceAliceYo'\n",
    "make_abba('What', 'Up') → 'WhatUpUpWhat'\n"
   ]
  },
  {
   "cell_type": "code",
   "execution_count": 46,
   "id": "6b197152",
   "metadata": {},
   "outputs": [],
   "source": [
    "def make_abba(*args):\n",
    "    res = ''.join(args[:] + args[::-1])\n",
    "    return res   "
   ]
  },
  {
   "cell_type": "code",
   "execution_count": 47,
   "id": "f68b17a3",
   "metadata": {},
   "outputs": [
    {
     "name": "stdout",
     "output_type": "stream",
     "text": [
      "HiByeByeHi\n",
      "YoAliceAliceYo\n",
      "WhatUpUpWhat\n"
     ]
    }
   ],
   "source": [
    "print(make_abba('Hi', 'Bye'))\n",
    "print(make_abba('Yo', 'Alice'))\n",
    "print(make_abba('What', 'Up'))"
   ]
  },
  {
   "cell_type": "markdown",
   "id": "d41f19d8",
   "metadata": {},
   "source": [
    "Given 2 strings, a and b, return a string of the form short+long+short, with the shorter string on the outside and the longer string on the inside. The strings will not be the same length, but they may be empty (length 0).\n",
    "\n",
    "combo_string('Hello', 'hi') → 'hiHellohi'\n",
    "combo_string('hi', 'Hello') → 'hiHellohi'\n",
    "combo_string('aaa', 'b') → 'baaab'\n"
   ]
  },
  {
   "cell_type": "code",
   "execution_count": 55,
   "id": "263f231a",
   "metadata": {},
   "outputs": [],
   "source": [
    "def combo_string(a,b):\n",
    "    if len(a) < len(b):\n",
    "        long = b\n",
    "        short = a\n",
    "    elif len(a) > len(b):\n",
    "        long = a\n",
    "        short = b\n",
    "    else:\n",
    "        print(\"The strings will not be the same length, but they may be empty (length 0)\")\n",
    "        return\n",
    "        \n",
    "    return short+long+short"
   ]
  },
  {
   "cell_type": "code",
   "execution_count": 49,
   "id": "c437129b",
   "metadata": {},
   "outputs": [
    {
     "data": {
      "text/plain": [
       "'hiHellohi'"
      ]
     },
     "execution_count": 49,
     "metadata": {},
     "output_type": "execute_result"
    }
   ],
   "source": [
    "combo_string('Hello', 'hi')"
   ]
  },
  {
   "cell_type": "code",
   "execution_count": 50,
   "id": "0a647ad8",
   "metadata": {},
   "outputs": [
    {
     "data": {
      "text/plain": [
       "'hiHellohi'"
      ]
     },
     "execution_count": 50,
     "metadata": {},
     "output_type": "execute_result"
    }
   ],
   "source": [
    "combo_string('hi', 'Hello')"
   ]
  },
  {
   "cell_type": "code",
   "execution_count": 51,
   "id": "5a7d11ca",
   "metadata": {},
   "outputs": [
    {
     "data": {
      "text/plain": [
       "'baaab'"
      ]
     },
     "execution_count": 51,
     "metadata": {},
     "output_type": "execute_result"
    }
   ],
   "source": [
    "combo_string('aaa', 'b')"
   ]
  },
  {
   "cell_type": "code",
   "execution_count": 56,
   "id": "6546a408",
   "metadata": {},
   "outputs": [
    {
     "name": "stdout",
     "output_type": "stream",
     "text": [
      "The strings will not be the same length, but they may be empty (length 0)\n"
     ]
    }
   ],
   "source": [
    "combo_string('aaa', 'bbb')"
   ]
  },
  {
   "cell_type": "markdown",
   "id": "25dbc077",
   "metadata": {},
   "source": [
    "Given 2 strings, return their concatenation, except omit the first char of each. The strings will be at least length 1.\n",
    "\n",
    "non_start('Hello', 'There') → 'ellohere'\n",
    "non_start('java', 'code') → 'avaode'\n",
    "non_start('shotl', 'java') → 'hotlava'"
   ]
  },
  {
   "cell_type": "code",
   "execution_count": 63,
   "id": "468175e8",
   "metadata": {},
   "outputs": [],
   "source": [
    "def non_start(a,b):\n",
    "    if len(a) & len(b):\n",
    "        return a[1:] + b[1:]\n",
    "    else:\n",
    "        print(\"The strings should be of at least length 1\")\n",
    "        return"
   ]
  },
  {
   "cell_type": "code",
   "execution_count": 64,
   "id": "e145bd5f",
   "metadata": {},
   "outputs": [
    {
     "data": {
      "text/plain": [
       "'ellohere'"
      ]
     },
     "execution_count": 64,
     "metadata": {},
     "output_type": "execute_result"
    }
   ],
   "source": [
    "non_start('Hello', 'There')"
   ]
  },
  {
   "cell_type": "code",
   "execution_count": 65,
   "id": "d67e85dc",
   "metadata": {},
   "outputs": [
    {
     "data": {
      "text/plain": [
       "'avaode'"
      ]
     },
     "execution_count": 65,
     "metadata": {},
     "output_type": "execute_result"
    }
   ],
   "source": [
    "non_start('java', 'code') "
   ]
  },
  {
   "cell_type": "code",
   "execution_count": 66,
   "id": "90c65294",
   "metadata": {},
   "outputs": [
    {
     "data": {
      "text/plain": [
       "'hotlava'"
      ]
     },
     "execution_count": 66,
     "metadata": {},
     "output_type": "execute_result"
    }
   ],
   "source": [
    "non_start('shotl', 'java')"
   ]
  },
  {
   "cell_type": "markdown",
   "id": "20b52a65",
   "metadata": {},
   "source": [
    "Given a string, return a \"rotated left 2\" version where the first 2 chars are moved to the end. The string length will be at least 2.\n",
    "\n",
    "left2('Hello') → 'lloHe'\n",
    "left2('java') → 'vaja'\n",
    "left2('Hi') → 'Hi'\n"
   ]
  },
  {
   "cell_type": "code",
   "execution_count": 71,
   "id": "49333436",
   "metadata": {},
   "outputs": [],
   "source": [
    "def left2(input_string):\n",
    "    if len(input_string) >=2:\n",
    "        return input_string[2:] + input_string[:2]"
   ]
  },
  {
   "cell_type": "code",
   "execution_count": 72,
   "id": "b5446314",
   "metadata": {},
   "outputs": [
    {
     "data": {
      "text/plain": [
       "'lloHe'"
      ]
     },
     "execution_count": 72,
     "metadata": {},
     "output_type": "execute_result"
    }
   ],
   "source": [
    "left2('Hello')"
   ]
  },
  {
   "cell_type": "code",
   "execution_count": 73,
   "id": "62fba478",
   "metadata": {},
   "outputs": [
    {
     "data": {
      "text/plain": [
       "'vaja'"
      ]
     },
     "execution_count": 73,
     "metadata": {},
     "output_type": "execute_result"
    }
   ],
   "source": [
    "left2('java') "
   ]
  },
  {
   "cell_type": "code",
   "execution_count": 74,
   "id": "122ec59f",
   "metadata": {},
   "outputs": [
    {
     "data": {
      "text/plain": [
       "'Hi'"
      ]
     },
     "execution_count": 74,
     "metadata": {},
     "output_type": "execute_result"
    }
   ],
   "source": [
    "left2('Hi') "
   ]
  },
  {
   "cell_type": "code",
   "execution_count": 75,
   "id": "a9ac9fe6",
   "metadata": {},
   "outputs": [],
   "source": [
    "left2('')"
   ]
  },
  {
   "cell_type": "markdown",
   "id": "7d93974b",
   "metadata": {},
   "source": [
    "Implement Binary search using python"
   ]
  },
  {
   "cell_type": "code",
   "execution_count": 10,
   "id": "17e203e4",
   "metadata": {},
   "outputs": [],
   "source": [
    "def binarySearch(a,low, high,x):\n",
    "    if low < high:\n",
    "        mid = (low + high)//2\n",
    "        \n",
    "        if x < a[mid]:\n",
    "            binarySearch(a,low,mid-1,x)\n",
    "        elif x > a[mid]:\n",
    "            binarySearch(a,mid+1,high,x)\n",
    "        elif x == a[mid]:\n",
    "            print(f'{x} is found at {mid} position')\n",
    "            return\n",
    "    else:\n",
    "        print(f'{x} not available')\n",
    "        return"
   ]
  },
  {
   "cell_type": "code",
   "execution_count": 5,
   "id": "94fce4ac",
   "metadata": {},
   "outputs": [],
   "source": [
    "a = [2,8,13,24,39,50]"
   ]
  },
  {
   "cell_type": "code",
   "execution_count": 11,
   "id": "8982e6e4",
   "metadata": {},
   "outputs": [
    {
     "name": "stdout",
     "output_type": "stream",
     "text": [
      "6 not available\n"
     ]
    }
   ],
   "source": [
    "binarySearch(a,0,len(a)-1,6)"
   ]
  },
  {
   "cell_type": "markdown",
   "id": "1b44b609",
   "metadata": {},
   "source": [
    "Fibonacci series with recursion."
   ]
  },
  {
   "cell_type": "code",
   "execution_count": 76,
   "id": "37133863",
   "metadata": {},
   "outputs": [],
   "source": [
    "def fibonacci_series(n):\n",
    "    fib_series = [0,1]\n",
    "    i =2\n",
    "    for i in range(i,n):\n",
    "        fib_series.append(fib_series[i-1]+fib_series[i-2])\n",
    "        \n",
    "    return fib_series"
   ]
  },
  {
   "cell_type": "code",
   "execution_count": 77,
   "id": "faee80c8",
   "metadata": {},
   "outputs": [
    {
     "data": {
      "text/plain": [
       "[0, 1, 1, 2, 3, 5, 8, 13, 21, 34]"
      ]
     },
     "execution_count": 77,
     "metadata": {},
     "output_type": "execute_result"
    }
   ],
   "source": [
    "fibonacci_series(10)"
   ]
  },
  {
   "cell_type": "markdown",
   "id": "8528877e",
   "metadata": {},
   "source": [
    "Linear Search"
   ]
  },
  {
   "cell_type": "code",
   "execution_count": 18,
   "id": "032d1d22",
   "metadata": {},
   "outputs": [],
   "source": [
    "def linear_search(a,x):\n",
    "    for num in a:\n",
    "        if num == x:\n",
    "            print(f'{x} found')\n",
    "            return\n",
    "    else:\n",
    "        print(f'{x} not found')\n",
    "        return"
   ]
  },
  {
   "cell_type": "code",
   "execution_count": 19,
   "id": "02e590d8",
   "metadata": {},
   "outputs": [],
   "source": [
    "a = [2,8,13,24,39,50]"
   ]
  },
  {
   "cell_type": "code",
   "execution_count": 22,
   "id": "f197aa47",
   "metadata": {},
   "outputs": [
    {
     "name": "stdout",
     "output_type": "stream",
     "text": [
      "0 not found\n"
     ]
    }
   ],
   "source": [
    "linear_search(a,0)"
   ]
  },
  {
   "cell_type": "markdown",
   "id": "e1224b5e",
   "metadata": {},
   "source": [
    "Jump Search\n"
   ]
  },
  {
   "cell_type": "code",
   "execution_count": 23,
   "id": "ccc88b12",
   "metadata": {},
   "outputs": [],
   "source": [
    "import math"
   ]
  },
  {
   "cell_type": "code",
   "execution_count": 41,
   "id": "0f37345c",
   "metadata": {},
   "outputs": [],
   "source": [
    "def jump_search(a,x):\n",
    "    n = len(a)\n",
    "    step = int(math.sqrt(n))\n",
    "    \n",
    "    prev = 0 \n",
    "    while x > a[prev]:\n",
    "        prev = step\n",
    "        step += int(math.sqrt(n))\n",
    "        \n",
    "    for num in range(prev,step):\n",
    "        if x == a[num]:\n",
    "            print(f'{x} found')\n",
    "            return\n",
    "    else:\n",
    "        print(f'{x} not found')\n",
    "        return"
   ]
  },
  {
   "cell_type": "code",
   "execution_count": 42,
   "id": "063695e5",
   "metadata": {},
   "outputs": [],
   "source": [
    "a = [2,8,13,24,39,50,67,89,123,156]"
   ]
  },
  {
   "cell_type": "code",
   "execution_count": 43,
   "id": "961fc685",
   "metadata": {},
   "outputs": [
    {
     "name": "stdout",
     "output_type": "stream",
     "text": [
      "24 found\n"
     ]
    }
   ],
   "source": [
    "jump_search(a,24)"
   ]
  },
  {
   "cell_type": "markdown",
   "id": "74b1d1c7",
   "metadata": {},
   "source": [
    "Interpolation Search"
   ]
  },
  {
   "cell_type": "code",
   "execution_count": 4,
   "id": "b4c549b6",
   "metadata": {},
   "outputs": [],
   "source": [
    "def interpolation_search(a,low,high,x):\n",
    "    \n",
    "    if low <= high and x > a[low] and x < a[high]: \n",
    "        #pos = low + (x - a[low]) * (high - low)//(a[high] - a[low])\n",
    "        \n",
    "        pos = low + ((high - low) // (a[high] - a[low]) *\n",
    "                    (x - a[low]))\n",
    "        \n",
    "        if a[pos] == x:\n",
    "            print(f'{x} found at {pos} position')\n",
    "            return\n",
    "        elif a[pos] < x:\n",
    "            return interpolation_search(a,pos+1,high,x)\n",
    "        elif a[pos] > x:\n",
    "            return interpolation_search(a,low,pos-1,x)\n",
    "        else:\n",
    "            print(f'{x} is not available')\n",
    "            \n",
    "    else:\n",
    "        print(f'{x} is not available')\n",
    "        return"
   ]
  },
  {
   "cell_type": "code",
   "execution_count": 5,
   "id": "15ab4583",
   "metadata": {},
   "outputs": [],
   "source": [
    "a = [1,3,5,14,21,25,26,27]"
   ]
  },
  {
   "cell_type": "code",
   "execution_count": 6,
   "id": "4fd042f4",
   "metadata": {},
   "outputs": [
    {
     "name": "stdout",
     "output_type": "stream",
     "text": [
      "20 is not available\n"
     ]
    }
   ],
   "source": [
    "interpolation_search(a,0,len(a)-1,20)"
   ]
  },
  {
   "cell_type": "markdown",
   "id": "1c7df8bb",
   "metadata": {},
   "source": [
    "Fibonacci Search"
   ]
  },
  {
   "cell_type": "code",
   "execution_count": 7,
   "id": "3e43fbe8",
   "metadata": {},
   "outputs": [],
   "source": [
    "def fib_search(a,x):\n",
    "    n = len(a)\n",
    "    fibNM2 = 0\n",
    "    fibNM1 = 1\n",
    "    fib = fibNM1 + fibNM2\n",
    "    \n",
    "    while(fib < n):\n",
    "        fibNM2 = fibNM1\n",
    "        fibNM1 = fib\n",
    "        fib = fibNM1 + fibNM2\n",
    "        \n",
    "    offset = 0\n",
    "    \n",
    "    while fib > 1:\n",
    "        \n",
    "        i = min(offset+fibNM2,n)\n",
    "        \n",
    "        if(a[i]< x):\n",
    "            fib = fibNM1 \n",
    "            fibNM1 = fibNM2\n",
    "            fibNM2 = fib - fibNM1\n",
    "            \n",
    "        elif a[i] > x:\n",
    "            fib = fibNM2\n",
    "            fibNM1 = fibNM1 - fibNM2\n",
    "            fibNM2 = fib - fibNM1\n",
    "            \n",
    "        else:\n",
    "            return i\n",
    "        \n",
    "    if(fibNM1 and arr[n-1] == x): \n",
    "        return n-1\n",
    "  \n",
    "    # element not found. return -1 \n",
    "    return -1"
   ]
  },
  {
   "cell_type": "code",
   "execution_count": 8,
   "id": "ec80cc1c",
   "metadata": {},
   "outputs": [
    {
     "name": "stdout",
     "output_type": "stream",
     "text": [
      "Found at index: 11\n"
     ]
    }
   ],
   "source": [
    "arr = [10, 22, 35, 40, 45, 50, \n",
    "       80, 82, 85, 90, 100,235] \n",
    " \n",
    "x = 235\n",
    "\n",
    "ind = fib_search(arr, x) \n",
    "\n",
    "if ind>=0: \n",
    "  print(\"Found at index:\",ind) \n",
    "else: \n",
    "  print(x,\"isn't present in the array\");"
   ]
  },
  {
   "cell_type": "code",
   "execution_count": null,
   "id": "12f0e881",
   "metadata": {},
   "outputs": [],
   "source": [
    "def fib_search(a,x):\n",
    "    \n",
    "    n = len(a)\n",
    "    \n",
    "    fibNm1 = 1\n",
    "    fibNm2 = 0\n",
    "    fib = fibNm1 + fibNm2\n",
    "    \n",
    "    while(fib > x):\n",
    "        fibNm2 = fibNm1\n",
    "        fibNm1 = fib\n",
    "        fib = fibNM1 + fibNm2\n",
    "        \n",
    "    offset = 0\n",
    "    \n",
    "    while fib > 1:\n",
    "        \n",
    "        i = min(offset+fib,n)\n",
    "        \n",
    "        if(a[i]<x):\n",
    "            fib = fibNM1\n",
    "            fibNm1 = fibNm2\n",
    "            fibNm2 = fib - fibNm1\n",
    "            \n",
    "        elif a[i] > x:\n",
    "            fib = fibNm2\n",
    "            fibNm1 = fibNm1 - fibNm2\n",
    "            fibNm2 = fib - fibNm1\n",
    "            \n",
    "        else:\n",
    "            return i\n",
    "        \n",
    "    if(fibNm1 and a[n-1]==x):\n",
    "        return n-1\n",
    "    else:\n",
    "        return -1"
   ]
  }
 ],
 "metadata": {
  "kernelspec": {
   "display_name": "Python 3 (ipykernel)",
   "language": "python",
   "name": "python3"
  },
  "language_info": {
   "codemirror_mode": {
    "name": "ipython",
    "version": 3
   },
   "file_extension": ".py",
   "mimetype": "text/x-python",
   "name": "python",
   "nbconvert_exporter": "python",
   "pygments_lexer": "ipython3",
   "version": "3.10.9"
  }
 },
 "nbformat": 4,
 "nbformat_minor": 5
}
