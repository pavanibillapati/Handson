{
 "cells": [
  {
   "cell_type": "markdown",
   "id": "ea127693",
   "metadata": {},
   "source": [
    "1) Write a Python program that uses a for loop to print all the even numbers between 10 and 50."
   ]
  },
  {
   "cell_type": "code",
   "execution_count": 1,
   "id": "7fea89e1",
   "metadata": {},
   "outputs": [
    {
     "name": "stdout",
     "output_type": "stream",
     "text": [
      "Even numbers between 10 and 50 are \n",
      "10\n",
      "12\n",
      "14\n",
      "16\n",
      "18\n",
      "20\n",
      "22\n",
      "24\n",
      "26\n",
      "28\n",
      "30\n",
      "32\n",
      "34\n",
      "36\n",
      "38\n",
      "40\n",
      "42\n",
      "44\n",
      "46\n",
      "48\n"
     ]
    }
   ],
   "source": [
    "print(\"Even numbers between 10 and 50 are \")\n",
    "for num in range(10,51):\n",
    "    if(num % 2 == 0):\n",
    "        print(num)"
   ]
  },
  {
   "cell_type": "markdown",
   "id": "fe8f933a",
   "metadata": {},
   "source": [
    "2) Write a Python program that uses a while loop to print the Fibonacci sequence up to the 10th term."
   ]
  },
  {
   "cell_type": "code",
   "execution_count": 3,
   "id": "64f7af64",
   "metadata": {},
   "outputs": [
    {
     "name": "stdout",
     "output_type": "stream",
     "text": [
      "[0, 1, 1, 2, 3, 5, 8, 13, 21, 34]\n"
     ]
    }
   ],
   "source": [
    "i = 0 \n",
    "fibonacci_seq = [0,1]\n",
    "for i in range(0,8):\n",
    "    fibonacci_seq.append(fibonacci_seq[i] + fibonacci_seq[i+1])\n",
    "    \n",
    "print(fibonacci_seq)"
   ]
  },
  {
   "cell_type": "markdown",
   "id": "38f775db",
   "metadata": {},
   "source": [
    "3) Write a Python program that prints all the numbers from 1 to 100. But for multiples of three print \"Fizz\" instead of the number and for the multiples of five print \"Buzz\". For numbers which are multiples of both three and five print \"FizzBuzz\".\n",
    "\n"
   ]
  },
  {
   "cell_type": "code",
   "execution_count": 6,
   "id": "0298bcb2",
   "metadata": {},
   "outputs": [
    {
     "name": "stdout",
     "output_type": "stream",
     "text": [
      "1\n",
      "2\n",
      "Fizz\n",
      "4\n",
      "Buzz\n",
      "Fizz\n",
      "7\n",
      "8\n",
      "Fizz\n",
      "Buzz\n",
      "11\n",
      "Fizz\n",
      "13\n",
      "14\n",
      "FizzBuzz\n",
      "16\n",
      "17\n",
      "Fizz\n",
      "19\n",
      "Buzz\n",
      "Fizz\n",
      "22\n",
      "23\n",
      "Fizz\n",
      "Buzz\n",
      "26\n",
      "Fizz\n",
      "28\n",
      "29\n",
      "FizzBuzz\n",
      "31\n",
      "32\n",
      "Fizz\n",
      "34\n",
      "Buzz\n",
      "Fizz\n",
      "37\n",
      "38\n",
      "Fizz\n",
      "Buzz\n",
      "41\n",
      "Fizz\n",
      "43\n",
      "44\n",
      "FizzBuzz\n",
      "46\n",
      "47\n",
      "Fizz\n",
      "49\n",
      "Buzz\n",
      "Fizz\n",
      "52\n",
      "53\n",
      "Fizz\n",
      "Buzz\n",
      "56\n",
      "Fizz\n",
      "58\n",
      "59\n",
      "FizzBuzz\n",
      "61\n",
      "62\n",
      "Fizz\n",
      "64\n",
      "Buzz\n",
      "Fizz\n",
      "67\n",
      "68\n",
      "Fizz\n",
      "Buzz\n",
      "71\n",
      "Fizz\n",
      "73\n",
      "74\n",
      "FizzBuzz\n",
      "76\n",
      "77\n",
      "Fizz\n",
      "79\n",
      "Buzz\n",
      "Fizz\n",
      "82\n",
      "83\n",
      "Fizz\n",
      "Buzz\n",
      "86\n",
      "Fizz\n",
      "88\n",
      "89\n",
      "FizzBuzz\n",
      "91\n",
      "92\n",
      "Fizz\n",
      "94\n",
      "Buzz\n",
      "Fizz\n",
      "97\n",
      "98\n",
      "Fizz\n"
     ]
    }
   ],
   "source": [
    "for num in range(1,100):\n",
    "    if num % 3 == 0 and num % 5 == 0:\n",
    "        print(\"FizzBuzz\")\n",
    "    elif num % 3 == 0:\n",
    "        print(\"Fizz\")\n",
    "    elif num % 5 == 0:\n",
    "        print(\"Buzz\")\n",
    "    else:\n",
    "        print(num)"
   ]
  },
  {
   "cell_type": "markdown",
   "id": "f2d51aeb",
   "metadata": {},
   "source": [
    "4) Write a Python program that uses the range function to print all the odd numbers between 1 and 20.\n",
    "\n"
   ]
  },
  {
   "cell_type": "code",
   "execution_count": 8,
   "id": "9e6cd953",
   "metadata": {},
   "outputs": [
    {
     "name": "stdout",
     "output_type": "stream",
     "text": [
      "Odd numbers between 1 and 20 are \n",
      "11\n",
      "13\n",
      "15\n",
      "17\n",
      "19\n"
     ]
    }
   ],
   "source": [
    "print(\"Odd numbers between 1 and 20 are \")\n",
    "for num in range(10,21):\n",
    "    if(num % 2 != 0):\n",
    "        print(num)"
   ]
  },
  {
   "cell_type": "markdown",
   "id": "28c32c5a",
   "metadata": {},
   "source": [
    "5) Write a Python program that takes a string as input and prints the reverse of the string using a for loop.\n",
    "\n"
   ]
  },
  {
   "cell_type": "code",
   "execution_count": 1,
   "id": "517f6ecf",
   "metadata": {},
   "outputs": [
    {
     "name": "stdout",
     "output_type": "stream",
     "text": [
      "Enter a string:pavani\n",
      "Original string is  pavani\n",
      "Reverse of the string is  inavap\n"
     ]
    }
   ],
   "source": [
    "s = input(\"Enter a string:\")\n",
    "\n",
    "print(\"Original string is \",s)\n",
    "\n",
    "s = list(s)\n",
    "\n",
    "for i in range(0, int(len(s)/2)):\n",
    "    s[i], s[-i-1] = s[-i-1], s[i]\n",
    "    \n",
    "print(\"Reverse of the string is \",(''.join(s)))"
   ]
  },
  {
   "cell_type": "markdown",
   "id": "19df4ef5",
   "metadata": {},
   "source": [
    "6) Write a Python program that uses a while loop to reverse the order of the words in a given string.\n",
    "\n"
   ]
  },
  {
   "cell_type": "code",
   "execution_count": 28,
   "id": "cf7b5838",
   "metadata": {},
   "outputs": [
    {
     "name": "stdout",
     "output_type": "stream",
     "text": [
      "Enter a string:this is pavani\n",
      "Original string is  this is pavani\n",
      "Reverse of the string is pavani is this\n"
     ]
    }
   ],
   "source": [
    "s = input(\"Enter a string:\")\n",
    "\n",
    "print(\"Original string is \",s)\n",
    "s = s.split()\n",
    "i = 0\n",
    "while i < int(len(s)/2):\n",
    "    s[i], s[-i-1] = s[-i-1], s[i]\n",
    "    i = i + 1\n",
    "    \n",
    "print(\"Reverse of the string is\",(' '.join(s)))"
   ]
  },
  {
   "cell_type": "markdown",
   "id": "bc739a57",
   "metadata": {},
   "source": [
    "7) Write a Python program that takes a string as input and prints the number of vowels in the string using a for loop.\n",
    "\n"
   ]
  },
  {
   "cell_type": "code",
   "execution_count": 31,
   "id": "8963363a",
   "metadata": {},
   "outputs": [
    {
     "name": "stdout",
     "output_type": "stream",
     "text": [
      "Enter a string:billapati\n",
      "Original string is  billapati\n",
      "The number of vowels in the string:  4\n"
     ]
    }
   ],
   "source": [
    "s = input(\"Enter a string:\")\n",
    "\n",
    "print(\"Original string is \",s)\n",
    "\n",
    "count = 0 \n",
    "\n",
    "for i in range(0,len(s)):\n",
    "    if s[i] in ['a','e','i','o','u','A','E','I','O','U']:\n",
    "        count = count + 1\n",
    "    i = i + 1    \n",
    "        \n",
    "print(\"The number of vowels in the string: \", count)"
   ]
  },
  {
   "cell_type": "markdown",
   "id": "302e6007",
   "metadata": {},
   "source": [
    "8) Write a Python program that uses a while loop to find and print the largest number in a list of numbers.\n",
    "\n"
   ]
  },
  {
   "cell_type": "code",
   "execution_count": 39,
   "id": "73fa32b9",
   "metadata": {},
   "outputs": [
    {
     "name": "stdout",
     "output_type": "stream",
     "text": [
      "Enter the number of integers u want to enter:5\n",
      "enter number: 4\n",
      "enter number: 8\n",
      "enter number: 0\n",
      "enter number: -3\n",
      "enter number: 10\n",
      "Largest number in a list of numbers is  10\n"
     ]
    }
   ],
   "source": [
    "n = int(input(\"Enter the number of integers u want to enter:\"))\n",
    "\n",
    "list = []\n",
    "\n",
    "for i in range(0,n):\n",
    "    list.append(int(input(\"enter number: \")))\n",
    "  \n",
    "max = list[i]\n",
    "i = 1\n",
    "while i < n:\n",
    "    if max < list[i]:\n",
    "        max = list[i]\n",
    "    i = i + 1\n",
    "    \n",
    "print(\"Largest number in a list of numbers is \", max)  \n",
    "    "
   ]
  },
  {
   "cell_type": "markdown",
   "id": "c3bb4cde",
   "metadata": {},
   "source": [
    "9) Write a Python program that takes a list of integers as input and prints the sum of all the even numbers in the list using a for loop.\n",
    "\n"
   ]
  },
  {
   "cell_type": "code",
   "execution_count": 42,
   "id": "95fa05d1",
   "metadata": {},
   "outputs": [
    {
     "name": "stdout",
     "output_type": "stream",
     "text": [
      "Enter the number of integers u want to enter:5\n",
      "enter number: 4\n",
      "enter number: 9\n",
      "enter number: 13\n",
      "enter number: 18\n",
      "enter number: -4\n",
      "Sum of all the even numbers in the list is  18\n"
     ]
    }
   ],
   "source": [
    "n = int(input(\"Enter the number of integers u want to enter:\"))\n",
    "\n",
    "list = []\n",
    "\n",
    "for i in range(0,n):\n",
    "    list.append(int(input(\"enter number: \")))\n",
    "\n",
    "sum = 0\n",
    "for i in range(0,n):\n",
    "    if(list[i]%2 == 0):\n",
    "        sum = sum + list[i]\n",
    "    i = i + 1\n",
    "    \n",
    "print(\"Sum of all the even numbers in the list is \",sum)"
   ]
  },
  {
   "cell_type": "markdown",
   "id": "7ab33ee0",
   "metadata": {},
   "source": [
    "10) Write a Python program that uses a for loop to print the multiplication table (1 to 10) for a given number."
   ]
  },
  {
   "cell_type": "code",
   "execution_count": 48,
   "id": "620a5fdf",
   "metadata": {},
   "outputs": [
    {
     "name": "stdout",
     "output_type": "stream",
     "text": [
      "1 Table\n",
      "---------\n",
      "1 * 1 = 1\n",
      "1 * 2 = 2\n",
      "1 * 3 = 3\n",
      "1 * 4 = 4\n",
      "1 * 5 = 5\n",
      "1 * 6 = 6\n",
      "1 * 7 = 7\n",
      "1 * 8 = 8\n",
      "1 * 9 = 9\n",
      "1 * 10 = 10\n",
      "2 Table\n",
      "---------\n",
      "2 * 1 = 2\n",
      "2 * 2 = 4\n",
      "2 * 3 = 6\n",
      "2 * 4 = 8\n",
      "2 * 5 = 10\n",
      "2 * 6 = 12\n",
      "2 * 7 = 14\n",
      "2 * 8 = 16\n",
      "2 * 9 = 18\n",
      "2 * 10 = 20\n",
      "3 Table\n",
      "---------\n",
      "3 * 1 = 3\n",
      "3 * 2 = 6\n",
      "3 * 3 = 9\n",
      "3 * 4 = 12\n",
      "3 * 5 = 15\n",
      "3 * 6 = 18\n",
      "3 * 7 = 21\n",
      "3 * 8 = 24\n",
      "3 * 9 = 27\n",
      "3 * 10 = 30\n",
      "4 Table\n",
      "---------\n",
      "4 * 1 = 4\n",
      "4 * 2 = 8\n",
      "4 * 3 = 12\n",
      "4 * 4 = 16\n",
      "4 * 5 = 20\n",
      "4 * 6 = 24\n",
      "4 * 7 = 28\n",
      "4 * 8 = 32\n",
      "4 * 9 = 36\n",
      "4 * 10 = 40\n",
      "5 Table\n",
      "---------\n",
      "5 * 1 = 5\n",
      "5 * 2 = 10\n",
      "5 * 3 = 15\n",
      "5 * 4 = 20\n",
      "5 * 5 = 25\n",
      "5 * 6 = 30\n",
      "5 * 7 = 35\n",
      "5 * 8 = 40\n",
      "5 * 9 = 45\n",
      "5 * 10 = 50\n",
      "6 Table\n",
      "---------\n",
      "6 * 1 = 6\n",
      "6 * 2 = 12\n",
      "6 * 3 = 18\n",
      "6 * 4 = 24\n",
      "6 * 5 = 30\n",
      "6 * 6 = 36\n",
      "6 * 7 = 42\n",
      "6 * 8 = 48\n",
      "6 * 9 = 54\n",
      "6 * 10 = 60\n",
      "7 Table\n",
      "---------\n",
      "7 * 1 = 7\n",
      "7 * 2 = 14\n",
      "7 * 3 = 21\n",
      "7 * 4 = 28\n",
      "7 * 5 = 35\n",
      "7 * 6 = 42\n",
      "7 * 7 = 49\n",
      "7 * 8 = 56\n",
      "7 * 9 = 63\n",
      "7 * 10 = 70\n",
      "8 Table\n",
      "---------\n",
      "8 * 1 = 8\n",
      "8 * 2 = 16\n",
      "8 * 3 = 24\n",
      "8 * 4 = 32\n",
      "8 * 5 = 40\n",
      "8 * 6 = 48\n",
      "8 * 7 = 56\n",
      "8 * 8 = 64\n",
      "8 * 9 = 72\n",
      "8 * 10 = 80\n",
      "9 Table\n",
      "---------\n",
      "9 * 1 = 9\n",
      "9 * 2 = 18\n",
      "9 * 3 = 27\n",
      "9 * 4 = 36\n",
      "9 * 5 = 45\n",
      "9 * 6 = 54\n",
      "9 * 7 = 63\n",
      "9 * 8 = 72\n",
      "9 * 9 = 81\n",
      "9 * 10 = 90\n"
     ]
    }
   ],
   "source": [
    "for i in range(1,10):\n",
    "    print(f'{i} Table')\n",
    "    print('---------')\n",
    "    for j in range(1,11):\n",
    "        print(f'{i} * {j} = {i*j}')\n",
    "    "
   ]
  },
  {
   "cell_type": "code",
   "execution_count": null,
   "id": "8f58fec3",
   "metadata": {},
   "outputs": [],
   "source": []
  },
  {
   "cell_type": "code",
   "execution_count": null,
   "id": "9bae89d2",
   "metadata": {},
   "outputs": [],
   "source": []
  },
  {
   "cell_type": "code",
   "execution_count": null,
   "id": "a52f7b8d",
   "metadata": {},
   "outputs": [],
   "source": []
  },
  {
   "cell_type": "code",
   "execution_count": null,
   "id": "913f64df",
   "metadata": {},
   "outputs": [],
   "source": []
  }
 ],
 "metadata": {
  "kernelspec": {
   "display_name": "Python 3 (ipykernel)",
   "language": "python",
   "name": "python3"
  },
  "language_info": {
   "codemirror_mode": {
    "name": "ipython",
    "version": 3
   },
   "file_extension": ".py",
   "mimetype": "text/x-python",
   "name": "python",
   "nbconvert_exporter": "python",
   "pygments_lexer": "ipython3",
   "version": "3.10.9"
  }
 },
 "nbformat": 4,
 "nbformat_minor": 5
}
