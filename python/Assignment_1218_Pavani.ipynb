{
 "cells": [
  {
   "cell_type": "markdown",
   "id": "147aeb99",
   "metadata": {},
   "source": [
    "###### 1) Explain what a lambda function is in Python and describe its syntax."
   ]
  },
  {
   "cell_type": "markdown",
   "id": "abaf48f8",
   "metadata": {},
   "source": [
    "Lambda functions are user-defined functions but without any name(anonymous functions). They are usually simple experssions i.e.,contains only single line of code"
   ]
  },
  {
   "cell_type": "markdown",
   "id": "d56c3739",
   "metadata": {},
   "source": [
    "###### 2) Write a simple lambda function that takes two arguments and returns their sum.\n"
   ]
  },
  {
   "cell_type": "code",
   "execution_count": 9,
   "id": "d264445c",
   "metadata": {},
   "outputs": [],
   "source": [
    "sum = lambda x,y: x+y"
   ]
  },
  {
   "cell_type": "code",
   "execution_count": 10,
   "id": "0f70f964",
   "metadata": {},
   "outputs": [
    {
     "data": {
      "text/plain": [
       "9"
      ]
     },
     "execution_count": 10,
     "metadata": {},
     "output_type": "execute_result"
    }
   ],
   "source": [
    "sum(4,5)"
   ]
  },
  {
   "cell_type": "markdown",
   "id": "9dd493d8",
   "metadata": {},
   "source": [
    "##### 3) Compare lambda functions with regular functions in Python. List at least three differences.\n",
    "\n"
   ]
  },
  {
   "cell_type": "markdown",
   "id": "765eed59",
   "metadata": {},
   "source": [
    "###### Lambda Functions vs Regular Functions\n",
    "1. Lambda functions are anonymous i.e., it does not any any name whereas regular functions do have name\n",
    "2. Contains simple expressions usually of a single line code & regular expressions perform more complex operations usually, has more than a single line.\n",
    "3. These return output without any return statements to function call whereas regular functions have return statements to the function call.\n"
   ]
  },
  {
   "cell_type": "markdown",
   "id": "e874a2af",
   "metadata": {},
   "source": [
    "###### 4) Convert the following function into a lambda function:\n",
    "def multiply(x, y):\n",
    "    return x * y"
   ]
  },
  {
   "cell_type": "code",
   "execution_count": 11,
   "id": "c22bc2a1",
   "metadata": {},
   "outputs": [],
   "source": [
    "multiply = lambda x,y: x*y"
   ]
  },
  {
   "cell_type": "code",
   "execution_count": 12,
   "id": "64291cb8",
   "metadata": {},
   "outputs": [
    {
     "data": {
      "text/plain": [
       "45"
      ]
     },
     "execution_count": 12,
     "metadata": {},
     "output_type": "execute_result"
    }
   ],
   "source": [
    "multiply(5,9)"
   ]
  },
  {
   "cell_type": "markdown",
   "id": "0d3ff8c3",
   "metadata": {},
   "source": [
    "##### 5) Create an instance of the Person class and call the introduce_yourself() method."
   ]
  },
  {
   "cell_type": "code",
   "execution_count": 22,
   "id": "b027ba6d",
   "metadata": {},
   "outputs": [],
   "source": [
    "class Person:\n",
    "    def __init__(self,name):\n",
    "        self.name = name\n",
    "        \n",
    "    def introduce_yourself(self):\n",
    "        print(f'Hi, I am {self.name}')"
   ]
  },
  {
   "cell_type": "code",
   "execution_count": 23,
   "id": "791402b8",
   "metadata": {},
   "outputs": [
    {
     "name": "stdout",
     "output_type": "stream",
     "text": [
      "Hi, I am Pavani\n"
     ]
    }
   ],
   "source": [
    "person1 = Person('Pavani')\n",
    "\n",
    "person1.introduce_yourself()"
   ]
  },
  {
   "cell_type": "markdown",
   "id": "2e3f859f",
   "metadata": {},
   "source": [
    "###### 1) Create a class called Student that has the following attributes: name, age, gender, and grade. Create an instance of the class and print out its attributes.\n",
    "\n"
   ]
  },
  {
   "cell_type": "code",
   "execution_count": 44,
   "id": "3c181af4",
   "metadata": {},
   "outputs": [],
   "source": [
    "class Student:\n",
    "    def __init__(self,name,age,gender,grade):\n",
    "        self.name = name\n",
    "        self.age = age\n",
    "        self.gender = gender\n",
    "        self.grade = grade\n",
    "        \n",
    "    def printout(self):\n",
    "        print(f'My Details are: \\n----------------\\nName:{self.name}\\nAge: {self.age}\\nGender: {self.gender} \\nGrade: {self.grade}')"
   ]
  },
  {
   "cell_type": "code",
   "execution_count": 45,
   "id": "05026e05",
   "metadata": {},
   "outputs": [
    {
     "name": "stdout",
     "output_type": "stream",
     "text": [
      "My Details are: \n",
      "----------------\n",
      "Name:Rahul\n",
      "Age: 22\n",
      "Gender: male \n",
      "Grade: Tenth\n"
     ]
    }
   ],
   "source": [
    "student1 = Student('Rahul',22,'male','Tenth')\n",
    "student1.printout()"
   ]
  },
  {
   "cell_type": "markdown",
   "id": "8d094044",
   "metadata": {},
   "source": [
    "###### 2) Create a class called Rectangle that has the following attributes: length and width. Include a method called area that calculates and returns the area of the rectangle. Create an instance of the class and call the area method to calculate the area.\n",
    "\n"
   ]
  },
  {
   "cell_type": "code",
   "execution_count": 53,
   "id": "ae73551a",
   "metadata": {},
   "outputs": [],
   "source": [
    "class Rectangle:\n",
    "    def __init__(self, length, width):\n",
    "        self.length = length\n",
    "        self.width = width\n",
    "        \n",
    "    def area(self):\n",
    "        return self.length * self.width"
   ]
  },
  {
   "cell_type": "code",
   "execution_count": 54,
   "id": "441c1290",
   "metadata": {},
   "outputs": [
    {
     "name": "stdout",
     "output_type": "stream",
     "text": [
      "Area of rectangle is: 80\n"
     ]
    }
   ],
   "source": [
    "poly1 = Rectangle(10,8)\n",
    "\n",
    "print('Area of rectangle is:',poly1.area())"
   ]
  },
  {
   "cell_type": "markdown",
   "id": "6db869d0",
   "metadata": {},
   "source": [
    "###### 3) Create a class called BankAccount that has the following attributes: account_number, balance, and owner. Include a method called deposit that takes a parameter amount and adds it to the balance of the account. Create an instance of the class and use the deposit method to add $100 to the account balance.\n",
    "\n"
   ]
  },
  {
   "cell_type": "code",
   "execution_count": 73,
   "id": "1c732ff9",
   "metadata": {},
   "outputs": [],
   "source": [
    "class BankAccount:\n",
    "    def __init__(self,account_number, balance, owner):\n",
    "        self.account_number = account_number\n",
    "        self.balance = balance\n",
    "        self.owner = owner\n",
    "        \n",
    "    def details(self):\n",
    "        print(f'My account details:\\nAccount number: {self.account_number} \\nowner: {self.owner} \\nBalance: {self.balance}')\n",
    "        \n",
    "    def deposit(self, amount):\n",
    "        self.balance = self.balance + amount\n",
    "        return self.balance"
   ]
  },
  {
   "cell_type": "code",
   "execution_count": 74,
   "id": "c951a247",
   "metadata": {},
   "outputs": [
    {
     "name": "stdout",
     "output_type": "stream",
     "text": [
      "My account details:\n",
      "Account number: 12324765 \n",
      "owner: Peter \n",
      "Balance: 2457\n",
      "Updated balance is $2557\n"
     ]
    }
   ],
   "source": [
    "account = BankAccount(12324765, 2457, 'Peter')\n",
    "\n",
    "account.details()\n",
    "print(f'Updated balance is ${account.deposit(100)}')"
   ]
  },
  {
   "cell_type": "markdown",
   "id": "5c25b62a",
   "metadata": {},
   "source": [
    "###### 4) Create a class called Person that has the following attributes: name, age, gender, and occupation. Include a method called change_occupation that takes a parameter new_occupation and changes the occupation of the person to the new occupation. Create an instance of the class and use the change_occupation method to change the occupation of the person to \"teacher\".\n",
    "\n"
   ]
  },
  {
   "cell_type": "code",
   "execution_count": 75,
   "id": "fb2a29f5",
   "metadata": {},
   "outputs": [],
   "source": [
    "class Person:\n",
    "    def __init__(self,name,age,gender,occupation):\n",
    "        self.name = name\n",
    "        self.age = age\n",
    "        self.gender = gender\n",
    "        self.occupation = occupation\n",
    "        \n",
    "    def change_occupation(self, new_occupation):\n",
    "        self.occupation = new_occupation\n",
    "        return self.occupation"
   ]
  },
  {
   "cell_type": "code",
   "execution_count": 78,
   "id": "6ff732bc",
   "metadata": {},
   "outputs": [
    {
     "name": "stdout",
     "output_type": "stream",
     "text": [
      "The new occupation is Teacher\n"
     ]
    }
   ],
   "source": [
    "person1 = Person('John',28,\"male\",'freelancer')\n",
    "\n",
    "print('The new occupation is',person1.change_occupation('Teacher'))"
   ]
  },
  {
   "cell_type": "markdown",
   "id": "892207a4",
   "metadata": {},
   "source": [
    "###### 5) Create a class called Car that has the following attributes: make, model, year, and mileage. Include a method called drive that takes a parameter distance and adds that distance to the mileage of the car. Create an instance of the class and use the drive method to add 50 miles to the mileage of the car."
   ]
  },
  {
   "cell_type": "code",
   "execution_count": 81,
   "id": "3d4121b5",
   "metadata": {},
   "outputs": [],
   "source": [
    "class Car:\n",
    "    def __init__(self, make, model, year, mileage):\n",
    "        self.make = make\n",
    "        self.model = model\n",
    "        self.year = year\n",
    "        self.mileage = mileage\n",
    "        \n",
    "    def drive(self,distance):\n",
    "        self.mileage = self.mileage + distance\n",
    "        return self.mileage "
   ]
  },
  {
   "cell_type": "code",
   "execution_count": 82,
   "id": "957ffb5e",
   "metadata": {},
   "outputs": [
    {
     "name": "stdout",
     "output_type": "stream",
     "text": [
      "Updated mileage is 5050\n"
     ]
    }
   ],
   "source": [
    "car1 = Car(\"Toyota\", \"Camry\", 2022, 5000)\n",
    "\n",
    "print('Updated mileage is',car1.drive(50))"
   ]
  },
  {
   "cell_type": "code",
   "execution_count": null,
   "id": "15722dcf",
   "metadata": {},
   "outputs": [],
   "source": []
  }
 ],
 "metadata": {
  "kernelspec": {
   "display_name": "Python 3 (ipykernel)",
   "language": "python",
   "name": "python3"
  },
  "language_info": {
   "codemirror_mode": {
    "name": "ipython",
    "version": 3
   },
   "file_extension": ".py",
   "mimetype": "text/x-python",
   "name": "python",
   "nbconvert_exporter": "python",
   "pygments_lexer": "ipython3",
   "version": "3.10.9"
  }
 },
 "nbformat": 4,
 "nbformat_minor": 5
}
