{
 "cells": [
  {
   "cell_type": "markdown",
   "id": "4ec5a6b6",
   "metadata": {},
   "source": [
    "1. Write a program that prompts the user to enter their name and age, and then prints out a message that includes their name and their age."
   ]
  },
  {
   "cell_type": "code",
   "execution_count": 1,
   "id": "75c9ac6b",
   "metadata": {},
   "outputs": [
    {
     "name": "stdout",
     "output_type": "stream",
     "text": [
      "Enter the name:Pavani\n",
      "Enter Age:23\n",
      "My name is Pavani and age is 23\n"
     ]
    }
   ],
   "source": [
    "Name = input(\"Enter the name:\")\n",
    "Age = int(input(\"Enter Age:\"))\n",
    "\n",
    "print(f'My name is {Name} and age is {Age}')"
   ]
  },
  {
   "cell_type": "markdown",
   "id": "d7bd3221",
   "metadata": {},
   "source": [
    "2. Write a program that declares two variables, one for a person's name and one for their age, and then prints out a message that includes their name and their age."
   ]
  },
  {
   "cell_type": "code",
   "execution_count": 2,
   "id": "28ec3fc2",
   "metadata": {},
   "outputs": [
    {
     "name": "stdout",
     "output_type": "stream",
     "text": [
      "My name is Pavani and age is 27\n"
     ]
    }
   ],
   "source": [
    "Name = 'Pavani'\n",
    "Age = 27\n",
    "\n",
    "print(f'My name is {Name} and age is {Age}')"
   ]
  },
  {
   "cell_type": "markdown",
   "id": "bbac3307",
   "metadata": {},
   "source": [
    "3. Write a program that prompts the user to enter a number and then checks if the number is even or odd."
   ]
  },
  {
   "cell_type": "code",
   "execution_count": 4,
   "id": "3fca3bb0",
   "metadata": {},
   "outputs": [
    {
     "name": "stdout",
     "output_type": "stream",
     "text": [
      "Enter a number:91\n",
      "91 is odd\n"
     ]
    }
   ],
   "source": [
    "num = int(input(\"Enter a number:\"))\n",
    "\n",
    "if(num%2 == 0):\n",
    "    print(f'{num} is even')\n",
    "else:\n",
    "    print(f'{num} is odd')"
   ]
  },
  {
   "cell_type": "markdown",
   "id": "23f25e7e",
   "metadata": {},
   "source": [
    "4. Write a program that prompts the user to enter two numbers and then swaps the values of the two variables."
   ]
  },
  {
   "cell_type": "code",
   "execution_count": 6,
   "id": "499a1cd2",
   "metadata": {},
   "outputs": [
    {
     "name": "stdout",
     "output_type": "stream",
     "text": [
      "Enter a number:8\n",
      "Enter a number:12\n",
      "num1 is swapped & is 12\n",
      "num2 is swapped & is 8\n"
     ]
    }
   ],
   "source": [
    "num1 = int(input(\"Enter a number:\"))\n",
    "num2 = int(input(\"Enter a number:\"))\n",
    "\n",
    "num1, num2 = num2, num1\n",
    "\n",
    "print(f'num1 is swapped & is {num1}')\n",
    "print(f'num2 is swapped & is {num2}')"
   ]
  },
  {
   "cell_type": "markdown",
   "id": "ab43e767",
   "metadata": {},
   "source": [
    "5. Write a program that takes a string as input and then prints out each character of the string on a new line."
   ]
  },
  {
   "cell_type": "code",
   "execution_count": 8,
   "id": "cbc088bd",
   "metadata": {},
   "outputs": [
    {
     "name": "stdout",
     "output_type": "stream",
     "text": [
      "enter a string: pavani\n",
      "p\n",
      "a\n",
      "v\n",
      "a\n",
      "n\n",
      "i\n"
     ]
    }
   ],
   "source": [
    "s = input(\"enter a string: \")\n",
    "i=0\n",
    "while(i<len(s)):\n",
    "    print(s[i])\n",
    "    i=i+1"
   ]
  },
  {
   "cell_type": "markdown",
   "id": "3b89541a",
   "metadata": {},
   "source": [
    "6. Write a program that takes a list of numbers as input and then calculates the average of the numbers."
   ]
  },
  {
   "cell_type": "code",
   "execution_count": 11,
   "id": "30f22cf7",
   "metadata": {},
   "outputs": [
    {
     "name": "stdout",
     "output_type": "stream",
     "text": [
      "Average of numbers is 4.5\n"
     ]
    }
   ],
   "source": [
    "list = [4,3,2,9]\n",
    "i=0\n",
    "sum = 0 \n",
    "while(i<len(list)):\n",
    "    sum = sum + list[i]\n",
    "    i=i+1\n",
    "    \n",
    "avg = sum / len(list)\n",
    "\n",
    "print(f'Average of numbers is {avg}')"
   ]
  },
  {
   "cell_type": "markdown",
   "id": "a0d59df8",
   "metadata": {},
   "source": [
    "\n",
    "7. Write a program that prompts the user to enter a number and then checks if the number is positive, negative, or zero."
   ]
  },
  {
   "cell_type": "code",
   "execution_count": 14,
   "id": "94a24049",
   "metadata": {},
   "outputs": [
    {
     "name": "stdout",
     "output_type": "stream",
     "text": [
      "Enter a number:0\n",
      "Number is zero\n"
     ]
    }
   ],
   "source": [
    "num = int(input(\"Enter a number:\"))\n",
    "\n",
    "if(num < 0):\n",
    "    print(\"Number is Negative\")\n",
    "elif(num > 0):\n",
    "    print(\"Number is positive\")\n",
    "else:\n",
    "    print(\"Number is zero\")"
   ]
  },
  {
   "cell_type": "markdown",
   "id": "fda2867c",
   "metadata": {},
   "source": [
    "8. Write a program that takes a string as input and then checks if the string is a palindrome."
   ]
  },
  {
   "cell_type": "code",
   "execution_count": 31,
   "id": "e0af364e",
   "metadata": {},
   "outputs": [
    {
     "name": "stdout",
     "output_type": "stream",
     "text": [
      "enter a string: pamdap\n",
      "not a palindrome\n"
     ]
    }
   ],
   "source": [
    "s = input(\"enter a string: \")\n",
    "i = 0\n",
    "#print(len(s))\n",
    "\n",
    "while(i < len(s)/2):\n",
    "    if(s[i] == s[-(i+1)]):\n",
    "        i=i+1\n",
    "    else:\n",
    "        break\n",
    "    \n",
    "if(i >= len(s)/2):\n",
    "    print(\"palindrome\")\n",
    "else:\n",
    "    print(\"not a palindrome\")"
   ]
  },
  {
   "cell_type": "markdown",
   "id": "8b702845",
   "metadata": {},
   "source": [
    "\n",
    "9. Write a Python program to display your details like name, age, address in three different lines."
   ]
  },
  {
   "cell_type": "code",
   "execution_count": 32,
   "id": "47d78768",
   "metadata": {},
   "outputs": [
    {
     "name": "stdout",
     "output_type": "stream",
     "text": [
      "Enter the name:pavani\n",
      "Enter Age:23\n",
      "Enter the address:west Haven\n",
      "pavani\n",
      "23\n",
      "west Haven\n"
     ]
    }
   ],
   "source": [
    "Name = input(\"Enter the name:\")\n",
    "Age = int(input(\"Enter Age:\"))\n",
    "address = input(\"Enter the address:\")\n",
    "\n",
    "print(Name)\n",
    "print(Age)\n",
    "print(address)"
   ]
  },
  {
   "cell_type": "markdown",
   "id": "e186546d",
   "metadata": {},
   "source": [
    "10. Write a Python program to display the current date and time.\n"
   ]
  },
  {
   "cell_type": "code",
   "execution_count": 33,
   "id": "d7b3e9a5",
   "metadata": {},
   "outputs": [
    {
     "name": "stdout",
     "output_type": "stream",
     "text": [
      "2023-12-08 13:30:52.907357\n"
     ]
    }
   ],
   "source": [
    "from datetime import datetime\n",
    "\n",
    "print(datetime.now())"
   ]
  },
  {
   "cell_type": "markdown",
   "id": "56e13403",
   "metadata": {},
   "source": [
    "11. Write a Python program which accepts the radius of a circle from the user and compute the area.\n"
   ]
  },
  {
   "cell_type": "code",
   "execution_count": 35,
   "id": "cfc809b2",
   "metadata": {},
   "outputs": [
    {
     "name": "stdout",
     "output_type": "stream",
     "text": [
      "Enter radius of a circle:4\n",
      "Area of circle of radius4 is: 50.24\n"
     ]
    }
   ],
   "source": [
    "radius = input(\"Enter radius of a circle:\")\n",
    "\n",
    "Area = 3.14 * float(radius) * float(radius)\n",
    "\n",
    "print(f'Area of circle of radius{radius} is: {Area}')"
   ]
  },
  {
   "cell_type": "markdown",
   "id": "b8efe7ba",
   "metadata": {},
   "source": [
    "12. Write a Python program that accepts an integer (n) and computes the value of n+nn+nnn"
   ]
  },
  {
   "cell_type": "code",
   "execution_count": 36,
   "id": "c3c86ab8",
   "metadata": {},
   "outputs": [
    {
     "name": "stdout",
     "output_type": "stream",
     "text": [
      "Enter a number:5\n",
      "value of n+nn+nnn is: 615\n"
     ]
    }
   ],
   "source": [
    "num1 = input(\"Enter a number:\")\n",
    "\n",
    "num2 = num1+num1\n",
    "\n",
    "num3 = num2+num1\n",
    "\n",
    "sum = int(num1) + int(num2) + int(num3)\n",
    "\n",
    "print(\"value of n+nn+nnn is:\", sum)\n",
    "\n",
    "\n"
   ]
  },
  {
   "cell_type": "code",
   "execution_count": null,
   "id": "58f07f1b",
   "metadata": {},
   "outputs": [],
   "source": []
  }
 ],
 "metadata": {
  "kernelspec": {
   "display_name": "Python 3 (ipykernel)",
   "language": "python",
   "name": "python3"
  },
  "language_info": {
   "codemirror_mode": {
    "name": "ipython",
    "version": 3
   },
   "file_extension": ".py",
   "mimetype": "text/x-python",
   "name": "python",
   "nbconvert_exporter": "python",
   "pygments_lexer": "ipython3",
   "version": "3.10.9"
  }
 },
 "nbformat": 4,
 "nbformat_minor": 5
}
