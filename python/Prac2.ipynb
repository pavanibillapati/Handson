{
 "cells": [
  {
   "cell_type": "code",
   "execution_count": 1,
   "id": "0bbb4eb7",
   "metadata": {},
   "outputs": [
    {
     "ename": "SyntaxError",
     "evalue": "invalid decimal literal (1187545790.py, line 1)",
     "output_type": "error",
     "traceback": [
      "\u001b[1;36m  Cell \u001b[1;32mIn[1], line 1\u001b[1;36m\u001b[0m\n\u001b[1;33m    1num = 1\u001b[0m\n\u001b[1;37m    ^\u001b[0m\n\u001b[1;31mSyntaxError\u001b[0m\u001b[1;31m:\u001b[0m invalid decimal literal\n"
     ]
    }
   ],
   "source": [
    "1num = 1"
   ]
  },
  {
   "cell_type": "code",
   "execution_count": 2,
   "id": "f3afc1ab",
   "metadata": {},
   "outputs": [],
   "source": [
    "num = 1"
   ]
  },
  {
   "cell_type": "code",
   "execution_count": 3,
   "id": "e26ecd72",
   "metadata": {},
   "outputs": [],
   "source": [
    "_num2 = 3"
   ]
  },
  {
   "cell_type": "code",
   "execution_count": 4,
   "id": "c814d008",
   "metadata": {},
   "outputs": [],
   "source": [
    "sumOfCharcters = 0"
   ]
  },
  {
   "cell_type": "code",
   "execution_count": 5,
   "id": "3e0de10e",
   "metadata": {},
   "outputs": [],
   "source": [
    "sum_of_charcters = 0"
   ]
  },
  {
   "cell_type": "code",
   "execution_count": 6,
   "id": "3702a2ed",
   "metadata": {},
   "outputs": [],
   "source": [
    "Age = 2"
   ]
  },
  {
   "cell_type": "code",
   "execution_count": 7,
   "id": "2a356b47",
   "metadata": {},
   "outputs": [],
   "source": [
    "age = 2"
   ]
  },
  {
   "cell_type": "code",
   "execution_count": 8,
   "id": "7d4dc2b0",
   "metadata": {},
   "outputs": [],
   "source": [
    "AGE = 3"
   ]
  },
  {
   "cell_type": "code",
   "execution_count": 9,
   "id": "a900eacb",
   "metadata": {},
   "outputs": [],
   "source": [
    "str1 = \"\"\"this is multi-line\n",
    "string\"\"\""
   ]
  },
  {
   "cell_type": "code",
   "execution_count": 3,
   "id": "811e3e4e",
   "metadata": {},
   "outputs": [],
   "source": [
    "str2 ='''this is another example \n",
    "of \n",
    "multi-line string'''"
   ]
  },
  {
   "cell_type": "code",
   "execution_count": null,
   "id": "f805abef",
   "metadata": {},
   "outputs": [],
   "source": [
    "def countOfCharacters(str1):\n",
    "    dict1 = {}\n",
    "    \n",
    "    for char in str1:\n",
    "        if char not in dict1:\n",
    "            dict."
   ]
  },
  {
   "cell_type": "code",
   "execution_count": 11,
   "id": "86216936",
   "metadata": {},
   "outputs": [],
   "source": [
    "dict1 = {1:'a'}"
   ]
  },
  {
   "cell_type": "code",
   "execution_count": 17,
   "id": "e88c41b9",
   "metadata": {},
   "outputs": [
    {
     "ename": "TypeError",
     "evalue": "descriptor 'update' for 'dict' objects doesn't apply to a 'int' object",
     "output_type": "error",
     "traceback": [
      "\u001b[1;31m-------------------------------------------------------------------------\u001b[0m",
      "\u001b[1;31mTypeError\u001b[0m                               Traceback (most recent call last)",
      "Cell \u001b[1;32mIn[17], line 1\u001b[0m\n\u001b[1;32m----> 1\u001b[0m \u001b[38;5;28;43mdict\u001b[39;49m\u001b[38;5;241;43m.\u001b[39;49m\u001b[43mupdate\u001b[49m\u001b[43m(\u001b[49m\u001b[38;5;241;43m1\u001b[39;49m\u001b[43m)\u001b[49m\n",
      "\u001b[1;31mTypeError\u001b[0m: descriptor 'update' for 'dict' objects doesn't apply to a 'int' object"
     ]
    }
   ],
   "source": [
    "dict.update(1)"
   ]
  },
  {
   "cell_type": "code",
   "execution_count": null,
   "id": "a75c45f9",
   "metadata": {},
   "outputs": [],
   "source": []
  },
  {
   "cell_type": "code",
   "execution_count": 13,
   "id": "68bbed95",
   "metadata": {},
   "outputs": [],
   "source": [
    "def replaceVowelsWithSpecialCharacters(str1):\n",
    "    input_str = list(str1)\n",
    "    output_str = []\n",
    "    \n",
    "    for char in input_str:\n",
    "        if char in ['A','E','I','O','U','a','e','i','o','u']:\n",
    "            output_str.append('@')\n",
    "        else:\n",
    "            output_str.append(char)\n",
    "            \n",
    "    output_str = \"\".join(output_str)\n",
    "    print(str(output_str))\n",
    "    \n",
    "    return 1"
   ]
  },
  {
   "cell_type": "code",
   "execution_count": 23,
   "id": "ab5acfa7",
   "metadata": {},
   "outputs": [],
   "source": [
    "def replaceVowelsWithSpecialCharacters(str1):\n",
    "    input_str = list(str1)\n",
    "    output_str = []\n",
    "    \n",
    "    for char in input_str:\n",
    "        if char in ['A', 'E', 'I', 'O', 'U', 'a', 'e', 'i', 'o', 'u']:\n",
    "            output_str.append('@')\n",
    "        else:\n",
    "            output_str.append(char)\n",
    "    \n",
    "    output_str = ''.join(output_str)  # Convert the list to a string\n",
    "    print(output_str)\n",
    "    return 1"
   ]
  },
  {
   "cell_type": "code",
   "execution_count": 14,
   "id": "bac61262",
   "metadata": {},
   "outputs": [
    {
     "name": "stdout",
     "output_type": "stream",
     "text": [
      "th@s @s @n@th@r @x@mpl@ \n",
      "@f \n",
      "m@lt@-l@n@ str@ng\n"
     ]
    },
    {
     "data": {
      "text/plain": [
       "1"
      ]
     },
     "execution_count": 14,
     "metadata": {},
     "output_type": "execute_result"
    }
   ],
   "source": [
    "replaceVowelsWithSpecialCharacters(str2)"
   ]
  },
  {
   "cell_type": "code",
   "execution_count": 17,
   "id": "b2869b25",
   "metadata": {},
   "outputs": [],
   "source": [
    "list1 = [1,2,3]"
   ]
  },
  {
   "cell_type": "code",
   "execution_count": 26,
   "id": "04c33426",
   "metadata": {},
   "outputs": [],
   "source": [
    "str1 = str(list1)"
   ]
  },
  {
   "cell_type": "code",
   "execution_count": 27,
   "id": "89d2680f",
   "metadata": {},
   "outputs": [
    {
     "data": {
      "text/plain": [
       "'[1, 2, 3]'"
      ]
     },
     "execution_count": 27,
     "metadata": {},
     "output_type": "execute_result"
    }
   ],
   "source": [
    "str1"
   ]
  },
  {
   "cell_type": "code",
   "execution_count": 11,
   "id": "132cfa76",
   "metadata": {},
   "outputs": [],
   "source": [
    "str1 = ['t', 'h', '@', 's', ' ', '@', 's', ' ', '@', 'n', '@', 't', 'h', '@', 'r', ' ', '@', 'x', '@', 'm', 'p', 'l', '@', ' ', '\\n', '@', 'f', ' ', '\\n', 'm', '@', 'l', 't', '@', '-', 'l', '@', 'n', '@', ' ', 's', 't', 'r', '@', 'n', 'g']"
   ]
  },
  {
   "cell_type": "code",
   "execution_count": 12,
   "id": "a104b0af",
   "metadata": {},
   "outputs": [
    {
     "data": {
      "text/plain": [
       "\"['t', 'h', '@', 's', ' ', '@', 's', ' ', '@', 'n', '@', 't', 'h', '@', 'r', ' ', '@', 'x', '@', 'm', 'p', 'l', '@', ' ', '\\\\n', '@', 'f', ' ', '\\\\n', 'm', '@', 'l', 't', '@', '-', 'l', '@', 'n', '@', ' ', 's', 't', 'r', '@', 'n', 'g']\""
      ]
     },
     "execution_count": 12,
     "metadata": {},
     "output_type": "execute_result"
    }
   ],
   "source": [
    "str(str1)"
   ]
  },
  {
   "cell_type": "code",
   "execution_count": 15,
   "id": "5e41f842",
   "metadata": {},
   "outputs": [
    {
     "data": {
      "text/plain": [
       "'th@s @s @n@th@r @x@mpl@ \\n@f \\nm@lt@-l@n@ str@ng'"
      ]
     },
     "execution_count": 15,
     "metadata": {},
     "output_type": "execute_result"
    }
   ],
   "source": [
    "\"\".join(str1)"
   ]
  },
  {
   "cell_type": "code",
   "execution_count": 16,
   "id": "39fd5d83",
   "metadata": {},
   "outputs": [
    {
     "data": {
      "text/plain": [
       "'(3, 4, 5)'"
      ]
     },
     "execution_count": 16,
     "metadata": {},
     "output_type": "execute_result"
    }
   ],
   "source": [
    "t = (3,4,5)\n",
    "str(t)"
   ]
  },
  {
   "cell_type": "code",
   "execution_count": 17,
   "id": "6de1d431",
   "metadata": {},
   "outputs": [
    {
     "ename": "TypeError",
     "evalue": "sequence item 0: expected str instance, int found",
     "output_type": "error",
     "traceback": [
      "\u001b[1;31m-------------------------------------------------------------------------\u001b[0m",
      "\u001b[1;31mTypeError\u001b[0m                               Traceback (most recent call last)",
      "Cell \u001b[1;32mIn[17], line 1\u001b[0m\n\u001b[1;32m----> 1\u001b[0m \u001b[38;5;124;43m\"\u001b[39;49m\u001b[38;5;124;43m\"\u001b[39;49m\u001b[38;5;241;43m.\u001b[39;49m\u001b[43mjoin\u001b[49m\u001b[43m(\u001b[49m\u001b[43mt\u001b[49m\u001b[43m)\u001b[49m\n",
      "\u001b[1;31mTypeError\u001b[0m: sequence item 0: expected str instance, int found"
     ]
    }
   ],
   "source": [
    "\"\".join(t)"
   ]
  },
  {
   "cell_type": "code",
   "execution_count": 18,
   "id": "e12d8cc1",
   "metadata": {},
   "outputs": [],
   "source": [
    "list1 = [2,3,4]"
   ]
  },
  {
   "cell_type": "code",
   "execution_count": 19,
   "id": "f5da14ce",
   "metadata": {},
   "outputs": [
    {
     "data": {
      "text/plain": [
       "list"
      ]
     },
     "execution_count": 19,
     "metadata": {},
     "output_type": "execute_result"
    }
   ],
   "source": [
    "type(list1)"
   ]
  },
  {
   "cell_type": "code",
   "execution_count": 22,
   "id": "6af18e1d",
   "metadata": {},
   "outputs": [],
   "source": [
    "s = {5,2,3,3}"
   ]
  },
  {
   "cell_type": "code",
   "execution_count": 23,
   "id": "1602f7e4",
   "metadata": {},
   "outputs": [
    {
     "data": {
      "text/plain": [
       "{2, 3, 5}"
      ]
     },
     "execution_count": 23,
     "metadata": {},
     "output_type": "execute_result"
    }
   ],
   "source": [
    "s"
   ]
  },
  {
   "cell_type": "code",
   "execution_count": 33,
   "id": "b34c9009",
   "metadata": {},
   "outputs": [
    {
     "name": "stdout",
     "output_type": "stream",
     "text": [
      "<class 'set'>\n"
     ]
    }
   ],
   "source": [
    "print(type(s))"
   ]
  },
  {
   "cell_type": "code",
   "execution_count": 28,
   "id": "45c536f1",
   "metadata": {},
   "outputs": [],
   "source": [
    "d = {1:\"est\", 2:\"pst\"}"
   ]
  },
  {
   "cell_type": "code",
   "execution_count": 32,
   "id": "03ab2256",
   "metadata": {},
   "outputs": [
    {
     "name": "stdout",
     "output_type": "stream",
     "text": [
      "<class 'dict'>\n"
     ]
    }
   ],
   "source": [
    "print(type(d))"
   ]
  },
  {
   "cell_type": "code",
   "execution_count": 29,
   "id": "850ccf45",
   "metadata": {},
   "outputs": [],
   "source": [
    "thisdict = {\n",
    "  \"brand\": \"Ford\",\n",
    "  \"model\": \"Mustang\",\n",
    "  \"year\": 1964\n",
    "}\n",
    "\n"
   ]
  },
  {
   "cell_type": "code",
   "execution_count": 31,
   "id": "19a801a8",
   "metadata": {},
   "outputs": [
    {
     "name": "stdout",
     "output_type": "stream",
     "text": [
      "<class 'dict'>\n"
     ]
    }
   ],
   "source": [
    "print(type(thisdict))"
   ]
  },
  {
   "cell_type": "code",
   "execution_count": 34,
   "id": "c10661d2",
   "metadata": {},
   "outputs": [],
   "source": [
    "i = 0"
   ]
  },
  {
   "cell_type": "code",
   "execution_count": 35,
   "id": "72562a3e",
   "metadata": {},
   "outputs": [
    {
     "name": "stdout",
     "output_type": "stream",
     "text": [
      "<class 'int'>\n"
     ]
    }
   ],
   "source": [
    "print(type(i))"
   ]
  },
  {
   "cell_type": "code",
   "execution_count": 37,
   "id": "17130535",
   "metadata": {},
   "outputs": [],
   "source": [
    "import random"
   ]
  },
  {
   "cell_type": "code",
   "execution_count": 43,
   "id": "50fa4740",
   "metadata": {},
   "outputs": [
    {
     "data": {
      "text/plain": [
       "6"
      ]
     },
     "execution_count": 43,
     "metadata": {},
     "output_type": "execute_result"
    }
   ],
   "source": [
    "random.randrange(0,9)"
   ]
  },
  {
   "cell_type": "code",
   "execution_count": 44,
   "id": "fc735b7c",
   "metadata": {},
   "outputs": [],
   "source": [
    "import numpy as np"
   ]
  },
  {
   "cell_type": "code",
   "execution_count": 47,
   "id": "b89131f3",
   "metadata": {},
   "outputs": [
    {
     "data": {
      "text/plain": [
       "array([0.74617246, 0.85160538, 0.38792612, 0.83065677, 0.70200094,\n",
       "       0.18793899, 0.0697879 , 0.76029149, 0.63875199, 0.47845228])"
      ]
     },
     "execution_count": 47,
     "metadata": {},
     "output_type": "execute_result"
    }
   ],
   "source": [
    "np.random.rand(10)"
   ]
  },
  {
   "cell_type": "code",
   "execution_count": null,
   "id": "1847b177",
   "metadata": {},
   "outputs": [],
   "source": []
  }
 ],
 "metadata": {
  "kernelspec": {
   "display_name": "Python 3 (ipykernel)",
   "language": "python",
   "name": "python3"
  },
  "language_info": {
   "codemirror_mode": {
    "name": "ipython",
    "version": 3
   },
   "file_extension": ".py",
   "mimetype": "text/x-python",
   "name": "python",
   "nbconvert_exporter": "python",
   "pygments_lexer": "ipython3",
   "version": "3.10.9"
  }
 },
 "nbformat": 4,
 "nbformat_minor": 5
}
