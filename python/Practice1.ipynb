{
 "cells": [
  {
   "cell_type": "code",
   "execution_count": 1,
   "id": "be781520",
   "metadata": {},
   "outputs": [],
   "source": [
    "num = 10"
   ]
  },
  {
   "cell_type": "code",
   "execution_count": 7,
   "id": "090d4a4b",
   "metadata": {},
   "outputs": [
    {
     "data": {
      "text/plain": [
       "str"
      ]
     },
     "execution_count": 7,
     "metadata": {},
     "output_type": "execute_result"
    }
   ],
   "source": [
    "type(num)"
   ]
  },
  {
   "cell_type": "code",
   "execution_count": 6,
   "id": "1e7779cf",
   "metadata": {},
   "outputs": [],
   "source": [
    "num = \"hgnjk\""
   ]
  },
  {
   "cell_type": "code",
   "execution_count": 8,
   "id": "fbf3e9e3",
   "metadata": {},
   "outputs": [],
   "source": [
    "num2 = 2"
   ]
  },
  {
   "cell_type": "code",
   "execution_count": 11,
   "id": "957c55d8",
   "metadata": {},
   "outputs": [],
   "source": [
    "num1 = num * num2"
   ]
  },
  {
   "cell_type": "code",
   "execution_count": 12,
   "id": "d3f82b66",
   "metadata": {},
   "outputs": [
    {
     "data": {
      "text/plain": [
       "'hgnjkhgnjk'"
      ]
     },
     "execution_count": 12,
     "metadata": {},
     "output_type": "execute_result"
    }
   ],
   "source": [
    "num1"
   ]
  },
  {
   "cell_type": "code",
   "execution_count": 13,
   "id": "b3adddb9",
   "metadata": {},
   "outputs": [
    {
     "name": "stdout",
     "output_type": "stream",
     "text": [
      "hgnjkhgnjk\n"
     ]
    }
   ],
   "source": [
    "print(num1)"
   ]
  },
  {
   "cell_type": "code",
   "execution_count": 14,
   "id": "9d7b9621",
   "metadata": {},
   "outputs": [
    {
     "name": "stdout",
     "output_type": "stream",
     "text": [
      "the num1 is hgnjk\n"
     ]
    }
   ],
   "source": [
    "print(\"the num1 is\",num)"
   ]
  },
  {
   "cell_type": "code",
   "execution_count": 16,
   "id": "387c4eb8",
   "metadata": {},
   "outputs": [
    {
     "name": "stdout",
     "output_type": "stream",
     "text": [
      "the num1 hgnjkhgnjk is hgnjk\n"
     ]
    }
   ],
   "source": [
    "print(f'the num1 {num1} is {num}')"
   ]
  },
  {
   "cell_type": "code",
   "execution_count": 17,
   "id": "384702cb",
   "metadata": {},
   "outputs": [
    {
     "data": {
      "text/plain": [
       "'h'"
      ]
     },
     "execution_count": 17,
     "metadata": {},
     "output_type": "execute_result"
    }
   ],
   "source": [
    "num1[0]"
   ]
  },
  {
   "cell_type": "code",
   "execution_count": 19,
   "id": "a8a0be61",
   "metadata": {},
   "outputs": [
    {
     "data": {
      "text/plain": [
       "'j'"
      ]
     },
     "execution_count": 19,
     "metadata": {},
     "output_type": "execute_result"
    }
   ],
   "source": [
    "num[-2]"
   ]
  },
  {
   "cell_type": "code",
   "execution_count": 20,
   "id": "e008b395",
   "metadata": {},
   "outputs": [
    {
     "data": {
      "text/plain": [
       "'gn'"
      ]
     },
     "execution_count": 20,
     "metadata": {},
     "output_type": "execute_result"
    }
   ],
   "source": [
    "num[1:3]"
   ]
  },
  {
   "cell_type": "code",
   "execution_count": 21,
   "id": "a5d38c13",
   "metadata": {},
   "outputs": [
    {
     "data": {
      "text/plain": [
       "'hjgk'"
      ]
     },
     "execution_count": 21,
     "metadata": {},
     "output_type": "execute_result"
    }
   ],
   "source": [
    "num1[::3]"
   ]
  },
  {
   "cell_type": "code",
   "execution_count": null,
   "id": "9e87a3c0",
   "metadata": {},
   "outputs": [],
   "source": [
    "list - [] - muttable\n",
    "tuple -() - immutable\n",
    "set - {} - order preserve, mutable\n",
    "dict -{}, key value - mutable"
   ]
  },
  {
   "cell_type": "code",
   "execution_count": 22,
   "id": "0f5a0917",
   "metadata": {},
   "outputs": [],
   "source": [
    "set_num = {78,44,11,99,22}"
   ]
  },
  {
   "cell_type": "code",
   "execution_count": 25,
   "id": "96fd2288",
   "metadata": {},
   "outputs": [],
   "source": [
    "set_num.remove(44)"
   ]
  },
  {
   "cell_type": "code",
   "execution_count": 26,
   "id": "047db2cd",
   "metadata": {},
   "outputs": [
    {
     "data": {
      "text/plain": [
       "{11, 22, 78, 99}"
      ]
     },
     "execution_count": 26,
     "metadata": {},
     "output_type": "execute_result"
    }
   ],
   "source": [
    "set_num"
   ]
  },
  {
   "cell_type": "code",
   "execution_count": 28,
   "id": "dca947d0",
   "metadata": {},
   "outputs": [],
   "source": [
    "set_num.add(18)"
   ]
  },
  {
   "cell_type": "code",
   "execution_count": 29,
   "id": "c085a0df",
   "metadata": {},
   "outputs": [
    {
     "data": {
      "text/plain": [
       "{11, 18, 22, 78, 99}"
      ]
     },
     "execution_count": 29,
     "metadata": {},
     "output_type": "execute_result"
    }
   ],
   "source": [
    "set_num"
   ]
  },
  {
   "cell_type": "code",
   "execution_count": 36,
   "id": "8eea8524",
   "metadata": {},
   "outputs": [],
   "source": [
    "list1  = tuple(range(0,9))"
   ]
  },
  {
   "cell_type": "code",
   "execution_count": 37,
   "id": "918c79d5",
   "metadata": {},
   "outputs": [
    {
     "data": {
      "text/plain": [
       "(0, 1, 2, 3, 4, 5, 6, 7, 8)"
      ]
     },
     "execution_count": 37,
     "metadata": {},
     "output_type": "execute_result"
    }
   ],
   "source": [
    "list1"
   ]
  },
  {
   "cell_type": "code",
   "execution_count": 41,
   "id": "cea77ff0",
   "metadata": {},
   "outputs": [
    {
     "name": "stdout",
     "output_type": "stream",
     "text": [
      "h\n",
      "g\n",
      "n\n",
      "j\n",
      "k\n",
      "h\n",
      "g\n",
      "n\n",
      "j\n",
      "k\n"
     ]
    }
   ],
   "source": [
    "for num in num1:\n",
    "    print(num)"
   ]
  },
  {
   "cell_type": "code",
   "execution_count": 45,
   "id": "d89bb76d",
   "metadata": {},
   "outputs": [
    {
     "data": {
      "text/plain": [
       "[3, 5, 7]"
      ]
     },
     "execution_count": 45,
     "metadata": {},
     "output_type": "execute_result"
    }
   ],
   "source": [
    "list(range(3,9,2))"
   ]
  },
  {
   "cell_type": "code",
   "execution_count": 46,
   "id": "0dcbdbc7",
   "metadata": {},
   "outputs": [
    {
     "data": {
      "text/plain": [
       "[0, 1, 2, 3, 4, 5, 6, 7]"
      ]
     },
     "execution_count": 46,
     "metadata": {},
     "output_type": "execute_result"
    }
   ],
   "source": [
    "list(range(8))"
   ]
  },
  {
   "cell_type": "code",
   "execution_count": 47,
   "id": "2d1edff1",
   "metadata": {},
   "outputs": [
    {
     "data": {
      "text/plain": [
       "[8, 9, 10, 11]"
      ]
     },
     "execution_count": 47,
     "metadata": {},
     "output_type": "execute_result"
    }
   ],
   "source": [
    "list(range(8,12))"
   ]
  },
  {
   "cell_type": "code",
   "execution_count": 48,
   "id": "3108a444",
   "metadata": {},
   "outputs": [
    {
     "data": {
      "text/plain": [
       "[2, 7]"
      ]
     },
     "execution_count": 48,
     "metadata": {},
     "output_type": "execute_result"
    }
   ],
   "source": [
    "list(range(2,10,5))"
   ]
  },
  {
   "cell_type": "code",
   "execution_count": 49,
   "id": "4187bc40",
   "metadata": {},
   "outputs": [
    {
     "name": "stdout",
     "output_type": "stream",
     "text": [
      "0\n",
      "1\n",
      "2\n",
      "3\n",
      "4\n",
      "finally\n"
     ]
    }
   ],
   "source": [
    "for num in range(5):\n",
    "    print(num)\n",
    "else:\n",
    "    print(\"finally\")"
   ]
  },
  {
   "cell_type": "code",
   "execution_count": 65,
   "id": "9e46d350",
   "metadata": {},
   "outputs": [],
   "source": [
    "def test(l):\n",
    "    print(list1)"
   ]
  },
  {
   "cell_type": "code",
   "execution_count": 67,
   "id": "e8b6cf42",
   "metadata": {},
   "outputs": [
    {
     "name": "stdout",
     "output_type": "stream",
     "text": [
      "(0, 1, 2, 3, 4, 5, 6, 7, 8)\n"
     ]
    }
   ],
   "source": [
    "test(list1)"
   ]
  },
  {
   "cell_type": "code",
   "execution_count": 1,
   "id": "14a9fbbc",
   "metadata": {},
   "outputs": [],
   "source": [
    "def fact(num):\n",
    "    if num == 0 or num == 1:\n",
    "        return 1\n",
    "    else:\n",
    "        return num * fact(num - 1)"
   ]
  },
  {
   "cell_type": "code",
   "execution_count": 2,
   "id": "407ca856",
   "metadata": {},
   "outputs": [
    {
     "data": {
      "text/plain": [
       "6"
      ]
     },
     "execution_count": 2,
     "metadata": {},
     "output_type": "execute_result"
    }
   ],
   "source": [
    "fact(3)"
   ]
  },
  {
   "cell_type": "code",
   "execution_count": 5,
   "id": "7a4025d5",
   "metadata": {},
   "outputs": [],
   "source": [
    "x = lambda a,b: a+b"
   ]
  },
  {
   "cell_type": "code",
   "execution_count": 6,
   "id": "275879a5",
   "metadata": {},
   "outputs": [
    {
     "data": {
      "text/plain": [
       "13"
      ]
     },
     "execution_count": 6,
     "metadata": {},
     "output_type": "execute_result"
    }
   ],
   "source": [
    "x(6,7)"
   ]
  },
  {
   "cell_type": "code",
   "execution_count": 3,
   "id": "5f536aa2",
   "metadata": {},
   "outputs": [
    {
     "ename": "SyntaxError",
     "evalue": "invalid syntax (1888112986.py, line 1)",
     "output_type": "error",
     "traceback": [
      "\u001b[1;36m  Cell \u001b[1;32mIn[3], line 1\u001b[1;36m\u001b[0m\n\u001b[1;33m    if = [2,3,4]\u001b[0m\n\u001b[1;37m       ^\u001b[0m\n\u001b[1;31mSyntaxError\u001b[0m\u001b[1;31m:\u001b[0m invalid syntax\n"
     ]
    }
   ],
   "source": [
    "if = [2,3,4]"
   ]
  },
  {
   "cell_type": "code",
   "execution_count": 1,
   "id": "c8964634",
   "metadata": {},
   "outputs": [],
   "source": [
    "l1 = list(range(5))"
   ]
  },
  {
   "cell_type": "code",
   "execution_count": 13,
   "id": "bc842103",
   "metadata": {},
   "outputs": [],
   "source": [
    "i = bytes([65])"
   ]
  },
  {
   "cell_type": "code",
   "execution_count": 7,
   "id": "fd983bdd",
   "metadata": {},
   "outputs": [
    {
     "data": {
      "text/plain": [
       "bytes"
      ]
     },
     "execution_count": 7,
     "metadata": {},
     "output_type": "execute_result"
    }
   ],
   "source": [
    "type(i)"
   ]
  },
  {
   "cell_type": "code",
   "execution_count": 8,
   "id": "7f48bca3",
   "metadata": {},
   "outputs": [
    {
     "name": "stdout",
     "output_type": "stream",
     "text": [
      "b'A'\n"
     ]
    }
   ],
   "source": [
    "print(i)"
   ]
  },
  {
   "cell_type": "code",
   "execution_count": 12,
   "id": "e48447e3",
   "metadata": {},
   "outputs": [],
   "source": [
    "i = bytes([64])"
   ]
  },
  {
   "cell_type": "code",
   "execution_count": 9,
   "id": "7310c571",
   "metadata": {},
   "outputs": [
    {
     "name": "stdout",
     "output_type": "stream",
     "text": [
      "72\n",
      "bytearray(b'Wello, World!')\n"
     ]
    }
   ],
   "source": [
    "# Creating a bytearray\n",
    "my_bytearray = bytearray(b'Hello, World!')\n",
    "\n",
    "# Creating a memoryview from the bytearray\n",
    "mv = memoryview(my_bytearray)\n",
    "\n",
    "# Accessing and modifying elements through memoryview\n",
    "print(mv[0])  # Output: 72 (ASCII value of 'H')\n",
    "mv[0] = 87    # Changing the first byte to ASCII value for 'W'\n",
    "\n",
    "# The original bytearray is modified through memoryview\n",
    "print(my_bytearray)  # Output: bytearray(b'Wello, World!')\n"
   ]
  },
  {
   "cell_type": "code",
   "execution_count": null,
   "id": "6e371be6",
   "metadata": {},
   "outputs": [],
   "source": [
    "# Bytes example\n",
    "byte_str = b'hello'  # Immutable\n",
    "print(byte_str[0])   # Accessing elements\n",
    "\n",
    "# Bytearray example\n",
    "byte_array = bytearray(b'hello')  # Mutable\n",
    "byte_array[0] = 87  # Changing a byte\n",
    "print(byte_array)\n",
    "byte_array.extend(b' world')  # Extending the bytearray\n",
    "print(byte_array)\n"
   ]
  },
  {
   "cell_type": "code",
   "execution_count": 11,
   "id": "a4c595dc",
   "metadata": {},
   "outputs": [
    {
     "ename": "TypeError",
     "evalue": "'list' object is not callable",
     "output_type": "error",
     "traceback": [
      "\u001b[1;31m-------------------------------------------------------------------------\u001b[0m",
      "\u001b[1;31mTypeError\u001b[0m                               Traceback (most recent call last)",
      "Cell \u001b[1;32mIn[11], line 2\u001b[0m\n\u001b[0;32m      1\u001b[0m s1 \u001b[38;5;241m=\u001b[39m \u001b[38;5;124m\"\u001b[39m\u001b[38;5;124mA\u001b[39m\u001b[38;5;124m\"\u001b[39m\n\u001b[1;32m----> 2\u001b[0m x \u001b[38;5;241m=\u001b[39m \u001b[38;5;28;43mint\u001b[39;49m\u001b[43m(\u001b[49m\u001b[43ms1\u001b[49m\u001b[43m)\u001b[49m\n",
      "\u001b[1;31mTypeError\u001b[0m: 'list' object is not callable"
     ]
    }
   ],
   "source": [
    "s1 = \"A\"\n",
    "x = int(s1)"
   ]
  },
  {
   "cell_type": "code",
   "execution_count": 14,
   "id": "b4d80172",
   "metadata": {},
   "outputs": [
    {
     "name": "stdout",
     "output_type": "stream",
     "text": [
      "104\n",
      "bytearray(b'Wello')\n",
      "bytearray(b'Wello world')\n"
     ]
    }
   ],
   "source": [
    "# Bytes example\n",
    "byte_str = b'hello'  # Immutable\n",
    "print(byte_str[0])   # Accessing elements\n",
    "\n",
    "# Bytearray example\n",
    "byte_array = bytearray(b'hello')  # Mutable\n",
    "byte_array[0] = 87  # Changing a byte\n",
    "print(byte_array)\n",
    "byte_array.extend(b' world')  # Extending the bytearray\n",
    "print(byte_array)\n"
   ]
  },
  {
   "cell_type": "code",
   "execution_count": 15,
   "id": "5e29f9d2",
   "metadata": {},
   "outputs": [
    {
     "name": "stdout",
     "output_type": "stream",
     "text": [
      "104\n"
     ]
    }
   ],
   "source": [
    "byte_str = b'hello'  # Immutable\n",
    "print(byte_str[0]) "
   ]
  },
  {
   "cell_type": "code",
   "execution_count": 16,
   "id": "ac5f6228",
   "metadata": {},
   "outputs": [
    {
     "ename": "TypeError",
     "evalue": "'bytes' object does not support item assignment",
     "output_type": "error",
     "traceback": [
      "\u001b[1;31m-------------------------------------------------------------------------\u001b[0m",
      "\u001b[1;31mTypeError\u001b[0m                               Traceback (most recent call last)",
      "Cell \u001b[1;32mIn[16], line 1\u001b[0m\n\u001b[1;32m----> 1\u001b[0m byte_str[\u001b[38;5;241m0\u001b[39m] \u001b[38;5;241m=\u001b[39m \u001b[38;5;124mb\u001b[39m\u001b[38;5;124m'\u001b[39m\u001b[38;5;124mr\u001b[39m\u001b[38;5;124m'\u001b[39m\n",
      "\u001b[1;31mTypeError\u001b[0m: 'bytes' object does not support item assignment"
     ]
    }
   ],
   "source": [
    "byte_str[0] = b'r'"
   ]
  },
  {
   "cell_type": "code",
   "execution_count": 20,
   "id": "a0b49219",
   "metadata": {},
   "outputs": [
    {
     "name": "stdout",
     "output_type": "stream",
     "text": [
      "this exercise a is python\n"
     ]
    }
   ],
   "source": [
    "txt = \"this {2} a {0} {1}\"\n",
    "a = \"is\"\n",
    "b = \"python\"\n",
    "c = \"exercise\"\n",
    "\n",
    "print(txt.format(a,b,c))"
   ]
  },
  {
   "cell_type": "code",
   "execution_count": 22,
   "id": "ac19f826",
   "metadata": {},
   "outputs": [],
   "source": [
    "l1 = list((2,3,3,1))"
   ]
  },
  {
   "cell_type": "code",
   "execution_count": 23,
   "id": "3bd04afc",
   "metadata": {},
   "outputs": [
    {
     "data": {
      "text/plain": [
       "list"
      ]
     },
     "execution_count": 23,
     "metadata": {},
     "output_type": "execute_result"
    }
   ],
   "source": [
    "type(l1)"
   ]
  },
  {
   "cell_type": "code",
   "execution_count": 24,
   "id": "658b8fe3",
   "metadata": {},
   "outputs": [],
   "source": [
    "t = (2,3,3,1) "
   ]
  },
  {
   "cell_type": "code",
   "execution_count": 26,
   "id": "b13c9c87",
   "metadata": {},
   "outputs": [
    {
     "data": {
      "text/plain": [
       "list"
      ]
     },
     "execution_count": 26,
     "metadata": {},
     "output_type": "execute_result"
    }
   ],
   "source": [
    "type(list(t))"
   ]
  },
  {
   "cell_type": "code",
   "execution_count": 30,
   "id": "88997f51",
   "metadata": {},
   "outputs": [],
   "source": [
    "l = ['a','b','c']"
   ]
  },
  {
   "cell_type": "code",
   "execution_count": 28,
   "id": "f3afc2e8",
   "metadata": {},
   "outputs": [],
   "source": [
    "l[1] = ['f','r']"
   ]
  },
  {
   "cell_type": "code",
   "execution_count": 29,
   "id": "06662625",
   "metadata": {},
   "outputs": [
    {
     "data": {
      "text/plain": [
       "['a', ['f', 'r'], 'c']"
      ]
     },
     "execution_count": 29,
     "metadata": {},
     "output_type": "execute_result"
    }
   ],
   "source": [
    "l"
   ]
  },
  {
   "cell_type": "code",
   "execution_count": 38,
   "id": "0918fc72",
   "metadata": {},
   "outputs": [],
   "source": [
    "l = ['a','b','c']"
   ]
  },
  {
   "cell_type": "code",
   "execution_count": 39,
   "id": "7e85414c",
   "metadata": {},
   "outputs": [],
   "source": [
    "#change items\n",
    "l[1:2] = ['f','r']"
   ]
  },
  {
   "cell_type": "code",
   "execution_count": 33,
   "id": "b8f85a62",
   "metadata": {},
   "outputs": [
    {
     "data": {
      "text/plain": [
       "['a', 'f', 'r', 'c']"
      ]
     },
     "execution_count": 33,
     "metadata": {},
     "output_type": "execute_result"
    }
   ],
   "source": [
    "l"
   ]
  },
  {
   "cell_type": "code",
   "execution_count": 34,
   "id": "632293c7",
   "metadata": {},
   "outputs": [
    {
     "data": {
      "text/plain": [
       "['f']"
      ]
     },
     "execution_count": 34,
     "metadata": {},
     "output_type": "execute_result"
    }
   ],
   "source": [
    "l[1:2]"
   ]
  },
  {
   "cell_type": "code",
   "execution_count": 41,
   "id": "e581abe4",
   "metadata": {},
   "outputs": [],
   "source": [
    "#change range of items\n",
    "l[1:3] = 'd'"
   ]
  },
  {
   "cell_type": "code",
   "execution_count": 42,
   "id": "f65649c1",
   "metadata": {},
   "outputs": [
    {
     "data": {
      "text/plain": [
       "['a', 'd', 'c']"
      ]
     },
     "execution_count": 42,
     "metadata": {},
     "output_type": "execute_result"
    }
   ],
   "source": [
    "l"
   ]
  },
  {
   "cell_type": "code",
   "execution_count": 48,
   "id": "cf0367db",
   "metadata": {},
   "outputs": [],
   "source": [
    "#add new item at specified index\n",
    "l.insert(1,'y')"
   ]
  },
  {
   "cell_type": "code",
   "execution_count": 44,
   "id": "9b84672a",
   "metadata": {},
   "outputs": [
    {
     "data": {
      "text/plain": [
       "['a', 'y', 'd', 'c']"
      ]
     },
     "execution_count": 44,
     "metadata": {},
     "output_type": "execute_result"
    }
   ],
   "source": [
    "l"
   ]
  },
  {
   "cell_type": "code",
   "execution_count": 45,
   "id": "085d78f2",
   "metadata": {},
   "outputs": [],
   "source": [
    "#add new item at end of list\n",
    "l.append('r')"
   ]
  },
  {
   "cell_type": "code",
   "execution_count": 46,
   "id": "f2489e16",
   "metadata": {},
   "outputs": [
    {
     "data": {
      "text/plain": [
       "['a', 'y', 'd', 'c', 'r']"
      ]
     },
     "execution_count": 46,
     "metadata": {},
     "output_type": "execute_result"
    }
   ],
   "source": [
    "l"
   ]
  },
  {
   "cell_type": "code",
   "execution_count": 49,
   "id": "6c9badce",
   "metadata": {},
   "outputs": [],
   "source": [
    "# Extend - to add elements of a list from another list\n",
    "l1 = [1,2,3]\n",
    "l2 = [4,5,6]\n",
    "l1.extend(l2)"
   ]
  },
  {
   "cell_type": "code",
   "execution_count": 50,
   "id": "f43e6483",
   "metadata": {},
   "outputs": [
    {
     "data": {
      "text/plain": [
       "[1, 2, 3, 4, 5, 6]"
      ]
     },
     "execution_count": 50,
     "metadata": {},
     "output_type": "execute_result"
    }
   ],
   "source": [
    "l1"
   ]
  },
  {
   "cell_type": "code",
   "execution_count": 51,
   "id": "136ddb12",
   "metadata": {},
   "outputs": [
    {
     "data": {
      "text/plain": [
       "[4, 5, 6]"
      ]
     },
     "execution_count": 51,
     "metadata": {},
     "output_type": "execute_result"
    }
   ],
   "source": [
    "l2"
   ]
  },
  {
   "cell_type": "code",
   "execution_count": 61,
   "id": "8c0970d3",
   "metadata": {},
   "outputs": [],
   "source": [
    "l1 = [1,2,3]\n",
    "l2 = [4,5,6]\n",
    "l2.extend(l1)"
   ]
  },
  {
   "cell_type": "code",
   "execution_count": 62,
   "id": "5a20f526",
   "metadata": {},
   "outputs": [
    {
     "data": {
      "text/plain": [
       "[4, 5, 6, 1, 2, 3]"
      ]
     },
     "execution_count": 62,
     "metadata": {},
     "output_type": "execute_result"
    }
   ],
   "source": [
    "l2"
   ]
  },
  {
   "cell_type": "code",
   "execution_count": 54,
   "id": "378a6712",
   "metadata": {},
   "outputs": [],
   "source": [
    "#extend() method does not have to append lists, you can add any iterable object (tuples, sets, dictionaries etc.)\n",
    "t = (3,4,1,3)"
   ]
  },
  {
   "cell_type": "code",
   "execution_count": 63,
   "id": "4a141cee",
   "metadata": {},
   "outputs": [],
   "source": [
    "l2.extend(t)"
   ]
  },
  {
   "cell_type": "code",
   "execution_count": 64,
   "id": "ebf2d7e5",
   "metadata": {},
   "outputs": [
    {
     "data": {
      "text/plain": [
       "[4, 5, 6, 1, 2, 3, 3, 4, 1, 3]"
      ]
     },
     "execution_count": 64,
     "metadata": {},
     "output_type": "execute_result"
    }
   ],
   "source": [
    "l2"
   ]
  },
  {
   "cell_type": "code",
   "execution_count": 65,
   "id": "84f06bbf",
   "metadata": {},
   "outputs": [],
   "source": [
    "#remove - deletes the specified value from the list \n",
    "#if there are multiple values in that list for the specified value, it then removes the first occurrence of that value from the list\n",
    "\n",
    "l2.remove(6)"
   ]
  },
  {
   "cell_type": "code",
   "execution_count": 66,
   "id": "77c37b7f",
   "metadata": {},
   "outputs": [
    {
     "data": {
      "text/plain": [
       "[4, 5, 1, 2, 3, 3, 4, 1, 3]"
      ]
     },
     "execution_count": 66,
     "metadata": {},
     "output_type": "execute_result"
    }
   ],
   "source": [
    "l2\n"
   ]
  },
  {
   "cell_type": "code",
   "execution_count": 67,
   "id": "a11240f3",
   "metadata": {},
   "outputs": [],
   "source": [
    "l2.remove(3)"
   ]
  },
  {
   "cell_type": "code",
   "execution_count": 68,
   "id": "449d564e",
   "metadata": {},
   "outputs": [
    {
     "data": {
      "text/plain": [
       "[4, 5, 1, 2, 3, 4, 1, 3]"
      ]
     },
     "execution_count": 68,
     "metadata": {},
     "output_type": "execute_result"
    }
   ],
   "source": [
    "l2"
   ]
  },
  {
   "cell_type": "code",
   "execution_count": 69,
   "id": "e3da8923",
   "metadata": {},
   "outputs": [
    {
     "data": {
      "text/plain": [
       "3"
      ]
     },
     "execution_count": 69,
     "metadata": {},
     "output_type": "execute_result"
    }
   ],
   "source": [
    "# pop - deletes the specified index from the list\n",
    "# if index is not provided, deletes the last element from the list\n",
    "\n",
    "l2.pop()"
   ]
  },
  {
   "cell_type": "code",
   "execution_count": 70,
   "id": "d8bfc76e",
   "metadata": {},
   "outputs": [
    {
     "data": {
      "text/plain": [
       "[4, 5, 1, 2, 3, 4, 1]"
      ]
     },
     "execution_count": 70,
     "metadata": {},
     "output_type": "execute_result"
    }
   ],
   "source": [
    "l2"
   ]
  },
  {
   "cell_type": "code",
   "execution_count": 71,
   "id": "95de0968",
   "metadata": {},
   "outputs": [
    {
     "data": {
      "text/plain": [
       "2"
      ]
     },
     "execution_count": 71,
     "metadata": {},
     "output_type": "execute_result"
    }
   ],
   "source": [
    "l2.pop(3)"
   ]
  },
  {
   "cell_type": "code",
   "execution_count": 72,
   "id": "f4107009",
   "metadata": {},
   "outputs": [
    {
     "data": {
      "text/plain": [
       "[4, 5, 1, 3, 4, 1]"
      ]
     },
     "execution_count": 72,
     "metadata": {},
     "output_type": "execute_result"
    }
   ],
   "source": [
    "l2"
   ]
  },
  {
   "cell_type": "code",
   "execution_count": 73,
   "id": "a457e5e0",
   "metadata": {},
   "outputs": [],
   "source": [
    "# del - deletes the specified indexed element from the list\n",
    "#if index is not provided deletes the entire list(without square bracets)\n",
    "\n",
    "del l2[2]"
   ]
  },
  {
   "cell_type": "code",
   "execution_count": 74,
   "id": "41cd7568",
   "metadata": {},
   "outputs": [
    {
     "data": {
      "text/plain": [
       "[4, 5, 3, 4, 1]"
      ]
     },
     "execution_count": 74,
     "metadata": {},
     "output_type": "execute_result"
    }
   ],
   "source": [
    "l2"
   ]
  },
  {
   "cell_type": "code",
   "execution_count": 76,
   "id": "7cd30c0d",
   "metadata": {},
   "outputs": [],
   "source": [
    "del l2"
   ]
  },
  {
   "cell_type": "code",
   "execution_count": 77,
   "id": "dc045563",
   "metadata": {},
   "outputs": [
    {
     "ename": "NameError",
     "evalue": "name 'l2' is not defined",
     "output_type": "error",
     "traceback": [
      "\u001b[1;31m-------------------------------------------------------------------------\u001b[0m",
      "\u001b[1;31mNameError\u001b[0m                               Traceback (most recent call last)",
      "Cell \u001b[1;32mIn[77], line 1\u001b[0m\n\u001b[1;32m----> 1\u001b[0m \u001b[43ml2\u001b[49m\n",
      "\u001b[1;31mNameError\u001b[0m: name 'l2' is not defined"
     ]
    }
   ],
   "source": [
    "l2"
   ]
  },
  {
   "cell_type": "code",
   "execution_count": 78,
   "id": "fdbb4b39",
   "metadata": {},
   "outputs": [],
   "source": [
    "#clear - removes all elements from the list but does not delete the list\n",
    "l2 = [4, 5, 3, 4, 1]"
   ]
  },
  {
   "cell_type": "code",
   "execution_count": 79,
   "id": "398c4805",
   "metadata": {},
   "outputs": [],
   "source": [
    "l2.clear()"
   ]
  },
  {
   "cell_type": "code",
   "execution_count": 80,
   "id": "68e20b79",
   "metadata": {},
   "outputs": [
    {
     "data": {
      "text/plain": [
       "[]"
      ]
     },
     "execution_count": 80,
     "metadata": {},
     "output_type": "execute_result"
    }
   ],
   "source": [
    "l2"
   ]
  },
  {
   "cell_type": "markdown",
   "id": "55a4e193",
   "metadata": {},
   "source": [
    "### List Methods\n",
    "#### Change existing elements\n",
    "\n",
    "1. Direct assignment - individual assignment, range assignment\n",
    "\n",
    "#### Insertion\n",
    "\n",
    "1. insert - adds single element at the specified index\n",
    "2. append - adds element at end of list\n",
    "3. extend - adds any iterable object(list,tuple,sets, dict) to the end of existing list\n",
    "\n",
    "#### Deletion\n",
    "\n",
    "1. remove - deletes the specified element from list\n",
    "2. pop - deletes the specified indexed element from list\n",
    "3. del - Deletes the specified indexed element from the list\n",
    "4. clear - deletes all elements from the list but not the list"
   ]
  },
  {
   "cell_type": "code",
   "execution_count": 86,
   "id": "6e5fed3e",
   "metadata": {},
   "outputs": [],
   "source": [
    "n = [3,4,5]"
   ]
  },
  {
   "cell_type": "code",
   "execution_count": 87,
   "id": "7d42235b",
   "metadata": {},
   "outputs": [
    {
     "name": "stdout",
     "output_type": "stream",
     "text": [
      "3\n",
      "4\n",
      "5\n"
     ]
    },
    {
     "data": {
      "text/plain": [
       "[None, None, None]"
      ]
     },
     "execution_count": 87,
     "metadata": {},
     "output_type": "execute_result"
    }
   ],
   "source": [
    "#list comprehension\n",
    "[print(x) for x in n]"
   ]
  },
  {
   "cell_type": "code",
   "execution_count": 85,
   "id": "47d83196",
   "metadata": {},
   "outputs": [
    {
     "data": {
      "text/plain": [
       "5"
      ]
     },
     "execution_count": 85,
     "metadata": {},
     "output_type": "execute_result"
    }
   ],
   "source": [
    "len(l2)"
   ]
  },
  {
   "cell_type": "code",
   "execution_count": 88,
   "id": "064b7b29",
   "metadata": {},
   "outputs": [
    {
     "name": "stdout",
     "output_type": "stream",
     "text": [
      "apple\n",
      "banana\n",
      "cherry\n"
     ]
    },
    {
     "data": {
      "text/plain": [
       "[None, None, None]"
      ]
     },
     "execution_count": 88,
     "metadata": {},
     "output_type": "execute_result"
    }
   ],
   "source": [
    "thislist = [\"apple\", \"banana\", \"cherry\"]\n",
    "[print(x) for x in thislist]"
   ]
  },
  {
   "cell_type": "code",
   "execution_count": 91,
   "id": "d3a2c88f",
   "metadata": {},
   "outputs": [],
   "source": [
    "newlist = [x for x in thislist if 'a' in x]"
   ]
  },
  {
   "cell_type": "code",
   "execution_count": 92,
   "id": "fa90967f",
   "metadata": {},
   "outputs": [
    {
     "data": {
      "text/plain": [
       "['apple', 'banana']"
      ]
     },
     "execution_count": 92,
     "metadata": {},
     "output_type": "execute_result"
    }
   ],
   "source": [
    "newlist"
   ]
  },
  {
   "cell_type": "code",
   "execution_count": 94,
   "id": "e55cffee",
   "metadata": {},
   "outputs": [],
   "source": [
    "newlist = [x.capitalize() for x in thislist]"
   ]
  },
  {
   "cell_type": "code",
   "execution_count": 95,
   "id": "af302309",
   "metadata": {},
   "outputs": [
    {
     "data": {
      "text/plain": [
       "['Apple', 'Banana', 'Cherry']"
      ]
     },
     "execution_count": 95,
     "metadata": {},
     "output_type": "execute_result"
    }
   ],
   "source": [
    "newlist"
   ]
  },
  {
   "cell_type": "code",
   "execution_count": 96,
   "id": "6e6ab8a7",
   "metadata": {},
   "outputs": [],
   "source": [
    "newlist = [x if x != \"Banana\" else \"orange\" for x in thislist]"
   ]
  },
  {
   "cell_type": "code",
   "execution_count": 97,
   "id": "92b2c90d",
   "metadata": {},
   "outputs": [
    {
     "data": {
      "text/plain": [
       "['apple', 'banana', 'cherry']"
      ]
     },
     "execution_count": 97,
     "metadata": {},
     "output_type": "execute_result"
    }
   ],
   "source": [
    "newlist"
   ]
  },
  {
   "cell_type": "code",
   "execution_count": 100,
   "id": "16e37398",
   "metadata": {},
   "outputs": [],
   "source": [
    "newlist.append('kiwi')"
   ]
  },
  {
   "cell_type": "code",
   "execution_count": 101,
   "id": "7e9efda9",
   "metadata": {},
   "outputs": [
    {
     "data": {
      "text/plain": [
       "['apple', 'banana', 'cherry', 'kiwi']"
      ]
     },
     "execution_count": 101,
     "metadata": {},
     "output_type": "execute_result"
    }
   ],
   "source": [
    "newlist"
   ]
  },
  {
   "cell_type": "code",
   "execution_count": 104,
   "id": "b71da955",
   "metadata": {},
   "outputs": [],
   "source": [
    "newlist = [x.capitalize() for x in newlist]"
   ]
  },
  {
   "cell_type": "code",
   "execution_count": 105,
   "id": "16c4eac8",
   "metadata": {},
   "outputs": [],
   "source": [
    "newlist.sort()"
   ]
  },
  {
   "cell_type": "code",
   "execution_count": 106,
   "id": "23a3b8d6",
   "metadata": {},
   "outputs": [
    {
     "data": {
      "text/plain": [
       "['Apple', 'Banana', 'Cherry', 'Kiwi']"
      ]
     },
     "execution_count": 106,
     "metadata": {},
     "output_type": "execute_result"
    }
   ],
   "source": [
    "newlist"
   ]
  },
  {
   "cell_type": "code",
   "execution_count": 108,
   "id": "ea704629",
   "metadata": {},
   "outputs": [],
   "source": [
    "newlist.insert(0,'chiku')"
   ]
  },
  {
   "cell_type": "code",
   "execution_count": 109,
   "id": "41ec43f2",
   "metadata": {},
   "outputs": [
    {
     "data": {
      "text/plain": [
       "['chiku', 'Apple', 'Banana', 'Cherry', 'Kiwi']"
      ]
     },
     "execution_count": 109,
     "metadata": {},
     "output_type": "execute_result"
    }
   ],
   "source": [
    "newlist"
   ]
  },
  {
   "cell_type": "code",
   "execution_count": 110,
   "id": "5ae5570e",
   "metadata": {},
   "outputs": [],
   "source": [
    "newlist.sort()"
   ]
  },
  {
   "cell_type": "code",
   "execution_count": 111,
   "id": "348b8f81",
   "metadata": {},
   "outputs": [
    {
     "data": {
      "text/plain": [
       "['Apple', 'Banana', 'Cherry', 'Kiwi', 'chiku']"
      ]
     },
     "execution_count": 111,
     "metadata": {},
     "output_type": "execute_result"
    }
   ],
   "source": [
    "newlist"
   ]
  },
  {
   "cell_type": "code",
   "execution_count": 112,
   "id": "78167cd0",
   "metadata": {},
   "outputs": [],
   "source": [
    "newlist.sort(reverse = True)"
   ]
  },
  {
   "cell_type": "code",
   "execution_count": 113,
   "id": "93ff31cd",
   "metadata": {},
   "outputs": [
    {
     "data": {
      "text/plain": [
       "['chiku', 'Kiwi', 'Cherry', 'Banana', 'Apple']"
      ]
     },
     "execution_count": 113,
     "metadata": {},
     "output_type": "execute_result"
    }
   ],
   "source": [
    "newlist"
   ]
  },
  {
   "cell_type": "code",
   "execution_count": 114,
   "id": "c998be8c",
   "metadata": {},
   "outputs": [],
   "source": [
    "newlist.sort(reverse = False)"
   ]
  },
  {
   "cell_type": "code",
   "execution_count": 115,
   "id": "cdb4f066",
   "metadata": {},
   "outputs": [
    {
     "data": {
      "text/plain": [
       "['Apple', 'Banana', 'Cherry', 'Kiwi', 'chiku']"
      ]
     },
     "execution_count": 115,
     "metadata": {},
     "output_type": "execute_result"
    }
   ],
   "source": [
    "newlist"
   ]
  },
  {
   "cell_type": "code",
   "execution_count": 116,
   "id": "9d40910c",
   "metadata": {},
   "outputs": [],
   "source": [
    "newlist.sort(key = str.lower)"
   ]
  },
  {
   "cell_type": "code",
   "execution_count": 117,
   "id": "d346eb78",
   "metadata": {},
   "outputs": [
    {
     "data": {
      "text/plain": [
       "['Apple', 'Banana', 'Cherry', 'chiku', 'Kiwi']"
      ]
     },
     "execution_count": 117,
     "metadata": {},
     "output_type": "execute_result"
    }
   ],
   "source": [
    "newlist"
   ]
  },
  {
   "cell_type": "code",
   "execution_count": 118,
   "id": "f20e8972",
   "metadata": {},
   "outputs": [],
   "source": [
    "l = [4,2,8,0,-3]"
   ]
  },
  {
   "cell_type": "code",
   "execution_count": 122,
   "id": "f9d62533",
   "metadata": {},
   "outputs": [],
   "source": [
    "def sq(x):\n",
    "    return x*x"
   ]
  },
  {
   "cell_type": "code",
   "execution_count": 124,
   "id": "e50c69eb",
   "metadata": {},
   "outputs": [],
   "source": [
    "l.sort(key = sq)"
   ]
  },
  {
   "cell_type": "code",
   "execution_count": 125,
   "id": "fe0cc24a",
   "metadata": {},
   "outputs": [
    {
     "data": {
      "text/plain": [
       "[0, 2, -3, 4, 8]"
      ]
     },
     "execution_count": 125,
     "metadata": {},
     "output_type": "execute_result"
    }
   ],
   "source": [
    "l"
   ]
  },
  {
   "cell_type": "code",
   "execution_count": 126,
   "id": "2a3a4516",
   "metadata": {},
   "outputs": [],
   "source": [
    "l.reverse()"
   ]
  },
  {
   "cell_type": "code",
   "execution_count": 127,
   "id": "3205ff88",
   "metadata": {},
   "outputs": [
    {
     "data": {
      "text/plain": [
       "[8, 4, -3, 2, 0]"
      ]
     },
     "execution_count": 127,
     "metadata": {},
     "output_type": "execute_result"
    }
   ],
   "source": [
    "l"
   ]
  },
  {
   "cell_type": "markdown",
   "id": "4145f945",
   "metadata": {},
   "source": [
    "sort - default -> ascending\n",
    "for descending order include reverse = true\n",
    "by default, sort function sorts words starting with caps in the begining in order & then small letters\n",
    "for case sensitive ordering, inlcude key = str.lower in sort()\n",
    "we can also sort based on function, by including the function name in sort(key = func_name)"
   ]
  },
  {
   "cell_type": "code",
   "execution_count": 128,
   "id": "cb590de9",
   "metadata": {},
   "outputs": [],
   "source": [
    "newlist.insert(1,23)"
   ]
  },
  {
   "cell_type": "code",
   "execution_count": 129,
   "id": "82ce6ef4",
   "metadata": {},
   "outputs": [],
   "source": [
    "newlist.insert(4,3)"
   ]
  },
  {
   "cell_type": "code",
   "execution_count": 131,
   "id": "707855c0",
   "metadata": {},
   "outputs": [
    {
     "data": {
      "text/plain": [
       "['Apple', 23, 'Banana', 'Cherry', 3, 'chiku', 'Kiwi']"
      ]
     },
     "execution_count": 131,
     "metadata": {},
     "output_type": "execute_result"
    }
   ],
   "source": [
    "newlist"
   ]
  },
  {
   "cell_type": "code",
   "execution_count": 132,
   "id": "ad5bf891",
   "metadata": {},
   "outputs": [
    {
     "ename": "TypeError",
     "evalue": "'<' not supported between instances of 'int' and 'str'",
     "output_type": "error",
     "traceback": [
      "\u001b[1;31m-------------------------------------------------------------------------\u001b[0m",
      "\u001b[1;31mTypeError\u001b[0m                               Traceback (most recent call last)",
      "Cell \u001b[1;32mIn[132], line 1\u001b[0m\n\u001b[1;32m----> 1\u001b[0m \u001b[43mnewlist\u001b[49m\u001b[38;5;241;43m.\u001b[39;49m\u001b[43msort\u001b[49m\u001b[43m(\u001b[49m\u001b[43m)\u001b[49m\n",
      "\u001b[1;31mTypeError\u001b[0m: '<' not supported between instances of 'int' and 'str'"
     ]
    }
   ],
   "source": [
    "newlist.sort()"
   ]
  },
  {
   "cell_type": "code",
   "execution_count": 133,
   "id": "623896f1",
   "metadata": {},
   "outputs": [
    {
     "data": {
      "text/plain": [
       "[8, 4, -3, 2, 0]"
      ]
     },
     "execution_count": 133,
     "metadata": {},
     "output_type": "execute_result"
    }
   ],
   "source": [
    "#copying list \n",
    "l"
   ]
  },
  {
   "cell_type": "code",
   "execution_count": 135,
   "id": "18b8773e",
   "metadata": {},
   "outputs": [],
   "source": [
    "l1 = l\n",
    "# this js creates a reference l1 to same list & changes made on 1 would effect other\n",
    "l1[0] = 3"
   ]
  },
  {
   "cell_type": "code",
   "execution_count": 136,
   "id": "9c1d50b5",
   "metadata": {},
   "outputs": [
    {
     "data": {
      "text/plain": [
       "[3, 4, -3, 2, 0]"
      ]
     },
     "execution_count": 136,
     "metadata": {},
     "output_type": "execute_result"
    }
   ],
   "source": [
    "l"
   ]
  },
  {
   "cell_type": "code",
   "execution_count": 137,
   "id": "a288b5b0",
   "metadata": {},
   "outputs": [
    {
     "data": {
      "text/plain": [
       "[3, 4, -3, 2, 0]"
      ]
     },
     "execution_count": 137,
     "metadata": {},
     "output_type": "execute_result"
    }
   ],
   "source": [
    "l1"
   ]
  },
  {
   "cell_type": "code",
   "execution_count": 139,
   "id": "c360eab2",
   "metadata": {},
   "outputs": [],
   "source": [
    "# to create a different copy of the list\n",
    "l2 = l1.copy()"
   ]
  },
  {
   "cell_type": "code",
   "execution_count": 140,
   "id": "b23cfacc",
   "metadata": {},
   "outputs": [
    {
     "data": {
      "text/plain": [
       "[3, 4, -3, 2, 0]"
      ]
     },
     "execution_count": 140,
     "metadata": {},
     "output_type": "execute_result"
    }
   ],
   "source": [
    "l2"
   ]
  },
  {
   "cell_type": "code",
   "execution_count": 141,
   "id": "dd47d692",
   "metadata": {},
   "outputs": [],
   "source": [
    "#or\n",
    "\n",
    "l3 = list(l1)"
   ]
  },
  {
   "cell_type": "code",
   "execution_count": 142,
   "id": "4240e18d",
   "metadata": {},
   "outputs": [
    {
     "data": {
      "text/plain": [
       "[3, 4, -3, 2, 0]"
      ]
     },
     "execution_count": 142,
     "metadata": {},
     "output_type": "execute_result"
    }
   ],
   "source": [
    "l3"
   ]
  },
  {
   "cell_type": "markdown",
   "id": "25bc42fc",
   "metadata": {},
   "source": [
    "Joining"
   ]
  },
  {
   "cell_type": "code",
   "execution_count": 143,
   "id": "e7449e41",
   "metadata": {},
   "outputs": [
    {
     "data": {
      "text/plain": [
       "[3, 4, -3, 2, 0, 3, 4, -3, 2, 0]"
      ]
     },
     "execution_count": 143,
     "metadata": {},
     "output_type": "execute_result"
    }
   ],
   "source": [
    "l1 + l2"
   ]
  },
  {
   "cell_type": "code",
   "execution_count": 145,
   "id": "835f1c6e",
   "metadata": {},
   "outputs": [
    {
     "name": "stdout",
     "output_type": "stream",
     "text": [
      "None\n"
     ]
    }
   ],
   "source": [
    "print(l1.append(l2))"
   ]
  },
  {
   "cell_type": "code",
   "execution_count": 146,
   "id": "555c7d61",
   "metadata": {},
   "outputs": [
    {
     "data": {
      "text/plain": [
       "[3, 4, -3, 2, 0, [3, 4, -3, 2, 0], [3, 4, -3, 2, 0]]"
      ]
     },
     "execution_count": 146,
     "metadata": {},
     "output_type": "execute_result"
    }
   ],
   "source": [
    "l1"
   ]
  },
  {
   "cell_type": "code",
   "execution_count": 147,
   "id": "8934b090",
   "metadata": {},
   "outputs": [],
   "source": [
    "l2.extend(l3)"
   ]
  },
  {
   "cell_type": "code",
   "execution_count": 148,
   "id": "dfbe678d",
   "metadata": {},
   "outputs": [
    {
     "data": {
      "text/plain": [
       "[3, 4, -3, 2, 0, 3, 4, -3, 2, 0]"
      ]
     },
     "execution_count": 148,
     "metadata": {},
     "output_type": "execute_result"
    }
   ],
   "source": [
    "l2"
   ]
  },
  {
   "cell_type": "markdown",
   "id": "911e3048",
   "metadata": {},
   "source": [
    "Tuples"
   ]
  },
  {
   "cell_type": "code",
   "execution_count": 1,
   "id": "2c69c332",
   "metadata": {},
   "outputs": [],
   "source": [
    "t = (3,4,6)"
   ]
  },
  {
   "cell_type": "code",
   "execution_count": 4,
   "id": "e0464417",
   "metadata": {},
   "outputs": [
    {
     "data": {
      "text/plain": [
       "(3, 4, 6)"
      ]
     },
     "execution_count": 4,
     "metadata": {},
     "output_type": "execute_result"
    }
   ],
   "source": [
    "t"
   ]
  },
  {
   "cell_type": "code",
   "execution_count": 2,
   "id": "17605f38",
   "metadata": {},
   "outputs": [],
   "source": [
    "t1 = list(t)"
   ]
  },
  {
   "cell_type": "code",
   "execution_count": 3,
   "id": "c71f8f0a",
   "metadata": {},
   "outputs": [
    {
     "data": {
      "text/plain": [
       "[3, 4, 6]"
      ]
     },
     "execution_count": 3,
     "metadata": {},
     "output_type": "execute_result"
    }
   ],
   "source": [
    "t1"
   ]
  },
  {
   "cell_type": "code",
   "execution_count": 5,
   "id": "1cda665f",
   "metadata": {},
   "outputs": [],
   "source": [
    "t1.insert(2,8)"
   ]
  },
  {
   "cell_type": "code",
   "execution_count": 6,
   "id": "e2a82dd3",
   "metadata": {},
   "outputs": [
    {
     "data": {
      "text/plain": [
       "[3, 4, 8, 6]"
      ]
     },
     "execution_count": 6,
     "metadata": {},
     "output_type": "execute_result"
    }
   ],
   "source": [
    "t1"
   ]
  },
  {
   "cell_type": "code",
   "execution_count": 7,
   "id": "5eefde8e",
   "metadata": {},
   "outputs": [],
   "source": [
    "t = tuple(t1)"
   ]
  },
  {
   "cell_type": "code",
   "execution_count": 8,
   "id": "79dca43c",
   "metadata": {},
   "outputs": [
    {
     "data": {
      "text/plain": [
       "(3, 4, 8, 6)"
      ]
     },
     "execution_count": 8,
     "metadata": {},
     "output_type": "execute_result"
    }
   ],
   "source": [
    "t"
   ]
  },
  {
   "cell_type": "code",
   "execution_count": 9,
   "id": "1bb6e3bb",
   "metadata": {},
   "outputs": [],
   "source": [
    "t2 = (3)"
   ]
  },
  {
   "cell_type": "code",
   "execution_count": 10,
   "id": "649aac13",
   "metadata": {},
   "outputs": [
    {
     "data": {
      "text/plain": [
       "int"
      ]
     },
     "execution_count": 10,
     "metadata": {},
     "output_type": "execute_result"
    }
   ],
   "source": [
    "type(t2)"
   ]
  },
  {
   "cell_type": "code",
   "execution_count": 11,
   "id": "8e19c983",
   "metadata": {},
   "outputs": [],
   "source": [
    "t2 = (3,)"
   ]
  },
  {
   "cell_type": "code",
   "execution_count": 12,
   "id": "e17f41ff",
   "metadata": {},
   "outputs": [
    {
     "data": {
      "text/plain": [
       "tuple"
      ]
     },
     "execution_count": 12,
     "metadata": {},
     "output_type": "execute_result"
    }
   ],
   "source": [
    "type(t2)"
   ]
  },
  {
   "cell_type": "code",
   "execution_count": 13,
   "id": "34bc20f2",
   "metadata": {},
   "outputs": [],
   "source": [
    "t4 = 8"
   ]
  },
  {
   "cell_type": "code",
   "execution_count": 14,
   "id": "e4f45372",
   "metadata": {},
   "outputs": [
    {
     "ename": "TypeError",
     "evalue": "can only concatenate tuple (not \"int\") to tuple",
     "output_type": "error",
     "traceback": [
      "\u001b[1;31m---------------------------------------------------------------------------\u001b[0m",
      "\u001b[1;31mTypeError\u001b[0m                                 Traceback (most recent call last)",
      "Cell \u001b[1;32mIn[14], line 1\u001b[0m\n\u001b[1;32m----> 1\u001b[0m t \u001b[38;5;241m+\u001b[39m\u001b[38;5;241m=\u001b[39mt4\n",
      "\u001b[1;31mTypeError\u001b[0m: can only concatenate tuple (not \"int\") to tuple"
     ]
    }
   ],
   "source": [
    "t +=t4 # t4 is an integer"
   ]
  },
  {
   "cell_type": "code",
   "execution_count": 15,
   "id": "773112cd",
   "metadata": {},
   "outputs": [],
   "source": [
    "t += t2"
   ]
  },
  {
   "cell_type": "code",
   "execution_count": 16,
   "id": "4f6e5022",
   "metadata": {},
   "outputs": [
    {
     "data": {
      "text/plain": [
       "(3, 4, 8, 6, 3)"
      ]
     },
     "execution_count": 16,
     "metadata": {},
     "output_type": "execute_result"
    }
   ],
   "source": [
    "t"
   ]
  },
  {
   "cell_type": "code",
   "execution_count": 17,
   "id": "077d31dc",
   "metadata": {},
   "outputs": [],
   "source": [
    "del t "
   ]
  },
  {
   "cell_type": "code",
   "execution_count": 18,
   "id": "b7cf40dc",
   "metadata": {},
   "outputs": [
    {
     "ename": "NameError",
     "evalue": "name 't' is not defined",
     "output_type": "error",
     "traceback": [
      "\u001b[1;31m---------------------------------------------------------------------------\u001b[0m",
      "\u001b[1;31mNameError\u001b[0m                                 Traceback (most recent call last)",
      "Cell \u001b[1;32mIn[18], line 1\u001b[0m\n\u001b[1;32m----> 1\u001b[0m \u001b[43mt\u001b[49m\n",
      "\u001b[1;31mNameError\u001b[0m: name 't' is not defined"
     ]
    }
   ],
   "source": [
    "t"
   ]
  },
  {
   "cell_type": "code",
   "execution_count": 26,
   "id": "ebb7656c",
   "metadata": {},
   "outputs": [],
   "source": [
    "fruits = (\"apple\", \"mango\", \"papaya\", \"pineapple\", \"cherry\")"
   ]
  },
  {
   "cell_type": "code",
   "execution_count": 22,
   "id": "2eba4478",
   "metadata": {},
   "outputs": [],
   "source": [
    "red, green, *blue = fruits"
   ]
  },
  {
   "cell_type": "code",
   "execution_count": 23,
   "id": "96861841",
   "metadata": {},
   "outputs": [
    {
     "data": {
      "text/plain": [
       "'apple'"
      ]
     },
     "execution_count": 23,
     "metadata": {},
     "output_type": "execute_result"
    }
   ],
   "source": [
    "red"
   ]
  },
  {
   "cell_type": "code",
   "execution_count": 24,
   "id": "a17aa504",
   "metadata": {},
   "outputs": [
    {
     "data": {
      "text/plain": [
       "'mango'"
      ]
     },
     "execution_count": 24,
     "metadata": {},
     "output_type": "execute_result"
    }
   ],
   "source": [
    "green"
   ]
  },
  {
   "cell_type": "code",
   "execution_count": 25,
   "id": "bbf32390",
   "metadata": {},
   "outputs": [
    {
     "data": {
      "text/plain": [
       "['papaya', 'pineapple', 'cherry']"
      ]
     },
     "execution_count": 25,
     "metadata": {},
     "output_type": "execute_result"
    }
   ],
   "source": [
    "blue"
   ]
  },
  {
   "cell_type": "code",
   "execution_count": 27,
   "id": "7719f8b4",
   "metadata": {},
   "outputs": [],
   "source": [
    "red, *green, blue = fruits"
   ]
  },
  {
   "cell_type": "code",
   "execution_count": 28,
   "id": "19c0ef47",
   "metadata": {},
   "outputs": [
    {
     "data": {
      "text/plain": [
       "'apple'"
      ]
     },
     "execution_count": 28,
     "metadata": {},
     "output_type": "execute_result"
    }
   ],
   "source": [
    "red"
   ]
  },
  {
   "cell_type": "code",
   "execution_count": 29,
   "id": "e4452115",
   "metadata": {},
   "outputs": [
    {
     "data": {
      "text/plain": [
       "['mango', 'papaya', 'pineapple']"
      ]
     },
     "execution_count": 29,
     "metadata": {},
     "output_type": "execute_result"
    }
   ],
   "source": [
    "green"
   ]
  },
  {
   "cell_type": "code",
   "execution_count": 30,
   "id": "95cfdd1f",
   "metadata": {},
   "outputs": [
    {
     "data": {
      "text/plain": [
       "'cherry'"
      ]
     },
     "execution_count": 30,
     "metadata": {},
     "output_type": "execute_result"
    }
   ],
   "source": [
    "blue"
   ]
  },
  {
   "cell_type": "code",
   "execution_count": 31,
   "id": "6a6a260a",
   "metadata": {},
   "outputs": [],
   "source": [
    "t = (6,7)"
   ]
  },
  {
   "cell_type": "code",
   "execution_count": 32,
   "id": "126d4af7",
   "metadata": {},
   "outputs": [],
   "source": [
    "t1 = (8,0)"
   ]
  },
  {
   "cell_type": "code",
   "execution_count": 33,
   "id": "b021f478",
   "metadata": {},
   "outputs": [],
   "source": [
    "t2 = t + t1"
   ]
  },
  {
   "cell_type": "code",
   "execution_count": 34,
   "id": "3815ce56",
   "metadata": {},
   "outputs": [
    {
     "data": {
      "text/plain": [
       "(6, 7, 8, 0)"
      ]
     },
     "execution_count": 34,
     "metadata": {},
     "output_type": "execute_result"
    }
   ],
   "source": [
    "t2"
   ]
  },
  {
   "cell_type": "code",
   "execution_count": 36,
   "id": "53622e13",
   "metadata": {},
   "outputs": [],
   "source": [
    "t2 = t1 * 2"
   ]
  },
  {
   "cell_type": "code",
   "execution_count": 37,
   "id": "07473a18",
   "metadata": {},
   "outputs": [
    {
     "data": {
      "text/plain": [
       "(8, 0, 8, 0)"
      ]
     },
     "execution_count": 37,
     "metadata": {},
     "output_type": "execute_result"
    }
   ],
   "source": [
    "t2"
   ]
  },
  {
   "cell_type": "code",
   "execution_count": 39,
   "id": "be04ac90",
   "metadata": {},
   "outputs": [
    {
     "data": {
      "text/plain": [
       "2"
      ]
     },
     "execution_count": 39,
     "metadata": {},
     "output_type": "execute_result"
    }
   ],
   "source": [
    "t2.count(8)"
   ]
  },
  {
   "cell_type": "code",
   "execution_count": 41,
   "id": "b7367ede",
   "metadata": {},
   "outputs": [
    {
     "data": {
      "text/plain": [
       "1"
      ]
     },
     "execution_count": 41,
     "metadata": {},
     "output_type": "execute_result"
    }
   ],
   "source": [
    "t2.index(0)"
   ]
  },
  {
   "cell_type": "code",
   "execution_count": 42,
   "id": "e4cee351",
   "metadata": {},
   "outputs": [],
   "source": [
    "thisset = {\"apple\", \"banana\", \"cherry\", True, 1, 2}"
   ]
  },
  {
   "cell_type": "code",
   "execution_count": 43,
   "id": "e9c413f9",
   "metadata": {},
   "outputs": [
    {
     "data": {
      "text/plain": [
       "{2, True, 'apple', 'banana', 'cherry'}"
      ]
     },
     "execution_count": 43,
     "metadata": {},
     "output_type": "execute_result"
    }
   ],
   "source": [
    "thisset"
   ]
  },
  {
   "cell_type": "code",
   "execution_count": 44,
   "id": "fe9f2f54",
   "metadata": {},
   "outputs": [],
   "source": [
    "thisset = {\"apple\", \"banana\", \"cherry\", False, True, 0}"
   ]
  },
  {
   "cell_type": "code",
   "execution_count": 45,
   "id": "f85edb6a",
   "metadata": {},
   "outputs": [
    {
     "data": {
      "text/plain": [
       "{False, True, 'apple', 'banana', 'cherry'}"
      ]
     },
     "execution_count": 45,
     "metadata": {},
     "output_type": "execute_result"
    }
   ],
   "source": [
    "thisset"
   ]
  },
  {
   "cell_type": "code",
   "execution_count": 46,
   "id": "7c1fc97f",
   "metadata": {},
   "outputs": [
    {
     "ename": "TypeError",
     "evalue": "'set' object does not support item assignment",
     "output_type": "error",
     "traceback": [
      "\u001b[1;31m---------------------------------------------------------------------------\u001b[0m",
      "\u001b[1;31mTypeError\u001b[0m                                 Traceback (most recent call last)",
      "Cell \u001b[1;32mIn[46], line 1\u001b[0m\n\u001b[1;32m----> 1\u001b[0m thisset[\u001b[38;5;241m0\u001b[39m] \u001b[38;5;241m=\u001b[39m \u001b[38;5;241m1\u001b[39m\n",
      "\u001b[1;31mTypeError\u001b[0m: 'set' object does not support item assignment"
     ]
    }
   ],
   "source": [
    "thisset[0] = 1"
   ]
  },
  {
   "cell_type": "code",
   "execution_count": 47,
   "id": "9d12e784",
   "metadata": {},
   "outputs": [],
   "source": [
    "thisset.add(4)"
   ]
  },
  {
   "cell_type": "code",
   "execution_count": 48,
   "id": "8b217256",
   "metadata": {},
   "outputs": [
    {
     "data": {
      "text/plain": [
       "{4, False, True, 'apple', 'banana', 'cherry'}"
      ]
     },
     "execution_count": 48,
     "metadata": {},
     "output_type": "execute_result"
    }
   ],
   "source": [
    "thisset"
   ]
  },
  {
   "cell_type": "code",
   "execution_count": 49,
   "id": "090fb2c8",
   "metadata": {},
   "outputs": [],
   "source": [
    "s2 = {5,5,3,2}"
   ]
  },
  {
   "cell_type": "code",
   "execution_count": 50,
   "id": "657148bb",
   "metadata": {},
   "outputs": [
    {
     "data": {
      "text/plain": [
       "{2, 3, 5}"
      ]
     },
     "execution_count": 50,
     "metadata": {},
     "output_type": "execute_result"
    }
   ],
   "source": [
    "s2"
   ]
  },
  {
   "cell_type": "code",
   "execution_count": 52,
   "id": "5e3f544b",
   "metadata": {},
   "outputs": [],
   "source": [
    "s2.update(thisset)"
   ]
  },
  {
   "cell_type": "code",
   "execution_count": 58,
   "id": "6d543553",
   "metadata": {},
   "outputs": [
    {
     "name": "stdout",
     "output_type": "stream",
     "text": [
      "{False, True, 2, 3, 4, 5, 'banana', 'apple', 'cherry'}\n"
     ]
    }
   ],
   "source": [
    "print(s2)"
   ]
  },
  {
   "cell_type": "code",
   "execution_count": 56,
   "id": "5f1b84b0",
   "metadata": {},
   "outputs": [
    {
     "name": "stdout",
     "output_type": "stream",
     "text": [
      "{'mango', 'banana', 'apple', 'pineapple', 'cherry', 'papaya'}\n"
     ]
    }
   ],
   "source": [
    "thisset = {\"apple\", \"banana\", \"cherry\"}\n",
    "tropical = {\"pineapple\", \"mango\", \"papaya\"}\n",
    "\n",
    "thisset.update(tropical)\n",
    "\n",
    "print(thisset)"
   ]
  },
  {
   "cell_type": "code",
   "execution_count": 59,
   "id": "7ca52b49",
   "metadata": {},
   "outputs": [],
   "source": [
    "thisset.remove('mango')"
   ]
  },
  {
   "cell_type": "code",
   "execution_count": 60,
   "id": "e3efe5e8",
   "metadata": {},
   "outputs": [
    {
     "data": {
      "text/plain": [
       "{'apple', 'banana', 'cherry', 'papaya', 'pineapple'}"
      ]
     },
     "execution_count": 60,
     "metadata": {},
     "output_type": "execute_result"
    }
   ],
   "source": [
    "thisset"
   ]
  },
  {
   "cell_type": "code",
   "execution_count": 61,
   "id": "65800af5",
   "metadata": {},
   "outputs": [
    {
     "ename": "KeyError",
     "evalue": "'man'",
     "output_type": "error",
     "traceback": [
      "\u001b[1;31m---------------------------------------------------------------------------\u001b[0m",
      "\u001b[1;31mKeyError\u001b[0m                                  Traceback (most recent call last)",
      "Cell \u001b[1;32mIn[61], line 1\u001b[0m\n\u001b[1;32m----> 1\u001b[0m \u001b[43mthisset\u001b[49m\u001b[38;5;241;43m.\u001b[39;49m\u001b[43mremove\u001b[49m\u001b[43m(\u001b[49m\u001b[38;5;124;43m'\u001b[39;49m\u001b[38;5;124;43mman\u001b[39;49m\u001b[38;5;124;43m'\u001b[39;49m\u001b[43m)\u001b[49m\n",
      "\u001b[1;31mKeyError\u001b[0m: 'man'"
     ]
    }
   ],
   "source": [
    "thisset.remove('man')"
   ]
  },
  {
   "cell_type": "code",
   "execution_count": 62,
   "id": "59a60308",
   "metadata": {},
   "outputs": [],
   "source": [
    "thisset.discard('man')"
   ]
  },
  {
   "cell_type": "code",
   "execution_count": 63,
   "id": "538de2d3",
   "metadata": {},
   "outputs": [
    {
     "ename": "TypeError",
     "evalue": "set.pop() takes no arguments (1 given)",
     "output_type": "error",
     "traceback": [
      "\u001b[1;31m---------------------------------------------------------------------------\u001b[0m",
      "\u001b[1;31mTypeError\u001b[0m                                 Traceback (most recent call last)",
      "Cell \u001b[1;32mIn[63], line 1\u001b[0m\n\u001b[1;32m----> 1\u001b[0m \u001b[43mthisset\u001b[49m\u001b[38;5;241;43m.\u001b[39;49m\u001b[43mpop\u001b[49m\u001b[43m(\u001b[49m\u001b[38;5;241;43m1\u001b[39;49m\u001b[43m)\u001b[49m\n",
      "\u001b[1;31mTypeError\u001b[0m: set.pop() takes no arguments (1 given)"
     ]
    }
   ],
   "source": [
    "thisset.pop(1)"
   ]
  },
  {
   "cell_type": "code",
   "execution_count": 64,
   "id": "5bbd7b2a",
   "metadata": {},
   "outputs": [
    {
     "data": {
      "text/plain": [
       "'banana'"
      ]
     },
     "execution_count": 64,
     "metadata": {},
     "output_type": "execute_result"
    }
   ],
   "source": [
    "thisset.pop()"
   ]
  },
  {
   "cell_type": "code",
   "execution_count": 65,
   "id": "977c6a04",
   "metadata": {},
   "outputs": [],
   "source": [
    "thisset.clear()"
   ]
  },
  {
   "cell_type": "code",
   "execution_count": 66,
   "id": "495b7d28",
   "metadata": {},
   "outputs": [
    {
     "data": {
      "text/plain": [
       "set()"
      ]
     },
     "execution_count": 66,
     "metadata": {},
     "output_type": "execute_result"
    }
   ],
   "source": [
    "thisset"
   ]
  },
  {
   "cell_type": "code",
   "execution_count": 67,
   "id": "d494dbaa",
   "metadata": {},
   "outputs": [],
   "source": [
    "thisset = {\"apple\", \"banana\", \"cherry\"}"
   ]
  },
  {
   "cell_type": "code",
   "execution_count": 68,
   "id": "8642843b",
   "metadata": {},
   "outputs": [],
   "source": [
    "del thisset"
   ]
  },
  {
   "cell_type": "code",
   "execution_count": 69,
   "id": "b3daca3b",
   "metadata": {},
   "outputs": [
    {
     "ename": "NameError",
     "evalue": "name 'thisset' is not defined",
     "output_type": "error",
     "traceback": [
      "\u001b[1;31m---------------------------------------------------------------------------\u001b[0m",
      "\u001b[1;31mNameError\u001b[0m                                 Traceback (most recent call last)",
      "Cell \u001b[1;32mIn[69], line 1\u001b[0m\n\u001b[1;32m----> 1\u001b[0m \u001b[43mthisset\u001b[49m\n",
      "\u001b[1;31mNameError\u001b[0m: name 'thisset' is not defined"
     ]
    }
   ],
   "source": [
    "thisset"
   ]
  },
  {
   "cell_type": "markdown",
   "id": "f64ae6fa",
   "metadata": {},
   "source": [
    "set methods\n",
    "\n",
    "Add set elements\n",
    "1. add() - includes the specified element to the set\n",
    "2. update() - adds any iterable to the set syn - s.update(anyiterable) --> s would be updated with all elements & returns none\n",
    "\n",
    "Remove set elements\n",
    "1. remove - deletes specified element & throws error if element is not available\n",
    "2. discard - deletes specified element if available\n",
    "3. pop - deletes random element from set, since we cant access set with index if index is provided in pop() it throws error, it returns the deleted element\n",
    "4. clear() - empties the set\n",
    "5. del - deletes entire set\n"
   ]
  },
  {
   "cell_type": "code",
   "execution_count": 70,
   "id": "e719dc97",
   "metadata": {},
   "outputs": [],
   "source": [
    "#joins\n",
    "\n",
    "s1 = {2,9,7,4}\n",
    "s2 = {4,0,3,12}"
   ]
  },
  {
   "cell_type": "code",
   "execution_count": 72,
   "id": "94eb42c7",
   "metadata": {},
   "outputs": [
    {
     "data": {
      "text/plain": [
       "{0, 2, 3, 4, 7, 9, 12}"
      ]
     },
     "execution_count": 72,
     "metadata": {},
     "output_type": "execute_result"
    }
   ],
   "source": [
    "#union\n",
    "s3 = s1.union(s2)\n",
    "s3"
   ]
  },
  {
   "cell_type": "code",
   "execution_count": 74,
   "id": "ec039d11",
   "metadata": {},
   "outputs": [
    {
     "data": {
      "text/plain": [
       "{0, 2, 3, 4, 7, 9, 12}"
      ]
     },
     "execution_count": 74,
     "metadata": {},
     "output_type": "execute_result"
    }
   ],
   "source": [
    "#update \n",
    "s1.update(s2)\n",
    "s1"
   ]
  },
  {
   "cell_type": "code",
   "execution_count": 76,
   "id": "fd9c4b07",
   "metadata": {},
   "outputs": [
    {
     "data": {
      "text/plain": [
       "{0, 3, 4, 12}"
      ]
     },
     "execution_count": 76,
     "metadata": {},
     "output_type": "execute_result"
    }
   ],
   "source": [
    "#intersection_update\n",
    "\n",
    "s1.intersection_update(s2)\n",
    "s1"
   ]
  },
  {
   "cell_type": "code",
   "execution_count": 78,
   "id": "c39244ed",
   "metadata": {},
   "outputs": [
    {
     "data": {
      "text/plain": [
       "{0, 3, 4, 12}"
      ]
     },
     "execution_count": 78,
     "metadata": {},
     "output_type": "execute_result"
    }
   ],
   "source": [
    "#intersection\n",
    "s3 = s1.intersection(s2)\n",
    "s3"
   ]
  },
  {
   "cell_type": "code",
   "execution_count": 82,
   "id": "a0c4cf1f",
   "metadata": {},
   "outputs": [
    {
     "data": {
      "text/plain": [
       "{0, 3, 4, 12}"
      ]
     },
     "execution_count": 82,
     "metadata": {},
     "output_type": "execute_result"
    }
   ],
   "source": [
    "#symmetric_difference_update\n",
    "\n",
    "s1.symmetric_difference_update(s2)\n",
    "s1"
   ]
  },
  {
   "cell_type": "code",
   "execution_count": 86,
   "id": "888a8e94",
   "metadata": {},
   "outputs": [
    {
     "data": {
      "text/plain": [
       "{0, 3, 4, 12}"
      ]
     },
     "execution_count": 86,
     "metadata": {},
     "output_type": "execute_result"
    }
   ],
   "source": [
    "#symmetric_difference\n",
    "s3 = s1.symmetric_difference(s2)\n",
    "s3"
   ]
  },
  {
   "cell_type": "code",
   "execution_count": 87,
   "id": "9cc002fa",
   "metadata": {},
   "outputs": [],
   "source": [
    "##Dictionary \n",
    "\n",
    "thisdict = {\n",
    "  \"brand\": \"Ford\",\n",
    "  \"model\": \"Mustang\",\n",
    "  \"year\": 1964\n",
    "}"
   ]
  },
  {
   "cell_type": "code",
   "execution_count": 88,
   "id": "08b51daf",
   "metadata": {},
   "outputs": [
    {
     "data": {
      "text/plain": [
       "{'brand': 'Ford', 'model': 'Mustang', 'year': 1964}"
      ]
     },
     "execution_count": 88,
     "metadata": {},
     "output_type": "execute_result"
    }
   ],
   "source": [
    "thisdict"
   ]
  },
  {
   "cell_type": "code",
   "execution_count": 89,
   "id": "5f4c8fd6",
   "metadata": {},
   "outputs": [
    {
     "data": {
      "text/plain": [
       "'Ford'"
      ]
     },
     "execution_count": 89,
     "metadata": {},
     "output_type": "execute_result"
    }
   ],
   "source": [
    "thisdict['brand']"
   ]
  },
  {
   "cell_type": "code",
   "execution_count": 91,
   "id": "60eb5f3d",
   "metadata": {},
   "outputs": [
    {
     "data": {
      "text/plain": [
       "'Mustang'"
      ]
     },
     "execution_count": 91,
     "metadata": {},
     "output_type": "execute_result"
    }
   ],
   "source": [
    "thisdict.get('model')"
   ]
  },
  {
   "cell_type": "code",
   "execution_count": 92,
   "id": "ff249d2d",
   "metadata": {},
   "outputs": [
    {
     "data": {
      "text/plain": [
       "dict_keys(['brand', 'model', 'year'])"
      ]
     },
     "execution_count": 92,
     "metadata": {},
     "output_type": "execute_result"
    }
   ],
   "source": [
    "thisdict.keys()"
   ]
  },
  {
   "cell_type": "code",
   "execution_count": 93,
   "id": "6792ea4f",
   "metadata": {},
   "outputs": [
    {
     "data": {
      "text/plain": [
       "dict_values(['Ford', 'Mustang', 1964])"
      ]
     },
     "execution_count": 93,
     "metadata": {},
     "output_type": "execute_result"
    }
   ],
   "source": [
    "thisdict.values()"
   ]
  },
  {
   "cell_type": "code",
   "execution_count": 94,
   "id": "417708c6",
   "metadata": {},
   "outputs": [
    {
     "data": {
      "text/plain": [
       "dict_items([('brand', 'Ford'), ('model', 'Mustang'), ('year', 1964)])"
      ]
     },
     "execution_count": 94,
     "metadata": {},
     "output_type": "execute_result"
    }
   ],
   "source": [
    "thisdict.items()"
   ]
  },
  {
   "cell_type": "code",
   "execution_count": 95,
   "id": "533c3669",
   "metadata": {},
   "outputs": [],
   "source": [
    "thisdict['month'] = 'Jan'"
   ]
  },
  {
   "cell_type": "code",
   "execution_count": 96,
   "id": "de63d27b",
   "metadata": {},
   "outputs": [
    {
     "data": {
      "text/plain": [
       "{'brand': 'Ford', 'model': 'Mustang', 'year': 1964, 'month': 'Jan'}"
      ]
     },
     "execution_count": 96,
     "metadata": {},
     "output_type": "execute_result"
    }
   ],
   "source": [
    "thisdict"
   ]
  },
  {
   "cell_type": "code",
   "execution_count": 99,
   "id": "27bd2552",
   "metadata": {},
   "outputs": [
    {
     "name": "stdout",
     "output_type": "stream",
     "text": [
      "exists\n"
     ]
    }
   ],
   "source": [
    "if 'brand' in thisdict:\n",
    "    print(\"exists\")"
   ]
  },
  {
   "cell_type": "code",
   "execution_count": 100,
   "id": "24896d70",
   "metadata": {},
   "outputs": [],
   "source": [
    "if 'ford' in thisdict:\n",
    "    print(\"exists\")"
   ]
  },
  {
   "cell_type": "code",
   "execution_count": 102,
   "id": "1faabcf3",
   "metadata": {},
   "outputs": [
    {
     "ename": "ValueError",
     "evalue": "dictionary update sequence element #0 has length 6; 2 is required",
     "output_type": "error",
     "traceback": [
      "\u001b[1;31m---------------------------------------------------------------------------\u001b[0m",
      "\u001b[1;31mValueError\u001b[0m                                Traceback (most recent call last)",
      "Cell \u001b[1;32mIn[102], line 1\u001b[0m\n\u001b[1;32m----> 1\u001b[0m \u001b[43mthisdict\u001b[49m\u001b[38;5;241;43m.\u001b[39;49m\u001b[43mupdate\u001b[49m\u001b[43m(\u001b[49m\u001b[43m{\u001b[49m\u001b[38;5;124;43m'\u001b[39;49m\u001b[38;5;124;43mmonday\u001b[39;49m\u001b[38;5;124;43m'\u001b[39;49m\u001b[43m}\u001b[49m\u001b[43m)\u001b[49m\n",
      "\u001b[1;31mValueError\u001b[0m: dictionary update sequence element #0 has length 6; 2 is required"
     ]
    }
   ],
   "source": [
    "thisdict.update({'monday'})"
   ]
  },
  {
   "cell_type": "code",
   "execution_count": 103,
   "id": "78eac64e",
   "metadata": {},
   "outputs": [],
   "source": [
    "thisdict.update({'day':'monday'})"
   ]
  },
  {
   "cell_type": "code",
   "execution_count": 104,
   "id": "bf47a1f0",
   "metadata": {},
   "outputs": [
    {
     "data": {
      "text/plain": [
       "{'brand': 'Ford',\n",
       " 'model': 'Mustang',\n",
       " 'year': 1964,\n",
       " 'month': 'Jan',\n",
       " 'day': 'monday'}"
      ]
     },
     "execution_count": 104,
     "metadata": {},
     "output_type": "execute_result"
    }
   ],
   "source": [
    "thisdict"
   ]
  },
  {
   "cell_type": "code",
   "execution_count": 108,
   "id": "4f9dbe36",
   "metadata": {},
   "outputs": [
    {
     "ename": "ValueError",
     "evalue": "dictionary update sequence element #0 has length 4; 2 is required",
     "output_type": "error",
     "traceback": [
      "\u001b[1;31m---------------------------------------------------------------------------\u001b[0m",
      "\u001b[1;31mValueError\u001b[0m                                Traceback (most recent call last)",
      "Cell \u001b[1;32mIn[108], line 1\u001b[0m\n\u001b[1;32m----> 1\u001b[0m \u001b[43mthisdict\u001b[49m\u001b[38;5;241;43m.\u001b[39;49m\u001b[43mupdate\u001b[49m\u001b[43m(\u001b[49m\u001b[43m(\u001b[49m\u001b[38;5;124;43m'\u001b[39;49m\u001b[38;5;124;43mday2\u001b[39;49m\u001b[38;5;124;43m'\u001b[39;49m\u001b[43m,\u001b[49m\u001b[38;5;124;43m'\u001b[39;49m\u001b[38;5;124;43mmonday\u001b[39;49m\u001b[38;5;124;43m'\u001b[39;49m\u001b[43m)\u001b[49m\u001b[43m)\u001b[49m\n",
      "\u001b[1;31mValueError\u001b[0m: dictionary update sequence element #0 has length 4; 2 is required"
     ]
    }
   ],
   "source": [
    "thisdict.update(('day2','monday'))"
   ]
  },
  {
   "cell_type": "markdown",
   "id": "e377aefe",
   "metadata": {},
   "source": [
    "remove dict items\n",
    "1. pop() - deletes spoecified key item\n",
    "2. popitem() - deltes the last item in dict\n",
    "3. del - deletes specified item or entire dict would be delted\n",
    "4. clear() - deletes all contents of the dict\n"
   ]
  },
  {
   "cell_type": "code",
   "execution_count": 109,
   "id": "1b13ca50",
   "metadata": {},
   "outputs": [
    {
     "data": {
      "text/plain": [
       "{'brand': 'Ford',\n",
       " 'model': 'Mustang',\n",
       " 'year': 1964,\n",
       " 'month': 'Jan',\n",
       " 'day': 'monday'}"
      ]
     },
     "execution_count": 109,
     "metadata": {},
     "output_type": "execute_result"
    }
   ],
   "source": [
    "thisdict"
   ]
  },
  {
   "cell_type": "code",
   "execution_count": 110,
   "id": "61076083",
   "metadata": {},
   "outputs": [
    {
     "data": {
      "text/plain": [
       "'Jan'"
      ]
     },
     "execution_count": 110,
     "metadata": {},
     "output_type": "execute_result"
    }
   ],
   "source": [
    "thisdict.pop('month')"
   ]
  },
  {
   "cell_type": "code",
   "execution_count": 111,
   "id": "a065d6b6",
   "metadata": {},
   "outputs": [
    {
     "data": {
      "text/plain": [
       "{'brand': 'Ford', 'model': 'Mustang', 'year': 1964, 'day': 'monday'}"
      ]
     },
     "execution_count": 111,
     "metadata": {},
     "output_type": "execute_result"
    }
   ],
   "source": [
    "thisdict"
   ]
  },
  {
   "cell_type": "code",
   "execution_count": 113,
   "id": "178797af",
   "metadata": {},
   "outputs": [
    {
     "data": {
      "text/plain": [
       "('day', 'monday')"
      ]
     },
     "execution_count": 113,
     "metadata": {},
     "output_type": "execute_result"
    }
   ],
   "source": [
    "thisdict.popitem()"
   ]
  },
  {
   "cell_type": "code",
   "execution_count": 115,
   "id": "5e8bc8a6",
   "metadata": {},
   "outputs": [],
   "source": [
    "del thisdict['model']"
   ]
  },
  {
   "cell_type": "code",
   "execution_count": 116,
   "id": "43f90d17",
   "metadata": {},
   "outputs": [
    {
     "data": {
      "text/plain": [
       "{'brand': 'Ford', 'year': 1964}"
      ]
     },
     "execution_count": 116,
     "metadata": {},
     "output_type": "execute_result"
    }
   ],
   "source": [
    "thisdict"
   ]
  },
  {
   "cell_type": "code",
   "execution_count": 117,
   "id": "13f6f5d5",
   "metadata": {},
   "outputs": [],
   "source": [
    "thisdict.clear()"
   ]
  },
  {
   "cell_type": "code",
   "execution_count": 118,
   "id": "62853049",
   "metadata": {},
   "outputs": [
    {
     "data": {
      "text/plain": [
       "{}"
      ]
     },
     "execution_count": 118,
     "metadata": {},
     "output_type": "execute_result"
    }
   ],
   "source": [
    "thisdict"
   ]
  },
  {
   "cell_type": "code",
   "execution_count": 119,
   "id": "4f7cc0e4",
   "metadata": {},
   "outputs": [],
   "source": [
    "del thisdict"
   ]
  },
  {
   "cell_type": "code",
   "execution_count": 120,
   "id": "d670cc19",
   "metadata": {},
   "outputs": [
    {
     "ename": "NameError",
     "evalue": "name 'thisdict' is not defined",
     "output_type": "error",
     "traceback": [
      "\u001b[1;31m---------------------------------------------------------------------------\u001b[0m",
      "\u001b[1;31mNameError\u001b[0m                                 Traceback (most recent call last)",
      "Cell \u001b[1;32mIn[120], line 1\u001b[0m\n\u001b[1;32m----> 1\u001b[0m \u001b[43mthisdict\u001b[49m\n",
      "\u001b[1;31mNameError\u001b[0m: name 'thisdict' is not defined"
     ]
    }
   ],
   "source": [
    "thisdict"
   ]
  },
  {
   "cell_type": "code",
   "execution_count": 122,
   "id": "8e257ff7",
   "metadata": {},
   "outputs": [],
   "source": [
    "\n",
    "thisdict = {\n",
    "  \"brand\": \"Ford\",\n",
    "  \"model\": \"Mustang\",\n",
    "  \"year\": 1964\n",
    "}"
   ]
  },
  {
   "cell_type": "code",
   "execution_count": 123,
   "id": "7e1e6086",
   "metadata": {},
   "outputs": [],
   "source": [
    "#copy dict\n",
    "\n",
    "dict1 = thisdict # this js references to thisdict & hence anychanges made to one would effect the other\n",
    "\n",
    "dict2 = thisdict.copy()"
   ]
  },
  {
   "cell_type": "code",
   "execution_count": 124,
   "id": "1482ff2f",
   "metadata": {},
   "outputs": [
    {
     "data": {
      "text/plain": [
       "{'brand': 'Ford', 'model': 'Mustang', 'year': 1964}"
      ]
     },
     "execution_count": 124,
     "metadata": {},
     "output_type": "execute_result"
    }
   ],
   "source": [
    "dict2"
   ]
  },
  {
   "cell_type": "code",
   "execution_count": 125,
   "id": "161b2234",
   "metadata": {},
   "outputs": [
    {
     "data": {
      "text/plain": [
       "{'brand': 'Ford', 'model': 'Mustang', 'year': 1964}"
      ]
     },
     "execution_count": 125,
     "metadata": {},
     "output_type": "execute_result"
    }
   ],
   "source": [
    "dict1"
   ]
  },
  {
   "cell_type": "code",
   "execution_count": 126,
   "id": "a877224c",
   "metadata": {},
   "outputs": [],
   "source": [
    "dict1['brand'] = 'f'"
   ]
  },
  {
   "cell_type": "code",
   "execution_count": 127,
   "id": "16d1af8b",
   "metadata": {},
   "outputs": [
    {
     "data": {
      "text/plain": [
       "{'brand': 'f', 'model': 'Mustang', 'year': 1964}"
      ]
     },
     "execution_count": 127,
     "metadata": {},
     "output_type": "execute_result"
    }
   ],
   "source": [
    "dict1"
   ]
  },
  {
   "cell_type": "code",
   "execution_count": 128,
   "id": "3f1bee41",
   "metadata": {},
   "outputs": [
    {
     "data": {
      "text/plain": [
       "{'brand': 'f', 'model': 'Mustang', 'year': 1964}"
      ]
     },
     "execution_count": 128,
     "metadata": {},
     "output_type": "execute_result"
    }
   ],
   "source": [
    "thisdict"
   ]
  },
  {
   "cell_type": "code",
   "execution_count": 129,
   "id": "299d7db3",
   "metadata": {},
   "outputs": [],
   "source": [
    "dict3 = dict(thisdict)"
   ]
  },
  {
   "cell_type": "code",
   "execution_count": 133,
   "id": "b4c5ffa2",
   "metadata": {},
   "outputs": [],
   "source": [
    "#nested dict\n",
    "\n",
    "ndict = {\n",
    "    'e1': { 'n1':'p',\n",
    "        'r1': 2\n",
    "    },\n",
    " 'e2': { 'n2':'pa',\n",
    "        'r2': 4\n",
    "    }}"
   ]
  },
  {
   "cell_type": "code",
   "execution_count": 134,
   "id": "13f0431b",
   "metadata": {},
   "outputs": [
    {
     "data": {
      "text/plain": [
       "{'e1': {'n1': 'p', 'r1': 2}, 'e2': {'n2': 'pa', 'r2': 4}}"
      ]
     },
     "execution_count": 134,
     "metadata": {},
     "output_type": "execute_result"
    }
   ],
   "source": [
    "ndict"
   ]
  },
  {
   "cell_type": "code",
   "execution_count": 135,
   "id": "806faaea",
   "metadata": {},
   "outputs": [
    {
     "data": {
      "text/plain": [
       "{'brand': 'f', 'model': 'Mustang', 'year': 1964}"
      ]
     },
     "execution_count": 135,
     "metadata": {},
     "output_type": "execute_result"
    }
   ],
   "source": [
    "dict1"
   ]
  },
  {
   "cell_type": "code",
   "execution_count": 136,
   "id": "8b7db9f2",
   "metadata": {},
   "outputs": [
    {
     "data": {
      "text/plain": [
       "{'brand': 'Ford', 'model': 'Mustang', 'year': 1964}"
      ]
     },
     "execution_count": 136,
     "metadata": {},
     "output_type": "execute_result"
    }
   ],
   "source": [
    "dict2"
   ]
  },
  {
   "cell_type": "code",
   "execution_count": 137,
   "id": "52c62ac3",
   "metadata": {},
   "outputs": [
    {
     "data": {
      "text/plain": [
       "{'brand': 'f', 'model': 'Mustang', 'year': 1964}"
      ]
     },
     "execution_count": 137,
     "metadata": {},
     "output_type": "execute_result"
    }
   ],
   "source": [
    "dict3"
   ]
  },
  {
   "cell_type": "code",
   "execution_count": 139,
   "id": "790c781b",
   "metadata": {},
   "outputs": [],
   "source": [
    "ndict1 ={'d1': dict1, 'd2': dict2}"
   ]
  },
  {
   "cell_type": "code",
   "execution_count": 140,
   "id": "97615e39",
   "metadata": {},
   "outputs": [
    {
     "data": {
      "text/plain": [
       "{'d1': {'brand': 'f', 'model': 'Mustang', 'year': 1964},\n",
       " 'd2': {'brand': 'Ford', 'model': 'Mustang', 'year': 1964}}"
      ]
     },
     "execution_count": 140,
     "metadata": {},
     "output_type": "execute_result"
    }
   ],
   "source": [
    "ndict1"
   ]
  },
  {
   "cell_type": "code",
   "execution_count": 141,
   "id": "f1a49233",
   "metadata": {},
   "outputs": [],
   "source": [
    "str1 = \"\"\"this is  a multi\n",
    "line\n",
    "string\"\"\""
   ]
  },
  {
   "cell_type": "code",
   "execution_count": 153,
   "id": "7b081a6a",
   "metadata": {},
   "outputs": [],
   "source": [
    "def frequency(str1):\n",
    "    charfreq ={}\n",
    "    for char in str1:\n",
    "        if char in charfreq:\n",
    "            charfreq[char] += 1\n",
    "        else:\n",
    "            charfreq[char] = 1\n",
    "            \n",
    "    return charfreq"
   ]
  },
  {
   "cell_type": "code",
   "execution_count": 154,
   "id": "2ff03e62",
   "metadata": {},
   "outputs": [],
   "source": [
    "res = frequency(str1)"
   ]
  },
  {
   "cell_type": "code",
   "execution_count": 155,
   "id": "95353b70",
   "metadata": {},
   "outputs": [
    {
     "data": {
      "text/plain": [
       "{'t': 3,\n",
       " 'h': 1,\n",
       " 'i': 5,\n",
       " 's': 3,\n",
       " ' ': 4,\n",
       " 'a': 1,\n",
       " 'm': 1,\n",
       " 'u': 1,\n",
       " 'l': 2,\n",
       " '\\n': 2,\n",
       " 'n': 2,\n",
       " 'e': 1,\n",
       " 'r': 1,\n",
       " 'g': 1}"
      ]
     },
     "execution_count": 155,
     "metadata": {},
     "output_type": "execute_result"
    }
   ],
   "source": [
    "res"
   ]
  },
  {
   "cell_type": "code",
   "execution_count": 151,
   "id": "271c5774",
   "metadata": {},
   "outputs": [
    {
     "data": {
      "text/plain": [
       "dict_items([('a', 0), ('e', 0), ('i', 0), ('o', 0), ('u', 0)])"
      ]
     },
     "execution_count": 151,
     "metadata": {},
     "output_type": "execute_result"
    }
   ],
   "source": [
    "dict1.items()"
   ]
  },
  {
   "cell_type": "code",
   "execution_count": 152,
   "id": "ffc1ec34",
   "metadata": {},
   "outputs": [
    {
     "name": "stdout",
     "output_type": "stream",
     "text": [
      "{'H': 1, 'e': 1, 'l': 3, 'o': 2, ',': 1, ' ': 1, 'W': 1, 'r': 1, 'd': 1, '!': 1}\n"
     ]
    }
   ],
   "source": [
    "def count_characters(string):\n",
    "    char_frequency = {}\n",
    "    for char in string:\n",
    "        if char in char_frequency:\n",
    "            char_frequency[char] += 1\n",
    "        else:\n",
    "            char_frequency[char] = 1\n",
    "    return char_frequency\n",
    "\n",
    "# Example usage:\n",
    "input_string = \"Hello, World!\"\n",
    "result = count_characters(input_string)\n",
    "print(result)\n"
   ]
  },
  {
   "cell_type": "code",
   "execution_count": null,
   "id": "9794506e",
   "metadata": {},
   "outputs": [],
   "source": []
  }
 ],
 "metadata": {
  "kernelspec": {
   "display_name": "Python 3 (ipykernel)",
   "language": "python",
   "name": "python3"
  },
  "language_info": {
   "codemirror_mode": {
    "name": "ipython",
    "version": 3
   },
   "file_extension": ".py",
   "mimetype": "text/x-python",
   "name": "python",
   "nbconvert_exporter": "python",
   "pygments_lexer": "ipython3",
   "version": "3.10.9"
  }
 },
 "nbformat": 4,
 "nbformat_minor": 5
}
