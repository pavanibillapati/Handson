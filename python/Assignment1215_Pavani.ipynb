{
 "cells": [
  {
   "cell_type": "markdown",
   "id": "13006df8",
   "metadata": {},
   "source": [
    "1) Write a Python program that takes a list of integers and returns a new list with only the even numbers."
   ]
  },
  {
   "cell_type": "code",
   "execution_count": 61,
   "id": "a54f3f4f",
   "metadata": {},
   "outputs": [
    {
     "name": "stdout",
     "output_type": "stream",
     "text": [
      "Enter number of integers u want to enter in the list:5\n",
      "enter number:8\n",
      "enter number:3\n",
      "enter number:0\n",
      "enter number:-2\n",
      "enter number:7\n",
      "The input list entered is: [8, 3, 0, -2, 7]\n",
      "The even numbers among the input is: [8, 0, -2]\n"
     ]
    }
   ],
   "source": [
    "n = int(input(\"Enter number of integers u want to enter in the list:\"))\n",
    "i=0\n",
    "input_list = []\n",
    "output_list = []\n",
    "\n",
    "for i in range(0,n):\n",
    "    input_list.append(int(input(\"enter number:\")))\n",
    "    \n",
    "print('The input list entered is:',input_list)    \n",
    "   \n",
    "i = 0\n",
    "for num in input_list:\n",
    "    if(num % 2 == 0):\n",
    "        output_list.append(num)\n",
    "        i=i+1\n",
    "    else:\n",
    "        i=i+1\n",
    "        \n",
    "print(\"The even numbers among the input is:\",output_list)"
   ]
  },
  {
   "cell_type": "markdown",
   "id": "b955d070",
   "metadata": {},
   "source": [
    "2) Create a Python program that takes in two numbers and returns their sum. If the two numbers are the same, return double their sum.\n"
   ]
  },
  {
   "cell_type": "code",
   "execution_count": 18,
   "id": "f1879587",
   "metadata": {},
   "outputs": [
    {
     "name": "stdout",
     "output_type": "stream",
     "text": [
      "enter a number:4\n",
      "enter a number:6\n",
      "The sum of 4 and 6 is 10\n"
     ]
    }
   ],
   "source": [
    "num1 = int(input(\"enter a number:\"))\n",
    "num2 = int(input(\"enter a number:\"))\n",
    "\n",
    "if(num1 == num2):\n",
    "    sum = num1 * 4;\n",
    "else:\n",
    "    sum = num1 + num2\n",
    "       \n",
    "print(f'The sum of {num1} and {num2} is {sum}')"
   ]
  },
  {
   "cell_type": "markdown",
   "id": "1ab05d82",
   "metadata": {},
   "source": [
    "3) Write a Python program that reads in a string and prints out the frequency of each character in the string."
   ]
  },
  {
   "cell_type": "code",
   "execution_count": 31,
   "id": "e8f5f68e",
   "metadata": {},
   "outputs": [
    {
     "name": "stdout",
     "output_type": "stream",
     "text": [
      "Enter a string:pavani\n",
      "6\n",
      "Frequency of p in string s is 1\n",
      "Frequency of a in string s is 2\n",
      "Frequency of v in string s is 1\n",
      "Frequency of a in string s is 2\n",
      "Frequency of n in string s is 1\n",
      "Frequency of i in string s is 1\n"
     ]
    }
   ],
   "source": [
    "s = input(\"Enter a string:\")\n",
    "\n",
    "n = len(s)\n",
    "print(n)\n",
    "i=0\n",
    "j=0\n",
    "\n",
    "for i in range(0,n):\n",
    "    count = 0\n",
    "    for j in range(0,n):\n",
    "        if s[i] == s[j]:\n",
    "            count = count+1\n",
    "    print(f'Frequency of {s[i]} in string s is {count}')"
   ]
  },
  {
   "cell_type": "markdown",
   "id": "69e6e8fa",
   "metadata": {},
   "source": [
    "4) Create a Python program that takes in a list of numbers and returns the average of the list. If the list is empty, return None.\n"
   ]
  },
  {
   "cell_type": "code",
   "execution_count": 62,
   "id": "3a1719a3",
   "metadata": {},
   "outputs": [],
   "source": [
    "def average(input_list,n):\n",
    "    if n != 0:\n",
    "        i = 0 \n",
    "        total_sum = 0\n",
    "        for num in input_list:\n",
    "            total_sum = total_sum + num\n",
    "            i = i+1\n",
    "        return total_sum/n\n",
    "    else:\n",
    "        return None"
   ]
  },
  {
   "cell_type": "code",
   "execution_count": 63,
   "id": "d3e532d2",
   "metadata": {},
   "outputs": [
    {
     "name": "stdout",
     "output_type": "stream",
     "text": [
      "Enter number of integers u want to enter in the list:4\n",
      "enter number:6\n",
      "enter number:7\n",
      "enter number:3\n",
      "enter number:4\n",
      "The input list entered is: [6, 7, 3, 4]\n",
      "Average of input_list is: 5.0\n"
     ]
    }
   ],
   "source": [
    "n = int(input(\"Enter number of integers u want to enter in the list:\"))\n",
    "i=0\n",
    "input_list = []\n",
    "output_list = []\n",
    "\n",
    "for i in range(0,n):\n",
    "    input_list.append(int(input(\"enter number:\")))\n",
    "    \n",
    "print('The input list entered is:',input_list)\n",
    "\n",
    "print(\"Average of input_list is:\", average(input_list,n))"
   ]
  },
  {
   "cell_type": "markdown",
   "id": "8c2d8345",
   "metadata": {},
   "source": [
    "5)  Write a Python program that takes in a list of strings and returns a new list with only the strings that have more than five characters."
   ]
  },
  {
   "cell_type": "code",
   "execution_count": 65,
   "id": "9bc58d1b",
   "metadata": {},
   "outputs": [
    {
     "name": "stdout",
     "output_type": "stream",
     "text": [
      "Enter number of strings u want to enter in the list:5\n",
      "enter string:pavani\n",
      "enter string:pavan\n",
      "enter string:tmh\n",
      "enter string:billapati\n",
      "enter string:456789\n",
      "The input list of strings are:  ['pavani', 'pavan', 'tmh', 'billapati', '456789']\n",
      "The strings that have more than 5 characters are: [['pavani'], ['billapati'], ['456789']]\n"
     ]
    }
   ],
   "source": [
    "n = int(input(\"Enter number of strings u want to enter in the list:\"))\n",
    "\n",
    "i = 0\n",
    "j = 0\n",
    "input_list = []\n",
    "output_list = []\n",
    "\n",
    "for i in range(0,n):\n",
    "    input_list.append(input(\"enter string:\"))\n",
    "    if(len(input_list[i]) > 5):\n",
    "        output_list.append([])\n",
    "        output_list[j].append(input_list[i])\n",
    "        j = j + 1\n",
    "    i = i + 1\n",
    "    \n",
    "print(\"The input list of strings are: \",input_list)\n",
    "\n",
    "print(\"The strings that have more than 5 characters are:\",output_list)"
   ]
  },
  {
   "cell_type": "markdown",
   "id": "5e271490",
   "metadata": {},
   "source": [
    "6) Create a Python program  that takes in a list of integers and returns the second smallest number in the list."
   ]
  },
  {
   "cell_type": "code",
   "execution_count": 66,
   "id": "0c950ccc",
   "metadata": {},
   "outputs": [
    {
     "name": "stdout",
     "output_type": "stream",
     "text": [
      "Enter number of integers u want to enter in the list:4\n",
      "enter number:3\n",
      "enter number:7\n",
      "enter number:0\n",
      "enter number:1\n",
      "The input list entered is: [3, 7, 0, 1]\n",
      "The second smallest number in the list: 3\n"
     ]
    }
   ],
   "source": [
    "n = int(input(\"Enter number of integers u want to enter in the list:\"))\n",
    "i=0\n",
    "input_list = []\n",
    "\n",
    "for i in range(0,n):\n",
    "    input_list.append(int(input(\"enter number:\")))\n",
    "    \n",
    "print('The input list entered is:',input_list)\n",
    "\n",
    "min = input_list[0]\n",
    "i = 1\n",
    "for num in input_list:\n",
    "    if(num < min):\n",
    "        second_min = min\n",
    "        min = num\n",
    "    i = i + 1\n",
    "        \n",
    "print(\"The second smallest number in the list:\", second_min)"
   ]
  },
  {
   "cell_type": "markdown",
   "id": "7b2ed686",
   "metadata": {},
   "source": [
    "7) Write a Python program that takes in two lists of integers and returns a new list with the elements that are common to both lists."
   ]
  },
  {
   "cell_type": "code",
   "execution_count": 59,
   "id": "8b9c5d77",
   "metadata": {},
   "outputs": [
    {
     "name": "stdout",
     "output_type": "stream",
     "text": [
      "Enter number of integers u want to enter in the list1:4\n",
      "enter number:9\n",
      "enter number:2\n",
      "enter number:8\n",
      "enter number:7\n",
      "The first list is:  [9, 2, 8, 7]\n",
      "Enter number of integers u want to enter in the list2:3\n",
      "enter number:9\n",
      "enter number:0\n",
      "enter number:4\n",
      "The second list is:  [9, 0, 4]\n",
      "The elements that are common to both lists are:  [9]\n"
     ]
    }
   ],
   "source": [
    "n1 = int(input(\"Enter number of integers u want to enter in the list1:\"))\n",
    "\n",
    "input_list1 = []\n",
    "input_list2 = []\n",
    "\n",
    "i=0\n",
    "for i in range(0,n1):\n",
    "    input_list1.append(int(input(\"enter number:\")))\n",
    "\n",
    "print(\"The first list is: \",input_list1)\n",
    "\n",
    "n2 = int(input(\"Enter number of integers u want to enter in the list2:\"))\n",
    "i=0    \n",
    "for i in range(0,n2):\n",
    "    input_list2.append(int(input(\"enter number:\")))\n",
    "\n",
    "print(\"The second list is: \",input_list2)\n",
    "\n",
    "output_list = []\n",
    "\n",
    "i = 0\n",
    "j = 0\n",
    "count = 0\n",
    "\n",
    "for num in input_list1:\n",
    "    if num in input_list2 and num not in output_list:\n",
    "        output_list.append(num)\n",
    "    \n",
    "print(\"The elements that are common to both lists are: \",output_list)"
   ]
  },
  {
   "cell_type": "markdown",
   "id": "5e14b74a",
   "metadata": {},
   "source": [
    "8) Create a Python program that takes in a string and returns a new string with every other character removed."
   ]
  },
  {
   "cell_type": "code",
   "execution_count": 58,
   "id": "103b152f",
   "metadata": {},
   "outputs": [
    {
     "name": "stdout",
     "output_type": "stream",
     "text": [
      "Enter a string:pavani\n",
      "The original string is: pavani\n",
      "string with every other character removed is pvn\n"
     ]
    }
   ],
   "source": [
    "s = input(\"Enter a string:\")\n",
    "output = \"\"\n",
    "i = 0 \n",
    "while i < len(s):\n",
    "    output = output + s[i]\n",
    "    i = i + 2\n",
    "\n",
    "print(\"The original string is:\",s)\n",
    "print(\"string with every other character removed is\", output)"
   ]
  },
  {
   "cell_type": "markdown",
   "id": "9f12025f",
   "metadata": {},
   "source": [
    "9) Write a Python program that takes in a list of numbers and prints out the maximum and minimum values in the list."
   ]
  },
  {
   "cell_type": "code",
   "execution_count": 67,
   "id": "b6dff961",
   "metadata": {},
   "outputs": [
    {
     "name": "stdout",
     "output_type": "stream",
     "text": [
      "Enter number of integers u want to enter in the list:5\n",
      "enter number:9\n",
      "enter number:6\n",
      "enter number:0\n",
      "enter number:4\n",
      "enter number:8\n",
      "The input list entered is: [9, 6, 0, 4, 8]\n",
      "The smallest number in the list: 0\n",
      "The largest number in the list: 9\n"
     ]
    }
   ],
   "source": [
    "n = int(input(\"Enter number of integers u want to enter in the list:\"))\n",
    "i=0\n",
    "input_list = []\n",
    "\n",
    "for i in range(0,n):\n",
    "    input_list.append(int(input(\"enter number:\")))\n",
    "    \n",
    "print('The input list entered is:',input_list)\n",
    "\n",
    "min = input_list[0]\n",
    "i = 1\n",
    "for num in input_list:\n",
    "    if(num < min):\n",
    "        min = num\n",
    "    i = i + 1\n",
    "        \n",
    "print(\"The smallest number in the list:\", min)\n",
    "\n",
    "max = input_list[0]\n",
    "i = 1\n",
    "for num in input_list:\n",
    "    if(num < min):\n",
    "        max = num\n",
    "    i = i + 1\n",
    "    \n",
    "print(\"The largest number in the list:\", max)"
   ]
  },
  {
   "cell_type": "markdown",
   "id": "31f64d3f",
   "metadata": {},
   "source": [
    "10) Create a Python program that takes in a string and returns True if the string is a palindrome, and False otherwise."
   ]
  },
  {
   "cell_type": "code",
   "execution_count": 57,
   "id": "1aa8d630",
   "metadata": {},
   "outputs": [
    {
     "name": "stdout",
     "output_type": "stream",
     "text": [
      "enter a string: madpldam\n",
      "False\n"
     ]
    }
   ],
   "source": [
    "s = input(\"enter a string: \")\n",
    "i = 0\n",
    "#print(len(s))\n",
    "\n",
    "while(i < len(s)/2):\n",
    "    if(s[i] == s[-(i+1)]):\n",
    "        i=i+1\n",
    "    else:\n",
    "        break\n",
    "    \n",
    "if(i >= len(s)/2):\n",
    "    print(\"True\")\n",
    "else:\n",
    "    print(\"False\")"
   ]
  },
  {
   "cell_type": "code",
   "execution_count": null,
   "id": "1c2575bb",
   "metadata": {},
   "outputs": [],
   "source": []
  }
 ],
 "metadata": {
  "kernelspec": {
   "display_name": "Python 3 (ipykernel)",
   "language": "python",
   "name": "python3"
  },
  "language_info": {
   "codemirror_mode": {
    "name": "ipython",
    "version": 3
   },
   "file_extension": ".py",
   "mimetype": "text/x-python",
   "name": "python",
   "nbconvert_exporter": "python",
   "pygments_lexer": "ipython3",
   "version": "3.10.9"
  }
 },
 "nbformat": 4,
 "nbformat_minor": 5
}
