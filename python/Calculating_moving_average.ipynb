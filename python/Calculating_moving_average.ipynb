{
 "cells": [
  {
   "cell_type": "code",
   "execution_count": 1,
   "id": "36b8ce51",
   "metadata": {},
   "outputs": [],
   "source": [
    "l = [\n",
    "    {\"CompanyA\": 100, \"CompanyB\": 200},\n",
    "    {\"CompanyA\": 110, \"CompanyB\": 210},\n",
    "    {\"CompanyA\": 120, \"CompanyB\": 220},\n",
    "    {\"CompanyA\": 130, \"CompanyB\": 230},\n",
    "    {\"CompanyA\": 140, \"CompanyB\": 240},\n",
    "    {\"CompanyA\": 150, \"CompanyB\": 250}\n",
    "]"
   ]
  },
  {
   "cell_type": "code",
   "execution_count": 7,
   "id": "0a387e59",
   "metadata": {},
   "outputs": [
    {
     "name": "stdout",
     "output_type": "stream",
     "text": [
      "[{'CompanyA': 120.0, 'CompanyB': 220.0}, {'CompanyA': 130.0, 'CompanyB': 230.0}]\n"
     ]
    }
   ],
   "source": [
    "def calculate_moving_average(stock):\n",
    "    moving_averages = []\n",
    "\n",
    "    for i in range(len(stock) - 4):\n",
    "        moving_average = {}\n",
    "        for day in stock[i:i+5]:\n",
    "            for company, price in day.items():\n",
    "                if company not in moving_average:\n",
    "                    moving_average[company] = []\n",
    "                moving_average[company].append(price)\n",
    "\n",
    "        for company, prices in moving_average.items():\n",
    "            moving_average[company] = sum(prices) / len(prices)\n",
    "\n",
    "        moving_averages.append(moving_average)\n",
    "\n",
    "    return moving_averages\n",
    "\n",
    "stock = [\n",
    "    {\"CompanyA\": 100, \"CompanyB\": 200},\n",
    "    {\"CompanyA\": 110, \"CompanyB\": 210},\n",
    "    {\"CompanyA\": 120, \"CompanyB\": 220},\n",
    "    {\"CompanyA\": 130, \"CompanyB\": 230},\n",
    "    {\"CompanyA\": 140, \"CompanyB\": 240},\n",
    "    {\"CompanyA\": 150, \"CompanyB\": 250}\n",
    "]\n",
    "\n",
    "result = calculate_moving_average(stock_prices)\n",
    "print(result)\n"
   ]
  },
  {
   "cell_type": "code",
   "execution_count": 8,
   "id": "53994e1e",
   "metadata": {},
   "outputs": [
    {
     "name": "stdout",
     "output_type": "stream",
     "text": [
      "[{'CompanyA': 120.0, 'CompanyB': 220.0}, {'CompanyA': 130.0, 'CompanyB': 230.0}]\n"
     ]
    }
   ],
   "source": [
    "def calculate_moving_average(stock_prices):\n",
    "    moving_averages = []\n",
    "\n",
    "    for i in range(len(stock_prices) - 4):\n",
    "        moving_average = {}\n",
    "        for day in stock_prices[i:i+5]:\n",
    "            for company, price in day.items():\n",
    "                moving_average.setdefault(company, []).append(price)\n",
    "\n",
    "        for company, prices in moving_average.items():\n",
    "            moving_average[company] = sum(prices) / len(prices)\n",
    "\n",
    "        moving_averages.append(moving_average)\n",
    "\n",
    "    return moving_averages\n",
    "\n",
    "# Example usage:\n",
    "stock_prices = [\n",
    "    {\"CompanyA\": 100, \"CompanyB\": 200},\n",
    "    {\"CompanyA\": 110, \"CompanyB\": 210},\n",
    "    {\"CompanyA\": 120, \"CompanyB\": 220},\n",
    "    {\"CompanyA\": 130, \"CompanyB\": 230},\n",
    "    {\"CompanyA\": 140, \"CompanyB\": 240},\n",
    "    {\"CompanyA\": 150, \"CompanyB\": 250}\n",
    "]\n",
    "\n",
    "result = calculate_moving_average(stock_prices)\n",
    "print(result)\n"
   ]
  }
 ],
 "metadata": {
  "kernelspec": {
   "display_name": "Python 3 (ipykernel)",
   "language": "python",
   "name": "python3"
  },
  "language_info": {
   "codemirror_mode": {
    "name": "ipython",
    "version": 3
   },
   "file_extension": ".py",
   "mimetype": "text/x-python",
   "name": "python",
   "nbconvert_exporter": "python",
   "pygments_lexer": "ipython3",
   "version": "3.10.9"
  }
 },
 "nbformat": 4,
 "nbformat_minor": 5
}
