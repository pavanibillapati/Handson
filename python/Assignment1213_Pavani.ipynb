{
 "cells": [
  {
   "cell_type": "markdown",
   "id": "6912fed4",
   "metadata": {},
   "source": [
    "### 1) Lists\n",
    "a. Write a Python program to find the sum of all the elements in a given list.\n"
   ]
  },
  {
   "cell_type": "code",
   "execution_count": 1,
   "id": "79e172f3",
   "metadata": {},
   "outputs": [
    {
     "name": "stdout",
     "output_type": "stream",
     "text": [
      "Sum of all elements in list is: 30\n"
     ]
    }
   ],
   "source": [
    "l = [4,7,9,10]\n",
    "sum = 0\n",
    "\n",
    "for num in l:\n",
    "    sum = sum + num\n",
    "    \n",
    "print(\"Sum of all elements in list is:\", sum)"
   ]
  },
  {
   "cell_type": "markdown",
   "id": "0deb9437",
   "metadata": {},
   "source": [
    "b. Write a Python program to remove duplicates from a list.\n"
   ]
  },
  {
   "cell_type": "code",
   "execution_count": null,
   "id": "a11698ab",
   "metadata": {},
   "outputs": [],
   "source": [
    "n = int(input(\"Enter the number of integers u want to enter:\"))\n",
    "\n",
    "list = []\n",
    "output_list = []\n",
    "\n",
    "for i in range(0,n):\n",
    "    list.append(int(input(\"enter number: \")))\n",
    "    \n",
    "for num in list:\n",
    "    if num not in output_list:\n",
    "        output_list.append(num)\n",
    "\n",
    "print(output_list)"
   ]
  },
  {
   "cell_type": "markdown",
   "id": "52c0a5cc",
   "metadata": {},
   "source": [
    "###### c. Write a Python program to find the second largest number in a given list.\n"
   ]
  },
  {
   "cell_type": "code",
   "execution_count": null,
   "id": "9cec6729",
   "metadata": {},
   "outputs": [],
   "source": [
    "\n",
    "i=0\n",
    "input_list = [9, -4, 6, 3, 8]\n",
    "\n",
    "min = input_list[0]\n",
    "second_min =0\n",
    "i = 1\n",
    "for num in input_list:\n",
    "    if(num < min):\n",
    "        second_min = min\n",
    "        min = num\n",
    "    i = i + 1\n",
    "        \n",
    "print(\"The second smallest number in the list:\", second_min)"
   ]
  },
  {
   "cell_type": "code",
   "execution_count": 2,
   "id": "e3eaf844",
   "metadata": {},
   "outputs": [
    {
     "data": {
      "text/plain": [
       "inf"
      ]
     },
     "execution_count": 2,
     "metadata": {},
     "output_type": "execute_result"
    }
   ],
   "source": [
    "smin = float('inf')\n",
    "smin"
   ]
  },
  {
   "cell_type": "markdown",
   "id": "f6be17b6",
   "metadata": {},
   "source": [
    "## d. Write a Python program to sort a given list in descending order."
   ]
  },
  {
   "cell_type": "code",
   "execution_count": null,
   "id": "8c602617",
   "metadata": {},
   "outputs": [],
   "source": [
    "2) Sets\n",
    "a. Write a Python program to create a set of numbers and find the maximum and minimum values in the set.\n",
    "b. Write a Python program to remove a specific item from a set.\n",
    "c. Write a Python program to find the intersection and union of two given sets.\n",
    "d. Write a Python program to check if a given set is a subset of another set."
   ]
  },
  {
   "cell_type": "code",
   "execution_count": null,
   "id": "69380903",
   "metadata": {},
   "outputs": [],
   "source": []
  },
  {
   "cell_type": "code",
   "execution_count": null,
   "id": "03a15c0d",
   "metadata": {},
   "outputs": [],
   "source": [
    "3) Tuples\n",
    "a. Write a Python program to create a tuple with numbers and print the first and last elements of the tuple.\n",
    "b. Write a Python program to find the length of a given tuple.\n",
    "c. Write a Python program to concatenate two tuples.\n",
    "d. Write a Python program to create a tuple with elements of different data types and print each element."
   ]
  },
  {
   "cell_type": "code",
   "execution_count": null,
   "id": "5acd3ac6",
   "metadata": {},
   "outputs": [],
   "source": []
  },
  {
   "cell_type": "code",
   "execution_count": null,
   "id": "a9f7b868",
   "metadata": {},
   "outputs": [],
   "source": [
    "4) Dictionaries\n",
    "a. Write a Python program to create a dictionary with key-value pairs and print the dictionary.\n",
    "b. Write a Python program to remove a key from a dictionary.\n",
    "c. Write a Python program to sort a dictionary by key.\n",
    "d. Write a Python program to find the value associated with a given key in a dictionary."
   ]
  },
  {
   "cell_type": "code",
   "execution_count": null,
   "id": "ad52d6c7",
   "metadata": {},
   "outputs": [],
   "source": []
  },
  {
   "cell_type": "code",
   "execution_count": null,
   "id": "f4ba2bc8",
   "metadata": {},
   "outputs": [],
   "source": [
    "1) List comprehension\n",
    "a. Write a Python program to find the sum of all the elements in a given list.\n",
    "b. Write a Python program to remove duplicates from a list.\n",
    "c. Write a Python program to find the second largest number in a given list.\n",
    "d. Write a Python program to sort a given list in descending order."
   ]
  },
  {
   "cell_type": "code",
   "execution_count": null,
   "id": "ea2df53c",
   "metadata": {},
   "outputs": [],
   "source": []
  },
  {
   "cell_type": "code",
   "execution_count": null,
   "id": "13845c6b",
   "metadata": {},
   "outputs": [],
   "source": [
    "l = [6,-2,5,8,0]\n",
    "\n",
    "min_num = l[0]\n",
    "sec_min = int('inf')\n",
    "\n",
    "for num in l:\n",
    "    if num < min_num:\n",
    "        sec_min = min_num\n",
    "        min_num = num\n",
    "        \n",
    "    elif num < sec_min and num != min_num:\n",
    "        sec_min = num\n",
    "        \n",
    "print(sec_min)"
   ]
  },
  {
   "cell_type": "code",
   "execution_count": null,
   "id": "3a76942b",
   "metadata": {},
   "outputs": [],
   "source": []
  }
 ],
 "metadata": {
  "kernelspec": {
   "display_name": "Python 3 (ipykernel)",
   "language": "python",
   "name": "python3"
  },
  "language_info": {
   "codemirror_mode": {
    "name": "ipython",
    "version": 3
   },
   "file_extension": ".py",
   "mimetype": "text/x-python",
   "name": "python",
   "nbconvert_exporter": "python",
   "pygments_lexer": "ipython3",
   "version": "3.10.9"
  }
 },
 "nbformat": 4,
 "nbformat_minor": 5
}
