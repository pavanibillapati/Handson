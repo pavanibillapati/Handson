{
 "cells": [
  {
   "cell_type": "markdown",
   "id": "2891eb58",
   "metadata": {},
   "source": [
    "#### 1) Write a Python function that accepts a variable number of arguments using *args and returns their sum.\n",
    "\n"
   ]
  },
  {
   "cell_type": "code",
   "execution_count": 2,
   "id": "c1e2a196",
   "metadata": {},
   "outputs": [],
   "source": [
    "def sum_of_args(*args):\n",
    "    sum = 0\n",
    "    for num in args:\n",
    "        sum = sum + num    \n",
    "    return sum"
   ]
  },
  {
   "cell_type": "code",
   "execution_count": 3,
   "id": "3286080a",
   "metadata": {},
   "outputs": [
    {
     "name": "stdout",
     "output_type": "stream",
     "text": [
      "Sum is 22\n"
     ]
    }
   ],
   "source": [
    "total = sum_of_args(4,5,6,7)\n",
    "\n",
    "print('Sum is',total)"
   ]
  },
  {
   "cell_type": "markdown",
   "id": "37f78eaa",
   "metadata": {},
   "source": [
    "###### 2) Create a function that takes a variable number of arguments using *args and prints out all the arguments in the order they were passed in.\n",
    "\n"
   ]
  },
  {
   "cell_type": "code",
   "execution_count": 4,
   "id": "50cd864a",
   "metadata": {},
   "outputs": [],
   "source": [
    "def print_args(*args):\n",
    "    print(args)"
   ]
  },
  {
   "cell_type": "code",
   "execution_count": 5,
   "id": "4cd86452",
   "metadata": {},
   "outputs": [
    {
     "name": "stdout",
     "output_type": "stream",
     "text": [
      "(9, 6, 7)\n"
     ]
    }
   ],
   "source": [
    "print_args(9,6,7)"
   ]
  },
  {
   "cell_type": "markdown",
   "id": "6f1323ab",
   "metadata": {},
   "source": [
    "##### 3) Write a Python function that takes a variable number of arguments using *args and returns the highest number in the argument list.\n",
    "\n"
   ]
  },
  {
   "cell_type": "code",
   "execution_count": 9,
   "id": "aea811b6",
   "metadata": {},
   "outputs": [],
   "source": [
    "def max_args(*args):\n",
    "    maximum = args[0]\n",
    "    i = 1\n",
    "    while(i < len(args)):\n",
    "        if maximum < args[i]:\n",
    "            maximum = args[i]\n",
    "        i+=1\n",
    "        \n",
    "    return maximum"
   ]
  },
  {
   "cell_type": "code",
   "execution_count": 10,
   "id": "229c0c1e",
   "metadata": {},
   "outputs": [
    {
     "name": "stdout",
     "output_type": "stream",
     "text": [
      "The highest number in the argument list is  56\n"
     ]
    }
   ],
   "source": [
    "maximum = max_args(9,3,12,56)\n",
    "\n",
    "print(\"The highest number in the argument list is \", maximum)"
   ]
  },
  {
   "cell_type": "markdown",
   "id": "ffd5ca14",
   "metadata": {},
   "source": [
    "##### 4) Create a Python function that accepts a variable number of arguments using **kwargs and returns a dictionary containing the arguments and their corresponding values.\n",
    "\n"
   ]
  },
  {
   "cell_type": "code",
   "execution_count": 12,
   "id": "f81685e5",
   "metadata": {},
   "outputs": [],
   "source": [
    "def dictionary(**kargs):\n",
    "    return kargs"
   ]
  },
  {
   "cell_type": "code",
   "execution_count": 16,
   "id": "1aed124f",
   "metadata": {},
   "outputs": [
    {
     "name": "stdout",
     "output_type": "stream",
     "text": [
      "{'key1': 'value1', 'key2': 'value2', 'key3': 'value3'}\n",
      "<class 'dict'>\n"
     ]
    }
   ],
   "source": [
    "dict1 = dictionary(key1='value1', key2='value2', key3='value3')\n",
    "\n",
    "print(dict1)\n",
    "print(type(dict1))\n"
   ]
  },
  {
   "cell_type": "markdown",
   "id": "c67400dd",
   "metadata": {},
   "source": [
    "##### 5) Write a Python function that takes in a variable number of dictionaries using **kwargs and returns a merged dictionary.\n",
    "\n"
   ]
  },
  {
   "cell_type": "code",
   "execution_count": 36,
   "id": "6f925d61",
   "metadata": {},
   "outputs": [],
   "source": [
    "def merge_dict(**kwargs):\n",
    "    temp = {}\n",
    "    for dictionary in kwargs.values():\n",
    "       temp.update(dictionary) \n",
    "    return temp"
   ]
  },
  {
   "cell_type": "code",
   "execution_count": 37,
   "id": "f45614b8",
   "metadata": {},
   "outputs": [
    {
     "name": "stdout",
     "output_type": "stream",
     "text": [
      "Merged dictionary is  {'k1': 'v1', 'k2': 'v2', 'k3': 'v3', 'k4': 'v4', 'k5': 'v5'}\n"
     ]
    }
   ],
   "source": [
    "dict1 = {'k1':'v1', 'k2' : 'v2','k3':'v3'}\n",
    "dict2 = {'k4':'v4','k5':'v5'}\n",
    "\n",
    "dict3 = merge_dict(dict1=dict1, dict2=dict2)\n",
    "\n",
    "print(\"Merged dictionary is \", dict3)"
   ]
  },
  {
   "cell_type": "markdown",
   "id": "3113fc55",
   "metadata": {},
   "source": [
    "##### 6) Create a Python function that accepts a variable number of arguments using *args and **kwargs, and prints out the values of both types of arguments.\n",
    "\n"
   ]
  },
  {
   "cell_type": "code",
   "execution_count": 49,
   "id": "207eb45c",
   "metadata": {},
   "outputs": [],
   "source": [
    "def print_arguments(*args, **kwargs):\n",
    "    print('Positional arguments passed are: ')\n",
    "    for num in args:\n",
    "        print(num)\n",
    "        \n",
    "    print('Keyword arguments passed are: ')    \n",
    "    for key,value in kwargs.items():\n",
    "        print(f'{key}: {value}')"
   ]
  },
  {
   "cell_type": "code",
   "execution_count": 50,
   "id": "77e187e3",
   "metadata": {},
   "outputs": [
    {
     "name": "stdout",
     "output_type": "stream",
     "text": [
      "Positional arguments passed are: \n",
      "1\n",
      "Keyword arguments passed are: \n",
      "k1: v1\n",
      "k2: v2\n"
     ]
    }
   ],
   "source": [
    "print_arguments(1, k1 ='v1', k2='v2')"
   ]
  },
  {
   "cell_type": "markdown",
   "id": "eadfc437",
   "metadata": {},
   "source": [
    "##### 7) Write a Python function that accepts a variable number of arguments using *args and **kwargs, and returns the total sum of all the arguments.\n",
    "\n"
   ]
  },
  {
   "cell_type": "code",
   "execution_count": 52,
   "id": "3eac860d",
   "metadata": {},
   "outputs": [],
   "source": [
    "def sum_of_args_kwargs(*args, **kwargs):\n",
    "    sum = 0\n",
    "    for num in args:\n",
    "        sum +=num\n",
    "        \n",
    "    for num in kwargs.values():\n",
    "        sum +=num\n",
    "        \n",
    "    return sum"
   ]
  },
  {
   "cell_type": "code",
   "execution_count": 54,
   "id": "7f5b3810",
   "metadata": {},
   "outputs": [
    {
     "name": "stdout",
     "output_type": "stream",
     "text": [
      "The total sum of all the arguments is 414\n"
     ]
    }
   ],
   "source": [
    "total = sum_of_args_kwargs(1,6,7, k1 =100, k2=300)\n",
    "print(\"The total sum of all the arguments is\", total)"
   ]
  },
  {
   "cell_type": "markdown",
   "id": "ec793d2b",
   "metadata": {},
   "source": [
    "###### 8) Create a Python function that accepts a variable number of arguments using *args and **kwargs, and checks if a given value is present in the arguments.\n",
    "\n"
   ]
  },
  {
   "cell_type": "code",
   "execution_count": 64,
   "id": "e25161b7",
   "metadata": {},
   "outputs": [],
   "source": [
    "def find(*args,number):\n",
    "    for num in args:\n",
    "        if num == number:\n",
    "            print(\"Given value is present in the arguments.\")\n",
    "            return \n",
    "        else:\n",
    "            print(\"Given value is not present in the arguments\")\n",
    "            return \n",
    "            "
   ]
  },
  {
   "cell_type": "code",
   "execution_count": 66,
   "id": "f609a4ba",
   "metadata": {},
   "outputs": [
    {
     "name": "stdout",
     "output_type": "stream",
     "text": [
      "Given value is not present in the arguments\n"
     ]
    }
   ],
   "source": [
    "find(5,7,3,7,32,9,0, number = 6)"
   ]
  },
  {
   "cell_type": "markdown",
   "id": "9690fe51",
   "metadata": {},
   "source": [
    "###### 9) Write a Python function that takes in a list and an optional parameter using *args and **kwargs, and returns a new list with the optional parameter added to each element of the input list.\n",
    "\n"
   ]
  },
  {
   "cell_type": "code",
   "execution_count": 67,
   "id": "4292d035",
   "metadata": {},
   "outputs": [],
   "source": [
    "def update_list(list1, *args):\n",
    "    for num in args:\n",
    "        list1.append(num)\n",
    "    return list1"
   ]
  },
  {
   "cell_type": "code",
   "execution_count": 69,
   "id": "5a3def18",
   "metadata": {},
   "outputs": [
    {
     "name": "stdout",
     "output_type": "stream",
     "text": [
      "Updated list is [8, 9, 5, 7, 6, 9]\n"
     ]
    }
   ],
   "source": [
    "list1 = [8,9,5,7]\n",
    "\n",
    "result = update_list(list1, 6,9)\n",
    "print(\"Updated list is\", result)"
   ]
  },
  {
   "cell_type": "markdown",
   "id": "ad2d3360",
   "metadata": {},
   "source": [
    "###### 10) Create a Python function that accepts a variable number of arguments using *args and **kwargs, and returns the type of each argument passed in."
   ]
  },
  {
   "cell_type": "code",
   "execution_count": 73,
   "id": "ebbd1ebc",
   "metadata": {},
   "outputs": [],
   "source": [
    "def type_of_arguments(*args, **kwargs):\n",
    "    for num in args:\n",
    "        print(f'Type of {num} is {type(num)}')\n",
    "        \n",
    "    for num in kwargs.values():\n",
    "        print(f'Type of {num} is {type(num)}')"
   ]
  },
  {
   "cell_type": "code",
   "execution_count": 74,
   "id": "d00aa861",
   "metadata": {},
   "outputs": [
    {
     "name": "stdout",
     "output_type": "stream",
     "text": [
      "Type of 5 is <class 'int'>\n",
      "Type of 7.2 is <class 'float'>\n",
      "Type of 8.455667 is <class 'float'>\n",
      "Type of 9 is <class 'int'>\n",
      "Type of v1 is <class 'str'>\n",
      "Type of 345 is <class 'int'>\n"
     ]
    }
   ],
   "source": [
    "type_of_arguments(5,7.2,8.455667,9,k1='v1',k2=345)"
   ]
  }
 ],
 "metadata": {
  "kernelspec": {
   "display_name": "Python 3 (ipykernel)",
   "language": "python",
   "name": "python3"
  },
  "language_info": {
   "codemirror_mode": {
    "name": "ipython",
    "version": 3
   },
   "file_extension": ".py",
   "mimetype": "text/x-python",
   "name": "python",
   "nbconvert_exporter": "python",
   "pygments_lexer": "ipython3",
   "version": "3.10.9"
  }
 },
 "nbformat": 4,
 "nbformat_minor": 5
}
