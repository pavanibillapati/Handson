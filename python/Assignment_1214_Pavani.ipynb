{
 "cells": [
  {
   "cell_type": "markdown",
   "id": "ac3f3ee2",
   "metadata": {},
   "source": [
    "1) Write a program that prompts the user to input a series of numbers and uses a continue statement to skip over any negative numbers, then prints the sum of the remaining positive numbers."
   ]
  },
  {
   "cell_type": "code",
   "execution_count": 1,
   "id": "7f89c310",
   "metadata": {},
   "outputs": [
    {
     "name": "stdout",
     "output_type": "stream",
     "text": [
      "Enter the number of integers u want to enter:5\n",
      "enter number: -7\n",
      "enter number: 6\n",
      "enter number: 5\n",
      "enter number: 0\n",
      "enter number: -3\n",
      "The sum of the positive numbers entered is  11\n"
     ]
    }
   ],
   "source": [
    "n = int(input(\"Enter the number of integers u want to enter:\"))\n",
    "\n",
    "input_list = []\n",
    "\n",
    "for i in range(0,n):\n",
    "    input_list.append(int(input(\"enter number: \")))\n",
    "\n",
    "sum = 0\n",
    "for num in input_list:\n",
    "    if(num < 0):\n",
    "        continue\n",
    "    else:\n",
    "        sum = sum + num\n",
    "        \n",
    "print(\"The sum of the positive numbers entered is \",sum)"
   ]
  },
  {
   "cell_type": "markdown",
   "id": "be93be8a",
   "metadata": {},
   "source": [
    "2) Create a program that generates a list of 10 random integers between 1 and 100, then uses a break statement to exit the loop as soon as it encounters a number divisible by both 3 and 5.\n",
    "\n"
   ]
  },
  {
   "cell_type": "code",
   "execution_count": 9,
   "id": "01bc0a07",
   "metadata": {},
   "outputs": [
    {
     "name": "stdout",
     "output_type": "stream",
     "text": [
      "The input list is [67 11 26 90 91 63 89 97 67  9]\n",
      "Numbers before encountering any number that is divisible by both 3 & 5 are \n",
      "67\n",
      "11\n",
      "26\n"
     ]
    }
   ],
   "source": [
    "import numpy as np\n",
    "input_list = np.random.randint(1,100,10)\n",
    "\n",
    "print(\"The input list is\",input_list)\n",
    "\n",
    "print(\"Numbers before encountering any number that is divisible by both 3 & 5 are \")\n",
    "for num in input_list:\n",
    "    if num % 3 == 0 and num % 5 == 0:\n",
    "        break\n",
    "    else:\n",
    "        print(num)\n",
    "        continue"
   ]
  },
  {
   "cell_type": "markdown",
   "id": "11936364",
   "metadata": {},
   "source": [
    "3) Develop a program that reads in a string of characters from the user and uses a continue statement to skip over any vowels, then prints out the modified string without vowels.\n",
    "\n"
   ]
  },
  {
   "cell_type": "code",
   "execution_count": 23,
   "id": "db47c1d0",
   "metadata": {},
   "outputs": [
    {
     "name": "stdout",
     "output_type": "stream",
     "text": [
      "Enter a string:pavani\n",
      "The input string is  pavani\n",
      "Modified string is  pvn\n"
     ]
    }
   ],
   "source": [
    "s = input(\"Enter a string:\")\n",
    "\n",
    "print(\"The input string is \", s)\n",
    "\n",
    "output_list = ''\n",
    "\n",
    "for char in s:\n",
    "    if char in ['A','E','I','O','U','a','e','i','o','u']:\n",
    "        continue\n",
    "    else:\n",
    "        output_list += char\n",
    "        \n",
    "print(\"Modified string is \",output_list)"
   ]
  },
  {
   "cell_type": "markdown",
   "id": "d90c28ea",
   "metadata": {},
   "source": [
    "4) Build a program that simulates a simple game in which the user must guess a secret number between 1 and 10. Use a break statement to end the game as soon as the user guesses correctly.\n",
    "\n"
   ]
  },
  {
   "cell_type": "code",
   "execution_count": 25,
   "id": "6317f579",
   "metadata": {},
   "outputs": [
    {
     "name": "stdout",
     "output_type": "stream",
     "text": [
      "enter ur guess:3\n",
      "enter ur guess:4\n",
      "enter ur guess:5\n",
      "enter ur guess:6\n",
      "Your guess is correct...!!!!\n"
     ]
    }
   ],
   "source": [
    "while 1:\n",
    "    num = np.random.randint(1,10,1)\n",
    "    guessed_num = int(input(\"enter ur guess:\"))\n",
    "    if num == guessed_num:\n",
    "        break\n",
    "        \n",
    "print(\"Your guess is correct...!!!!\")\n",
    "    "
   ]
  },
  {
   "cell_type": "markdown",
   "id": "f2c9c0b9",
   "metadata": {},
   "source": [
    "5) Write a program that prompts the user to enter a password and uses a continue statement to loop back to the password prompt if the password is incorrect, with a maximum of 3 attempts. If the password is correct, the program should print a success message and exit the loop."
   ]
  },
  {
   "cell_type": "code",
   "execution_count": 29,
   "id": "e871a364",
   "metadata": {},
   "outputs": [
    {
     "name": "stdout",
     "output_type": "stream",
     "text": [
      "Enter password:hgfctgyehjk\n",
      "Enter password:bvcdfghj\n",
      "Enter password:drtyuio\n"
     ]
    }
   ],
   "source": [
    "password = 'Password@123'\n",
    "i = 1\n",
    "\n",
    "while i<=3:\n",
    "    user_input = input('Enter password:')\n",
    "    if password == user_input:\n",
    "        print(\"Success\")\n",
    "        break\n",
    "    i += 1\n",
    "\n"
   ]
  },
  {
   "cell_type": "code",
   "execution_count": null,
   "id": "de04f442",
   "metadata": {},
   "outputs": [],
   "source": []
  }
 ],
 "metadata": {
  "kernelspec": {
   "display_name": "Python 3 (ipykernel)",
   "language": "python",
   "name": "python3"
  },
  "language_info": {
   "codemirror_mode": {
    "name": "ipython",
    "version": 3
   },
   "file_extension": ".py",
   "mimetype": "text/x-python",
   "name": "python",
   "nbconvert_exporter": "python",
   "pygments_lexer": "ipython3",
   "version": "3.10.9"
  }
 },
 "nbformat": 4,
 "nbformat_minor": 5
}
