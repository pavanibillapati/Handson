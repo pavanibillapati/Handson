{
 "cells": [
  {
   "cell_type": "code",
   "execution_count": 6,
   "id": "19148970",
   "metadata": {},
   "outputs": [
    {
     "name": "stdout",
     "output_type": "stream",
     "text": [
      "Create user name:Pavani\n",
      "Create password:pavani@123\n",
      "{'Pavani': 'pavani@123'}\n",
      "please enter your user name:fhfjgkl\n",
      "Enter passwordhfhgjk\n",
      "Incorrect username, you are left with 4 attempts\n",
      "please enter your user name:Pavani\n",
      "Enter passwordhfgjk\n",
      "Incorrect password, you are left with 3 attempts\n",
      "please enter your user name:Pavani\n",
      "Enter passwordpavani@123\n",
      "Login successful\n"
     ]
    }
   ],
   "source": [
    "user_name = input(\"Create user name:\")\n",
    "password = input(\"Create password:\")\n",
    "\n",
    "d = {user_name:password}\n",
    "\n",
    "print(d)\n",
    "\n",
    "for i in range(0,5):\n",
    "    un = input('please enter your user name:')\n",
    "    pd = input(\"Enter password\")\n",
    "    \n",
    "    if(un in d.keys()):\n",
    "        if(pd == d[un]):\n",
    "            print(\"Login successful\")\n",
    "            break\n",
    "        else:\n",
    "            print(f'Incorrect password, you are left with {5 - (i+1)} attempts')\n",
    "            continue\n",
    "    else:\n",
    "        print(f'Incorrect username, you are left with {5 - (i+1)} attempts')"
   ]
  },
  {
   "cell_type": "code",
   "execution_count": 22,
   "id": "19311bcc",
   "metadata": {},
   "outputs": [
    {
     "name": "stdout",
     "output_type": "stream",
     "text": [
      "Updated string is H#ll$\n"
     ]
    }
   ],
   "source": [
    "str1 = \"Hello\"\n",
    "\n",
    "vowel_to_spch_dict = {'a': '@', 'e': '#', 'i': '!', 'o': '$', 'u': '*'}\n",
    "\n",
    "for vowel,replacement_char in vowel_to_spch_dict.items():\n",
    "        str1 = str1.replace(vowel,replacement_char)\n",
    "\n",
    "print(\"Updated string is\",str1)"
   ]
  },
  {
   "cell_type": "code",
   "execution_count": 21,
   "id": "34694e83",
   "metadata": {},
   "outputs": [
    {
     "name": "stdout",
     "output_type": "stream",
     "text": [
      "h#ll$\n"
     ]
    }
   ],
   "source": [
    "def replace_vowels(input_str, replacement_dict):\n",
    "    for vowel, replacement_char in replacement_dict.items():\n",
    "        input_str = input_str.replace(vowel, replacement_char)\n",
    "\n",
    "    return input_str\n",
    "\n",
    "input_string = \"hello\"\n",
    "replacement_dict = {'a': '@', 'e': '#', 'i': '!', 'o': '$', 'u': '*'}\n",
    "\n",
    "result = replace_vowels(input_string, replacement_dict)\n",
    "print(result)"
   ]
  },
  {
   "cell_type": "code",
   "execution_count": 13,
   "id": "44c9baad",
   "metadata": {},
   "outputs": [
    {
     "data": {
      "text/plain": [
       "'H@llo'"
      ]
     },
     "execution_count": 13,
     "metadata": {},
     "output_type": "execute_result"
    }
   ],
   "source": [
    "str1 = \"Hello\"\n",
    "\n",
    "str1.replace('e','@')"
   ]
  },
  {
   "cell_type": "code",
   "execution_count": null,
   "id": "746d2564",
   "metadata": {},
   "outputs": [],
   "source": []
  }
 ],
 "metadata": {
  "kernelspec": {
   "display_name": "Python 3 (ipykernel)",
   "language": "python",
   "name": "python3"
  },
  "language_info": {
   "codemirror_mode": {
    "name": "ipython",
    "version": 3
   },
   "file_extension": ".py",
   "mimetype": "text/x-python",
   "name": "python",
   "nbconvert_exporter": "python",
   "pygments_lexer": "ipython3",
   "version": "3.10.9"
  }
 },
 "nbformat": 4,
 "nbformat_minor": 5
}
