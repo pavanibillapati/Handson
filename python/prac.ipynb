{
 "cells": [
  {
   "cell_type": "code",
   "execution_count": 1,
   "id": "4f02399d",
   "metadata": {},
   "outputs": [],
   "source": [
    "a = 10"
   ]
  },
  {
   "cell_type": "code",
   "execution_count": 2,
   "id": "000993ec",
   "metadata": {},
   "outputs": [
    {
     "name": "stdout",
     "output_type": "stream",
     "text": [
      "a is  10\n"
     ]
    }
   ],
   "source": [
    "print(\"a is \", a)"
   ]
  },
  {
   "cell_type": "code",
   "execution_count": 3,
   "id": "cf642e23",
   "metadata": {},
   "outputs": [
    {
     "name": "stdout",
     "output_type": "stream",
     "text": [
      "a is 10\n"
     ]
    }
   ],
   "source": [
    "print(f'a is {a}')"
   ]
  },
  {
   "cell_type": "code",
   "execution_count": 7,
   "id": "585368f0",
   "metadata": {},
   "outputs": [
    {
     "name": "stdout",
     "output_type": "stream",
     "text": [
      "a is 10\n"
     ]
    }
   ],
   "source": [
    "txt = 'a is {}'\n",
    "x = 10\n",
    "print(txt.format(x))"
   ]
  },
  {
   "cell_type": "code",
   "execution_count": 8,
   "id": "f71c0a74",
   "metadata": {},
   "outputs": [
    {
     "name": "stdout",
     "output_type": "stream",
     "text": [
      "a is 5 and b is 9\n"
     ]
    }
   ],
   "source": [
    "txt = 'a is {} and b is {}'\n",
    "x = 5\n",
    "y = 9\n",
    "\n",
    "print(txt.format(x,y))"
   ]
  },
  {
   "cell_type": "code",
   "execution_count": 9,
   "id": "debbcf2f",
   "metadata": {},
   "outputs": [
    {
     "name": "stdout",
     "output_type": "stream",
     "text": [
      "a is 9 and b is 5\n"
     ]
    }
   ],
   "source": [
    "txt = 'a is {1} and b is {0}'\n",
    "x = 5\n",
    "y = 9\n",
    "\n",
    "print(txt.format(x,y))"
   ]
  },
  {
   "cell_type": "markdown",
   "id": "07c939f9",
   "metadata": {},
   "source": [
    "l = () - tuple\n",
    "[] - list\n",
    "{} - set\n",
    "{k:v} - dict"
   ]
  },
  {
   "cell_type": "code",
   "execution_count": 11,
   "id": "1bbd7703",
   "metadata": {},
   "outputs": [
    {
     "name": "stdout",
     "output_type": "stream",
     "text": [
      "<class 'int'>\n"
     ]
    }
   ],
   "source": [
    "print(type(y))"
   ]
  },
  {
   "cell_type": "code",
   "execution_count": 12,
   "id": "7f8af304",
   "metadata": {},
   "outputs": [],
   "source": [
    "x = 0.7"
   ]
  },
  {
   "cell_type": "code",
   "execution_count": 13,
   "id": "05d0f304",
   "metadata": {},
   "outputs": [
    {
     "name": "stdout",
     "output_type": "stream",
     "text": [
      "<class 'float'>\n"
     ]
    }
   ],
   "source": [
    "print(type(x))"
   ]
  },
  {
   "cell_type": "code",
   "execution_count": 14,
   "id": "4c2a19ad",
   "metadata": {},
   "outputs": [],
   "source": [
    "l = [1,2]"
   ]
  },
  {
   "cell_type": "code",
   "execution_count": 15,
   "id": "775b406f",
   "metadata": {},
   "outputs": [
    {
     "name": "stdout",
     "output_type": "stream",
     "text": [
      "<class 'list'>\n"
     ]
    }
   ],
   "source": [
    "print(type(l))"
   ]
  },
  {
   "cell_type": "code",
   "execution_count": 16,
   "id": "9bf662e2",
   "metadata": {},
   "outputs": [],
   "source": [
    "l = [2]"
   ]
  },
  {
   "cell_type": "code",
   "execution_count": 17,
   "id": "b2712d7b",
   "metadata": {},
   "outputs": [
    {
     "data": {
      "text/plain": [
       "list"
      ]
     },
     "execution_count": 17,
     "metadata": {},
     "output_type": "execute_result"
    }
   ],
   "source": [
    "type(l)"
   ]
  },
  {
   "cell_type": "code",
   "execution_count": 20,
   "id": "c6c531bf",
   "metadata": {},
   "outputs": [],
   "source": [
    "l = (2,)"
   ]
  },
  {
   "cell_type": "code",
   "execution_count": 21,
   "id": "9e788db1",
   "metadata": {},
   "outputs": [
    {
     "data": {
      "text/plain": [
       "tuple"
      ]
     },
     "execution_count": 21,
     "metadata": {},
     "output_type": "execute_result"
    }
   ],
   "source": [
    "type(l)"
   ]
  },
  {
   "cell_type": "code",
   "execution_count": 23,
   "id": "eb6a660d",
   "metadata": {},
   "outputs": [
    {
     "name": "stdout",
     "output_type": "stream",
     "text": [
      "my first name is pidikiti & last name is pidikiti\n"
     ]
    }
   ],
   "source": [
    "txt = 'my first name is {1} & last name is {1}'\n",
    "f = 'trilok'\n",
    "l ='pidikiti'\n",
    "\n",
    "print(txt.format(f,l))"
   ]
  },
  {
   "cell_type": "code",
   "execution_count": 25,
   "id": "4b53dcee",
   "metadata": {},
   "outputs": [],
   "source": [
    "#list\n",
    "\n",
    "l =  [2,3,4] #mutable"
   ]
  },
  {
   "cell_type": "code",
   "execution_count": 26,
   "id": "be70c2b9",
   "metadata": {},
   "outputs": [],
   "source": [
    "#change \n",
    "\n",
    "l[1] = 9"
   ]
  },
  {
   "cell_type": "code",
   "execution_count": 27,
   "id": "3f1f1ed8",
   "metadata": {},
   "outputs": [],
   "source": [
    "l[0] = 'str'"
   ]
  },
  {
   "cell_type": "code",
   "execution_count": 28,
   "id": "fdf0e4e4",
   "metadata": {},
   "outputs": [
    {
     "data": {
      "text/plain": [
       "['str', 9, 4]"
      ]
     },
     "execution_count": 28,
     "metadata": {},
     "output_type": "execute_result"
    }
   ],
   "source": [
    "l"
   ]
  },
  {
   "cell_type": "code",
   "execution_count": 31,
   "id": "fc90d7cc",
   "metadata": {},
   "outputs": [],
   "source": [
    "l[2] = [4,5]"
   ]
  },
  {
   "cell_type": "code",
   "execution_count": 32,
   "id": "a9dccd7a",
   "metadata": {},
   "outputs": [
    {
     "data": {
      "text/plain": [
       "['str', 9, [4, 5]]"
      ]
     },
     "execution_count": 32,
     "metadata": {},
     "output_type": "execute_result"
    }
   ],
   "source": [
    "l"
   ]
  },
  {
   "cell_type": "code",
   "execution_count": 35,
   "id": "d55a6e96",
   "metadata": {},
   "outputs": [],
   "source": [
    "l[0:1] = [67]"
   ]
  },
  {
   "cell_type": "code",
   "execution_count": 36,
   "id": "9eb5f8b1",
   "metadata": {},
   "outputs": [
    {
     "data": {
      "text/plain": [
       "[67, 9, [4, 5]]"
      ]
     },
     "execution_count": 36,
     "metadata": {},
     "output_type": "execute_result"
    }
   ],
   "source": [
    "l"
   ]
  },
  {
   "cell_type": "code",
   "execution_count": 38,
   "id": "16727511",
   "metadata": {},
   "outputs": [],
   "source": [
    "l[0:3] = (1,)"
   ]
  },
  {
   "cell_type": "code",
   "execution_count": 39,
   "id": "1e32b815",
   "metadata": {},
   "outputs": [
    {
     "data": {
      "text/plain": [
       "[1]"
      ]
     },
     "execution_count": 39,
     "metadata": {},
     "output_type": "execute_result"
    }
   ],
   "source": [
    "l"
   ]
  },
  {
   "cell_type": "code",
   "execution_count": 53,
   "id": "7fd85d9c",
   "metadata": {},
   "outputs": [],
   "source": [
    "l[0:3] = (1,'s',{2,1},{'k':'v'})"
   ]
  },
  {
   "cell_type": "code",
   "execution_count": 54,
   "id": "54bb6987",
   "metadata": {},
   "outputs": [
    {
     "data": {
      "text/plain": [
       "[1, 's', {1, 2}, {'k': 'v'}, {1, 2}, {'k': 'v'}, 't', 't', 't', 't', 't']"
      ]
     },
     "execution_count": 54,
     "metadata": {},
     "output_type": "execute_result"
    }
   ],
   "source": [
    "l"
   ]
  },
  {
   "cell_type": "code",
   "execution_count": 55,
   "id": "2ea172a1",
   "metadata": {},
   "outputs": [
    {
     "data": {
      "text/plain": [
       "[1, 's', 't', {1, 2}, {'k': 'v'}, {1, 2}, {'k': 'v'}, 't', 't', 't', 't', 't']"
      ]
     },
     "execution_count": 55,
     "metadata": {},
     "output_type": "execute_result"
    }
   ],
   "source": [
    "#list - 3 methods\n",
    "\n",
    "l.insert(2,'t')\n",
    "l"
   ]
  },
  {
   "cell_type": "code",
   "execution_count": 56,
   "id": "68d7a60b",
   "metadata": {},
   "outputs": [],
   "source": [
    "l = [1,'s',{2,1},{'k':'v'}]"
   ]
  },
  {
   "cell_type": "code",
   "execution_count": 57,
   "id": "6a17875b",
   "metadata": {},
   "outputs": [
    {
     "data": {
      "text/plain": [
       "[1, 's', {1, 2}, {'k': 'v'}]"
      ]
     },
     "execution_count": 57,
     "metadata": {},
     "output_type": "execute_result"
    }
   ],
   "source": [
    "l"
   ]
  },
  {
   "cell_type": "code",
   "execution_count": 58,
   "id": "dcab064c",
   "metadata": {},
   "outputs": [],
   "source": [
    "l.insert(0,4)"
   ]
  },
  {
   "cell_type": "code",
   "execution_count": 60,
   "id": "22d91eaa",
   "metadata": {},
   "outputs": [
    {
     "data": {
      "text/plain": [
       "[4, 1, 's', {1, 2}, {'k': 'v'}]"
      ]
     },
     "execution_count": 60,
     "metadata": {},
     "output_type": "execute_result"
    }
   ],
   "source": [
    "l"
   ]
  },
  {
   "cell_type": "code",
   "execution_count": 63,
   "id": "3a9284dd",
   "metadata": {},
   "outputs": [
    {
     "data": {
      "text/plain": [
       "[4, 1, 's', {1, 2}, {'k': 'v'}, 1, 1, 1]"
      ]
     },
     "execution_count": 63,
     "metadata": {},
     "output_type": "execute_result"
    }
   ],
   "source": [
    "l.insert(5,1)\n",
    "l"
   ]
  },
  {
   "cell_type": "code",
   "execution_count": 65,
   "id": "f9c44712",
   "metadata": {},
   "outputs": [
    {
     "data": {
      "text/plain": [
       "[4, 1, 's', {1, 2}, {'k': 'v'}, 1, 1, 1, 5, 5]"
      ]
     },
     "execution_count": 65,
     "metadata": {},
     "output_type": "execute_result"
    }
   ],
   "source": [
    "l.append(5)\n",
    "l"
   ]
  },
  {
   "cell_type": "code",
   "execution_count": 66,
   "id": "2ddae407",
   "metadata": {},
   "outputs": [],
   "source": [
    "t = (9,0,1)"
   ]
  },
  {
   "cell_type": "code",
   "execution_count": 67,
   "id": "53594604",
   "metadata": {},
   "outputs": [],
   "source": [
    "l.extend(t)"
   ]
  },
  {
   "cell_type": "code",
   "execution_count": 68,
   "id": "decc9173",
   "metadata": {},
   "outputs": [
    {
     "data": {
      "text/plain": [
       "[4, 1, 's', {1, 2}, {'k': 'v'}, 1, 1, 1, 5, 5, 9, 0, 1]"
      ]
     },
     "execution_count": 68,
     "metadata": {},
     "output_type": "execute_result"
    }
   ],
   "source": [
    "l"
   ]
  },
  {
   "cell_type": "code",
   "execution_count": 69,
   "id": "3e88de75",
   "metadata": {},
   "outputs": [],
   "source": [
    "d = {1:'e',2:'6'}"
   ]
  },
  {
   "cell_type": "code",
   "execution_count": 70,
   "id": "a3af04b7",
   "metadata": {},
   "outputs": [],
   "source": [
    "l.extend(d)"
   ]
  },
  {
   "cell_type": "code",
   "execution_count": 71,
   "id": "f5ad1918",
   "metadata": {},
   "outputs": [
    {
     "data": {
      "text/plain": [
       "[4, 1, 's', {1, 2}, {'k': 'v'}, 1, 1, 1, 5, 5, 9, 0, 1, 1, 2]"
      ]
     },
     "execution_count": 71,
     "metadata": {},
     "output_type": "execute_result"
    }
   ],
   "source": [
    "l"
   ]
  },
  {
   "cell_type": "code",
   "execution_count": 72,
   "id": "97998db9",
   "metadata": {},
   "outputs": [
    {
     "data": {
      "text/plain": [
       "[4, 1, 's', {'k': 'v'}, 1, 1, 1, 5, 5, 9, 0, 1, 1, 2]"
      ]
     },
     "execution_count": 72,
     "metadata": {},
     "output_type": "execute_result"
    }
   ],
   "source": [
    "#remove\n",
    "l.pop(3)\n",
    "l"
   ]
  },
  {
   "cell_type": "code",
   "execution_count": 73,
   "id": "4892bdc8",
   "metadata": {},
   "outputs": [
    {
     "data": {
      "text/plain": [
       "2"
      ]
     },
     "execution_count": 73,
     "metadata": {},
     "output_type": "execute_result"
    }
   ],
   "source": [
    "l.pop()"
   ]
  },
  {
   "cell_type": "code",
   "execution_count": 74,
   "id": "7737f64d",
   "metadata": {},
   "outputs": [],
   "source": [
    "l.remove(1)"
   ]
  },
  {
   "cell_type": "code",
   "execution_count": 75,
   "id": "6f162558",
   "metadata": {},
   "outputs": [
    {
     "data": {
      "text/plain": [
       "[4, 's', {'k': 'v'}, 1, 1, 1, 5, 5, 9, 0, 1, 1]"
      ]
     },
     "execution_count": 75,
     "metadata": {},
     "output_type": "execute_result"
    }
   ],
   "source": [
    "l"
   ]
  },
  {
   "cell_type": "code",
   "execution_count": 76,
   "id": "ce792453",
   "metadata": {},
   "outputs": [],
   "source": [
    "del l[6]"
   ]
  },
  {
   "cell_type": "code",
   "execution_count": 77,
   "id": "156d770d",
   "metadata": {},
   "outputs": [
    {
     "data": {
      "text/plain": [
       "[4, 's', {'k': 'v'}, 1, 1, 1, 5, 9, 0, 1, 1]"
      ]
     },
     "execution_count": 77,
     "metadata": {},
     "output_type": "execute_result"
    }
   ],
   "source": [
    "l"
   ]
  },
  {
   "cell_type": "code",
   "execution_count": 78,
   "id": "317b8a18",
   "metadata": {},
   "outputs": [],
   "source": [
    "l.clear()"
   ]
  },
  {
   "cell_type": "code",
   "execution_count": 79,
   "id": "428edd68",
   "metadata": {},
   "outputs": [
    {
     "data": {
      "text/plain": [
       "[]"
      ]
     },
     "execution_count": 79,
     "metadata": {},
     "output_type": "execute_result"
    }
   ],
   "source": [
    "l"
   ]
  },
  {
   "cell_type": "code",
   "execution_count": 80,
   "id": "be2e2152",
   "metadata": {},
   "outputs": [],
   "source": [
    "del l"
   ]
  },
  {
   "cell_type": "code",
   "execution_count": 81,
   "id": "ec97a797",
   "metadata": {},
   "outputs": [
    {
     "ename": "NameError",
     "evalue": "name 'l' is not defined",
     "output_type": "error",
     "traceback": [
      "\u001b[1;31m---------------------------------------------------------------------------\u001b[0m",
      "\u001b[1;31mNameError\u001b[0m                                 Traceback (most recent call last)",
      "Cell \u001b[1;32mIn[81], line 1\u001b[0m\n\u001b[1;32m----> 1\u001b[0m \u001b[43ml\u001b[49m\n",
      "\u001b[1;31mNameError\u001b[0m: name 'l' is not defined"
     ]
    }
   ],
   "source": [
    "l"
   ]
  },
  {
   "cell_type": "code",
   "execution_count": 82,
   "id": "2012d079",
   "metadata": {},
   "outputs": [],
   "source": [
    "l = [1,2,3]"
   ]
  },
  {
   "cell_type": "code",
   "execution_count": 86,
   "id": "3919bbaf",
   "metadata": {},
   "outputs": [
    {
     "name": "stdout",
     "output_type": "stream",
     "text": [
      "1\n"
     ]
    }
   ],
   "source": [
    "for i in range(len(l)):\n",
    "    if l[i] == 1:\n",
    "        print(l[i])"
   ]
  },
  {
   "cell_type": "code",
   "execution_count": 85,
   "id": "a6d02838",
   "metadata": {},
   "outputs": [
    {
     "name": "stdout",
     "output_type": "stream",
     "text": [
      "1\n",
      "2\n",
      "3\n"
     ]
    },
    {
     "data": {
      "text/plain": [
       "[None, None, None]"
      ]
     },
     "execution_count": 85,
     "metadata": {},
     "output_type": "execute_result"
    }
   ],
   "source": [
    "[print(num) for num in l]"
   ]
  },
  {
   "cell_type": "code",
   "execution_count": 87,
   "id": "fe65c8d5",
   "metadata": {},
   "outputs": [
    {
     "name": "stdout",
     "output_type": "stream",
     "text": [
      "1\n"
     ]
    },
    {
     "data": {
      "text/plain": [
       "[None]"
      ]
     },
     "execution_count": 87,
     "metadata": {},
     "output_type": "execute_result"
    }
   ],
   "source": [
    "[print(num) for num in l if num == 1]"
   ]
  },
  {
   "cell_type": "code",
   "execution_count": 90,
   "id": "cb0f1469",
   "metadata": {},
   "outputs": [],
   "source": [
    "l2 = [num if num > 1 else 0 for num in l]"
   ]
  },
  {
   "cell_type": "code",
   "execution_count": 91,
   "id": "e233e17f",
   "metadata": {},
   "outputs": [
    {
     "data": {
      "text/plain": [
       "[0, 2, 3]"
      ]
     },
     "execution_count": 91,
     "metadata": {},
     "output_type": "execute_result"
    }
   ],
   "source": [
    "l2"
   ]
  },
  {
   "cell_type": "code",
   "execution_count": 94,
   "id": "d94c46b0",
   "metadata": {},
   "outputs": [
    {
     "name": "stdout",
     "output_type": "stream",
     "text": [
      "1 2 3 4 5 "
     ]
    }
   ],
   "source": [
    "my_list = [1, 2, 3, 4, 5]\n",
    "\n",
    "for element in my_list:\n",
    "    print(element, end = \" \")  # Using end=\" \" to print elements on the same line with a space between them\n"
   ]
  },
  {
   "cell_type": "code",
   "execution_count": 98,
   "id": "2f84fea7",
   "metadata": {},
   "outputs": [
    {
     "data": {
      "text/plain": [
       "[3, 4, 5]"
      ]
     },
     "execution_count": 98,
     "metadata": {},
     "output_type": "execute_result"
    }
   ],
   "source": [
    "[num + 2 for num in l]"
   ]
  },
  {
   "cell_type": "code",
   "execution_count": 99,
   "id": "c74c8fab",
   "metadata": {},
   "outputs": [],
   "source": [
    "l.insert(3,-2)"
   ]
  },
  {
   "cell_type": "code",
   "execution_count": 101,
   "id": "f0d2b230",
   "metadata": {},
   "outputs": [],
   "source": [
    "l.insert(4,'Apple')"
   ]
  },
  {
   "cell_type": "code",
   "execution_count": 102,
   "id": "66c27bcd",
   "metadata": {},
   "outputs": [],
   "source": [
    "l.append('aa')"
   ]
  },
  {
   "cell_type": "code",
   "execution_count": 103,
   "id": "fdaa5df7",
   "metadata": {},
   "outputs": [
    {
     "data": {
      "text/plain": [
       "[1, 2, 3, -2, 'Apple', 'aa']"
      ]
     },
     "execution_count": 103,
     "metadata": {},
     "output_type": "execute_result"
    }
   ],
   "source": [
    "l"
   ]
  },
  {
   "cell_type": "code",
   "execution_count": 104,
   "id": "96883698",
   "metadata": {},
   "outputs": [],
   "source": [
    "l2.sort()"
   ]
  },
  {
   "cell_type": "code",
   "execution_count": 108,
   "id": "3ab7ec33",
   "metadata": {},
   "outputs": [],
   "source": [
    "l2.sort(reverse = False)"
   ]
  },
  {
   "cell_type": "code",
   "execution_count": 109,
   "id": "b1a7ac11",
   "metadata": {},
   "outputs": [
    {
     "data": {
      "text/plain": [
       "[0, 2, 3]"
      ]
     },
     "execution_count": 109,
     "metadata": {},
     "output_type": "execute_result"
    }
   ],
   "source": [
    "l2"
   ]
  },
  {
   "cell_type": "code",
   "execution_count": 111,
   "id": "f979bad7",
   "metadata": {},
   "outputs": [],
   "source": [
    " l = ['chiku', 'Apple', 'Banana', 'Cherry', 'Kiwi']"
   ]
  },
  {
   "cell_type": "code",
   "execution_count": 112,
   "id": "ed552665",
   "metadata": {},
   "outputs": [],
   "source": [
    "l.sort()"
   ]
  },
  {
   "cell_type": "code",
   "execution_count": 113,
   "id": "e836d01a",
   "metadata": {},
   "outputs": [
    {
     "data": {
      "text/plain": [
       "['Apple', 'Banana', 'Cherry', 'Kiwi', 'chiku']"
      ]
     },
     "execution_count": 113,
     "metadata": {},
     "output_type": "execute_result"
    }
   ],
   "source": [
    "l"
   ]
  },
  {
   "cell_type": "code",
   "execution_count": 114,
   "id": "24372768",
   "metadata": {},
   "outputs": [],
   "source": [
    "l.sort(key = str.lower)"
   ]
  },
  {
   "cell_type": "code",
   "execution_count": 115,
   "id": "6f9e3c7e",
   "metadata": {},
   "outputs": [
    {
     "data": {
      "text/plain": [
       "['Apple', 'Banana', 'Cherry', 'chiku', 'Kiwi']"
      ]
     },
     "execution_count": 115,
     "metadata": {},
     "output_type": "execute_result"
    }
   ],
   "source": [
    "l"
   ]
  },
  {
   "cell_type": "code",
   "execution_count": 116,
   "id": "6d7bdcb0",
   "metadata": {},
   "outputs": [],
   "source": [
    "l = [1, 2, 3, -5]"
   ]
  },
  {
   "cell_type": "code",
   "execution_count": 117,
   "id": "2c7e9172",
   "metadata": {},
   "outputs": [],
   "source": [
    "l.sort()"
   ]
  },
  {
   "cell_type": "code",
   "execution_count": 118,
   "id": "0418374b",
   "metadata": {},
   "outputs": [
    {
     "data": {
      "text/plain": [
       "[-5, 1, 2, 3]"
      ]
     },
     "execution_count": 118,
     "metadata": {},
     "output_type": "execute_result"
    }
   ],
   "source": [
    "l"
   ]
  },
  {
   "cell_type": "code",
   "execution_count": 119,
   "id": "b0d6c8de",
   "metadata": {},
   "outputs": [],
   "source": [
    "def sq(x):\n",
    "    return x*x"
   ]
  },
  {
   "cell_type": "code",
   "execution_count": 120,
   "id": "12a453e5",
   "metadata": {},
   "outputs": [],
   "source": [
    "l.sort(key = sq)"
   ]
  },
  {
   "cell_type": "code",
   "execution_count": 121,
   "id": "eadd3bf1",
   "metadata": {},
   "outputs": [
    {
     "data": {
      "text/plain": [
       "[1, 2, 3, -5]"
      ]
     },
     "execution_count": 121,
     "metadata": {},
     "output_type": "execute_result"
    }
   ],
   "source": [
    "l"
   ]
  },
  {
   "cell_type": "code",
   "execution_count": 122,
   "id": "d9968782",
   "metadata": {},
   "outputs": [],
   "source": [
    "l.reverse()"
   ]
  },
  {
   "cell_type": "code",
   "execution_count": 123,
   "id": "2de7783e",
   "metadata": {},
   "outputs": [
    {
     "data": {
      "text/plain": [
       "[-5, 3, 2, 1]"
      ]
     },
     "execution_count": 123,
     "metadata": {},
     "output_type": "execute_result"
    }
   ],
   "source": [
    "l"
   ]
  },
  {
   "cell_type": "code",
   "execution_count": 125,
   "id": "7e6da9fa",
   "metadata": {},
   "outputs": [],
   "source": [
    "l.reverse()"
   ]
  },
  {
   "cell_type": "code",
   "execution_count": 126,
   "id": "17fe0ffa",
   "metadata": {},
   "outputs": [],
   "source": [
    "l2 = l"
   ]
  },
  {
   "cell_type": "code",
   "execution_count": 127,
   "id": "13af3c19",
   "metadata": {},
   "outputs": [
    {
     "data": {
      "text/plain": [
       "[1, 2, 3, -5]"
      ]
     },
     "execution_count": 127,
     "metadata": {},
     "output_type": "execute_result"
    }
   ],
   "source": [
    "l2"
   ]
  },
  {
   "cell_type": "code",
   "execution_count": 128,
   "id": "df8b2dc0",
   "metadata": {},
   "outputs": [],
   "source": [
    "l2[2] = 9"
   ]
  },
  {
   "cell_type": "code",
   "execution_count": 129,
   "id": "d1b8efe9",
   "metadata": {},
   "outputs": [
    {
     "data": {
      "text/plain": [
       "[1, 2, 9, -5]"
      ]
     },
     "execution_count": 129,
     "metadata": {},
     "output_type": "execute_result"
    }
   ],
   "source": [
    "l2"
   ]
  },
  {
   "cell_type": "code",
   "execution_count": 130,
   "id": "40298694",
   "metadata": {},
   "outputs": [
    {
     "data": {
      "text/plain": [
       "[1, 2, 9, -5]"
      ]
     },
     "execution_count": 130,
     "metadata": {},
     "output_type": "execute_result"
    }
   ],
   "source": [
    "l"
   ]
  },
  {
   "cell_type": "code",
   "execution_count": 131,
   "id": "fb98f966",
   "metadata": {},
   "outputs": [],
   "source": [
    "l2 = l.copy()"
   ]
  },
  {
   "cell_type": "code",
   "execution_count": 132,
   "id": "a06d545c",
   "metadata": {},
   "outputs": [],
   "source": [
    "l2[2] = 12"
   ]
  },
  {
   "cell_type": "code",
   "execution_count": 133,
   "id": "db9ecde1",
   "metadata": {},
   "outputs": [
    {
     "data": {
      "text/plain": [
       "[1, 2, 12, -5]"
      ]
     },
     "execution_count": 133,
     "metadata": {},
     "output_type": "execute_result"
    }
   ],
   "source": [
    "l2"
   ]
  },
  {
   "cell_type": "code",
   "execution_count": 134,
   "id": "a17eba3d",
   "metadata": {},
   "outputs": [
    {
     "data": {
      "text/plain": [
       "[1, 2, 9, -5]"
      ]
     },
     "execution_count": 134,
     "metadata": {},
     "output_type": "execute_result"
    }
   ],
   "source": [
    "l"
   ]
  },
  {
   "cell_type": "code",
   "execution_count": 135,
   "id": "670bde2c",
   "metadata": {},
   "outputs": [],
   "source": [
    "l3 = list(l)"
   ]
  },
  {
   "cell_type": "code",
   "execution_count": 136,
   "id": "07f08ade",
   "metadata": {},
   "outputs": [],
   "source": [
    "l3[2] = 12"
   ]
  },
  {
   "cell_type": "code",
   "execution_count": 137,
   "id": "8ea4b47b",
   "metadata": {},
   "outputs": [
    {
     "data": {
      "text/plain": [
       "[1, 2, 12, -5]"
      ]
     },
     "execution_count": 137,
     "metadata": {},
     "output_type": "execute_result"
    }
   ],
   "source": [
    "l3"
   ]
  },
  {
   "cell_type": "code",
   "execution_count": 138,
   "id": "b4252eb5",
   "metadata": {},
   "outputs": [
    {
     "data": {
      "text/plain": [
       "[1, 2, 9, -5]"
      ]
     },
     "execution_count": 138,
     "metadata": {},
     "output_type": "execute_result"
    }
   ],
   "source": [
    "l"
   ]
  },
  {
   "cell_type": "code",
   "execution_count": 1,
   "id": "fbfeac38",
   "metadata": {},
   "outputs": [],
   "source": [
    "t = (6,7,2)"
   ]
  },
  {
   "cell_type": "code",
   "execution_count": 2,
   "id": "e67c18f3",
   "metadata": {},
   "outputs": [
    {
     "data": {
      "text/plain": [
       "(6, 7, 2)"
      ]
     },
     "execution_count": 2,
     "metadata": {},
     "output_type": "execute_result"
    }
   ],
   "source": [
    "t"
   ]
  },
  {
   "cell_type": "code",
   "execution_count": 3,
   "id": "c2af356f",
   "metadata": {},
   "outputs": [],
   "source": [
    "t1 = (0,)"
   ]
  },
  {
   "cell_type": "code",
   "execution_count": 4,
   "id": "d2390ff7",
   "metadata": {},
   "outputs": [],
   "source": [
    "t +=t1"
   ]
  },
  {
   "cell_type": "code",
   "execution_count": 5,
   "id": "61f308ab",
   "metadata": {},
   "outputs": [
    {
     "data": {
      "text/plain": [
       "(6, 7, 2, 0)"
      ]
     },
     "execution_count": 5,
     "metadata": {},
     "output_type": "execute_result"
    }
   ],
   "source": [
    "t"
   ]
  },
  {
   "cell_type": "code",
   "execution_count": 6,
   "id": "64532acc",
   "metadata": {},
   "outputs": [],
   "source": [
    "s = set(t)"
   ]
  },
  {
   "cell_type": "code",
   "execution_count": 7,
   "id": "560422cd",
   "metadata": {},
   "outputs": [
    {
     "data": {
      "text/plain": [
       "{0, 2, 6, 7}"
      ]
     },
     "execution_count": 7,
     "metadata": {},
     "output_type": "execute_result"
    }
   ],
   "source": [
    "s"
   ]
  },
  {
   "cell_type": "code",
   "execution_count": 8,
   "id": "172f49cf",
   "metadata": {},
   "outputs": [],
   "source": [
    "s.add(2.5)"
   ]
  },
  {
   "cell_type": "code",
   "execution_count": 9,
   "id": "18aabfa6",
   "metadata": {},
   "outputs": [
    {
     "data": {
      "text/plain": [
       "{0, 2, 2.5, 6, 7}"
      ]
     },
     "execution_count": 9,
     "metadata": {},
     "output_type": "execute_result"
    }
   ],
   "source": [
    "s"
   ]
  },
  {
   "cell_type": "code",
   "execution_count": 10,
   "id": "9891950f",
   "metadata": {},
   "outputs": [],
   "source": [
    "s1 = {'a', 12,1}"
   ]
  },
  {
   "cell_type": "code",
   "execution_count": 11,
   "id": "5893eb97",
   "metadata": {},
   "outputs": [
    {
     "data": {
      "text/plain": [
       "{1, 12, 'a'}"
      ]
     },
     "execution_count": 11,
     "metadata": {},
     "output_type": "execute_result"
    }
   ],
   "source": [
    "s1"
   ]
  },
  {
   "cell_type": "code",
   "execution_count": 12,
   "id": "c044b401",
   "metadata": {},
   "outputs": [
    {
     "ename": "TypeError",
     "evalue": "unsupported operand type(s) for +=: 'set' and 'set'",
     "output_type": "error",
     "traceback": [
      "\u001b[1;31m---------------------------------------------------------------------------\u001b[0m",
      "\u001b[1;31mTypeError\u001b[0m                                 Traceback (most recent call last)",
      "Cell \u001b[1;32mIn[12], line 1\u001b[0m\n\u001b[1;32m----> 1\u001b[0m s\u001b[38;5;241m+\u001b[39m\u001b[38;5;241m=\u001b[39ms1\n",
      "\u001b[1;31mTypeError\u001b[0m: unsupported operand type(s) for +=: 'set' and 'set'"
     ]
    }
   ],
   "source": [
    "s+=s1"
   ]
  },
  {
   "cell_type": "code",
   "execution_count": 13,
   "id": "487889e9",
   "metadata": {},
   "outputs": [
    {
     "data": {
      "text/plain": [
       "{0, 2, 2.5, 6, 7}"
      ]
     },
     "execution_count": 13,
     "metadata": {},
     "output_type": "execute_result"
    }
   ],
   "source": [
    "s"
   ]
  },
  {
   "cell_type": "code",
   "execution_count": 14,
   "id": "4c9c9e54",
   "metadata": {},
   "outputs": [],
   "source": [
    "s.add(-2)"
   ]
  },
  {
   "cell_type": "code",
   "execution_count": 15,
   "id": "5102aedc",
   "metadata": {},
   "outputs": [
    {
     "data": {
      "text/plain": [
       "{-2, 0, 2, 2.5, 6, 7}"
      ]
     },
     "execution_count": 15,
     "metadata": {},
     "output_type": "execute_result"
    }
   ],
   "source": [
    "s"
   ]
  },
  {
   "cell_type": "code",
   "execution_count": 16,
   "id": "feba032c",
   "metadata": {},
   "outputs": [],
   "source": [
    "s1 = {2,5,-2}"
   ]
  },
  {
   "cell_type": "code",
   "execution_count": 23,
   "id": "a6671d57",
   "metadata": {},
   "outputs": [],
   "source": [
    "s.update(s1)"
   ]
  },
  {
   "cell_type": "code",
   "execution_count": 20,
   "id": "f2c0e405",
   "metadata": {},
   "outputs": [
    {
     "data": {
      "text/plain": [
       "{-2, 0, 2, 2.5, 5, 6, 7}"
      ]
     },
     "execution_count": 20,
     "metadata": {},
     "output_type": "execute_result"
    }
   ],
   "source": [
    "s"
   ]
  },
  {
   "cell_type": "code",
   "execution_count": 25,
   "id": "b9c19e94",
   "metadata": {},
   "outputs": [
    {
     "data": {
      "text/plain": [
       "0"
      ]
     },
     "execution_count": 25,
     "metadata": {},
     "output_type": "execute_result"
    }
   ],
   "source": [
    "s.pop()"
   ]
  },
  {
   "cell_type": "code",
   "execution_count": 26,
   "id": "4968932b",
   "metadata": {},
   "outputs": [],
   "source": [
    "s.remove(2)"
   ]
  },
  {
   "cell_type": "code",
   "execution_count": 27,
   "id": "b29b6b51",
   "metadata": {},
   "outputs": [
    {
     "data": {
      "text/plain": [
       "{-2, 2.5, 5, 6, 7}"
      ]
     },
     "execution_count": 27,
     "metadata": {},
     "output_type": "execute_result"
    }
   ],
   "source": [
    "s"
   ]
  },
  {
   "cell_type": "code",
   "execution_count": 28,
   "id": "0157af71",
   "metadata": {},
   "outputs": [
    {
     "ename": "KeyError",
     "evalue": "2",
     "output_type": "error",
     "traceback": [
      "\u001b[1;31m---------------------------------------------------------------------------\u001b[0m",
      "\u001b[1;31mKeyError\u001b[0m                                  Traceback (most recent call last)",
      "Cell \u001b[1;32mIn[28], line 1\u001b[0m\n\u001b[1;32m----> 1\u001b[0m \u001b[43ms\u001b[49m\u001b[38;5;241;43m.\u001b[39;49m\u001b[43mremove\u001b[49m\u001b[43m(\u001b[49m\u001b[38;5;241;43m2\u001b[39;49m\u001b[43m)\u001b[49m\n",
      "\u001b[1;31mKeyError\u001b[0m: 2"
     ]
    }
   ],
   "source": [
    "s.remove(2)"
   ]
  },
  {
   "cell_type": "code",
   "execution_count": 29,
   "id": "38a29cad",
   "metadata": {},
   "outputs": [],
   "source": [
    "s.discard(2)"
   ]
  },
  {
   "cell_type": "code",
   "execution_count": 32,
   "id": "57526203",
   "metadata": {},
   "outputs": [],
   "source": [
    "s.clear()"
   ]
  },
  {
   "cell_type": "code",
   "execution_count": 33,
   "id": "3b8b9ef0",
   "metadata": {},
   "outputs": [
    {
     "data": {
      "text/plain": [
       "set()"
      ]
     },
     "execution_count": 33,
     "metadata": {},
     "output_type": "execute_result"
    }
   ],
   "source": [
    "s"
   ]
  },
  {
   "cell_type": "code",
   "execution_count": 40,
   "id": "31ebf033",
   "metadata": {},
   "outputs": [
    {
     "name": "stdout",
     "output_type": "stream",
     "text": [
      "[0, 1, 1, 2, 3, 5, 8, 13, 21]\n"
     ]
    }
   ],
   "source": [
    "f = [0,1]\n",
    "i=2\n",
    "\n",
    "for i in range(2,9):\n",
    "    f.insert(i,f[i-1] + f[i-2])\n",
    "    \n",
    "print(f)"
   ]
  },
  {
   "cell_type": "code",
   "execution_count": 43,
   "id": "14cbd153",
   "metadata": {},
   "outputs": [],
   "source": [
    "str1 = 'this is pavani'"
   ]
  },
  {
   "cell_type": "code",
   "execution_count": 54,
   "id": "9bdcbcec",
   "metadata": {},
   "outputs": [
    {
     "name": "stdout",
     "output_type": "stream",
     "text": [
      "i n a v a p   s i   s i h t\n"
     ]
    }
   ],
   "source": [
    "l = list(str1)\n",
    "\n",
    "for i in range(int(len(l)/2)):\n",
    "    l[i],l[-(i+1)] = l[-i-1],l[i]\n",
    "    \n",
    "l = ' '.join(l)\n",
    "    \n",
    "print(l)"
   ]
  },
  {
   "cell_type": "code",
   "execution_count": 60,
   "id": "d564f2e5",
   "metadata": {},
   "outputs": [
    {
     "name": "stdout",
     "output_type": "stream",
     "text": [
      "pavani is this\n"
     ]
    }
   ],
   "source": [
    "#revrese the order of words in string\n",
    "l = str1.split()\n",
    "\n",
    "for i in range(int(len(l)/2)):\n",
    "    l[i], l[-i-1]  = l[-i-1], l[i]\n",
    "    \n",
    "l = ' '.join(l)\n",
    "    \n",
    "print(l)"
   ]
  },
  {
   "cell_type": "code",
   "execution_count": 56,
   "id": "1d706fa7",
   "metadata": {},
   "outputs": [
    {
     "data": {
      "text/plain": [
       "'this is pavani'"
      ]
     },
     "execution_count": 56,
     "metadata": {},
     "output_type": "execute_result"
    }
   ],
   "source": [
    "str1"
   ]
  },
  {
   "cell_type": "code",
   "execution_count": 63,
   "id": "b4bb6625",
   "metadata": {},
   "outputs": [
    {
     "name": "stdout",
     "output_type": "stream",
     "text": [
      "['t', 'h', 'i', 's', ' ', 'i', 's', ' ', 'p', 'a', 'v', 'a', 'n', 'i']\n",
      "5\n"
     ]
    }
   ],
   "source": [
    "l = list(str1)\n",
    "count = 0\n",
    "\n",
    "for char in l:\n",
    "    if char in ['a','e','i','o','u','A','E','I','O','U']:\n",
    "        count += 1\n",
    "        \n",
    "print(count)\n",
    "        "
   ]
  },
  {
   "cell_type": "code",
   "execution_count": 66,
   "id": "e17c266d",
   "metadata": {},
   "outputs": [
    {
     "ename": "SyntaxError",
     "evalue": "invalid syntax (2009173911.py, line 6)",
     "output_type": "error",
     "traceback": [
      "\u001b[1;36m  Cell \u001b[1;32mIn[66], line 6\u001b[1;36m\u001b[0m\n\u001b[1;33m    vowel_freq.update('char':1)\u001b[0m\n\u001b[1;37m                            ^\u001b[0m\n\u001b[1;31mSyntaxError\u001b[0m\u001b[1;31m:\u001b[0m invalid syntax\n"
     ]
    }
   ],
   "source": [
    "l = list(str1)\n",
    "vowel_freq = {}\n",
    "\n",
    "for char in l:\n",
    "    if char in ['a','e','i','o','u','A','E','I','O','U'] and char not in vowel_freq.keys() :\n",
    "        vowel_freq.update('char':1)\n",
    "        \n",
    "print(count)"
   ]
  },
  {
   "cell_type": "code",
   "execution_count": 77,
   "id": "82b074b6",
   "metadata": {},
   "outputs": [
    {
     "name": "stdout",
     "output_type": "stream",
     "text": [
      "Vowel frequency in the string:\n",
      "{'i': 3, 'a': 2, 'e': 1}\n"
     ]
    }
   ],
   "source": [
    "str1 = \"This is a sample string\"\n",
    "l = list(str1)\n",
    "vowel_freq = {}\n",
    "\n",
    "for char in l:\n",
    "    if char in ['a', 'e', 'i', 'o', 'u', 'A', 'E', 'I', 'O', 'U']:\n",
    "        if char not in vowel_freq:\n",
    "            vowel_freq.update({char:1})\n",
    "        else:\n",
    "            vowel_freq[char] += 1\n",
    "\n",
    "print(\"Vowel frequency in the string:\")\n",
    "print(vowel_freq)\n"
   ]
  },
  {
   "cell_type": "code",
   "execution_count": 85,
   "id": "f874ed48",
   "metadata": {},
   "outputs": [
    {
     "name": "stdout",
     "output_type": "stream",
     "text": [
      "[3, 3, 3]\n"
     ]
    }
   ],
   "source": [
    "l = [3,4,5,3]\n",
    "\n",
    "o_l = []\n",
    "\n",
    "for i in range(len(l)):\n",
    "    if l[i] in o_l:\n",
    "        i += 1\n",
    "        continue\n",
    "        \n",
    "    else:\n",
    "        o_l.insert(i,num)\n",
    "        i+=1\n",
    "        \n",
    "print(o_l)"
   ]
  },
  {
   "cell_type": "code",
   "execution_count": 87,
   "id": "8a936811",
   "metadata": {},
   "outputs": [
    {
     "name": "stdout",
     "output_type": "stream",
     "text": [
      "0\n"
     ]
    }
   ],
   "source": [
    "l = [6,-2,5,8,0]\n",
    "\n",
    "min_num = l[0]\n",
    "sec_min = float('inf')\n",
    "\n",
    "for num in l:\n",
    "    if num < min_num:\n",
    "        sec_min = min_num\n",
    "        min_num = num\n",
    "        \n",
    "    elif num < sec_min and num != min_num:\n",
    "        sec_min = num\n",
    "        \n",
    "print(sec_min)"
   ]
  },
  {
   "cell_type": "code",
   "execution_count": null,
   "id": "09e1aa15",
   "metadata": {},
   "outputs": [],
   "source": [
    "for num in input_list:\n",
    "        if num < min_num:\n",
    "            second_min = min_num\n",
    "            min_num = num\n",
    "        elif num < second_min and num != min_num:\n",
    "            second_min = num"
   ]
  }
 ],
 "metadata": {
  "kernelspec": {
   "display_name": "Python 3 (ipykernel)",
   "language": "python",
   "name": "python3"
  },
  "language_info": {
   "codemirror_mode": {
    "name": "ipython",
    "version": 3
   },
   "file_extension": ".py",
   "mimetype": "text/x-python",
   "name": "python",
   "nbconvert_exporter": "python",
   "pygments_lexer": "ipython3",
   "version": "3.10.9"
  }
 },
 "nbformat": 4,
 "nbformat_minor": 5
}
