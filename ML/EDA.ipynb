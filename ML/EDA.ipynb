{
 "cells": [
  {
   "cell_type": "markdown",
   "id": "3ad45978",
   "metadata": {},
   "source": [
    "Exploratory Data Analysis  \n",
    "\n",
    "A. Handling raw data\n",
    "\n",
    "    1. Numerical features may be there.(histograms,pdf)\n",
    "    2. Categorical features\n",
    "    3. Missing values\n",
    "    4. Outliers (Box plot)\n",
    "    5. Cleaning\n",
    "\n",
    "B. Handling missing values\n",
    "\n",
    "    Mean, median n mode\n",
    "\n",
    "C. Handling imbalanced dataset\n",
    "\n",
    "D. Treating the outliers\n",
    "\n",
    "E. Scaling the dataset(standardization, normalisation....)\n",
    "\n",
    "F. Converting categorical features to numerical features "
   ]
  }
 ],
 "metadata": {
  "kernelspec": {
   "display_name": "Python 3 (ipykernel)",
   "language": "python",
   "name": "python3"
  },
  "language_info": {
   "codemirror_mode": {
    "name": "ipython",
    "version": 3
   },
   "file_extension": ".py",
   "mimetype": "text/x-python",
   "name": "python",
   "nbconvert_exporter": "python",
   "pygments_lexer": "ipython3",
   "version": "3.10.9"
  }
 },
 "nbformat": 4,
 "nbformat_minor": 5
}
